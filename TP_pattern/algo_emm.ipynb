{
 "cells": [
  {
   "cell_type": "markdown",
   "id": "e6a2223c",
   "metadata": {},
   "source": [
    "# Application de la découverte de motifs pour l’analyse de parties de Tennis de Table"
   ]
  },
  {
   "cell_type": "code",
   "execution_count": 1,
   "id": "0ef565e2",
   "metadata": {},
   "outputs": [],
   "source": [
    "# import libraries\n",
    "import pandas as pd\n",
    "import numpy as np\n",
    "import sys\n",
    "sys.path.insert(0, './emm')\n",
    "import EMM as emm"
   ]
  },
  {
   "cell_type": "code",
   "execution_count": 2,
   "id": "759d71ff",
   "metadata": {},
   "outputs": [],
   "source": [
    "# import data\n",
    "data = pd.read_csv(\"TT_game.csv\", sep = \";\",\n",
    "                   dtype={\n",
    "                          \"Nom\": str,\n",
    "                          \"Position\": str,\n",
    "                          \"Durée\": str,\n",
    "                          \"Genre\": str,\n",
    "                          \"Latéralité\": str,\n",
    "                          \"Set\": str,\n",
    "                          \"Système\": str,\n",
    "                          \"Coup\": str,\n",
    "                          \"Nbre de coups par point\": np.float64,\n",
    "                          \"Durée du point\": str,\n",
    "                          \"Score\": str,\n",
    "                          \"Points F\": np.float64,\n",
    "                          \"Points B\": np.float64,\n",
    "                          \"Type de service\": str,\n",
    "                          \"Type Coup TK\": str,\n",
    "                          \"Zone de jeu\": str\n",
    "})"
   ]
  },
  {
   "cell_type": "code",
   "execution_count": 3,
   "id": "537799da",
   "metadata": {},
   "outputs": [],
   "source": [
    "# convert to deltatime\n",
    "data['Position'] = pd.to_timedelta(data['Position'])\n",
    "data['Durée'] = pd.to_timedelta(data['Durée'])"
   ]
  },
  {
   "cell_type": "code",
   "execution_count": 4,
   "id": "6d09e6e2",
   "metadata": {},
   "outputs": [],
   "source": [
    "# convert deltatime format to float\n",
    "data[\"Position\"] = (data[\"Position\"] / np.timedelta64(10**9,'ns')).astype(float)\n",
    "data[\"Durée\"] = (data[\"Durée\"] / np.timedelta64(10**9,'ns')).astype(float)"
   ]
  },
  {
   "cell_type": "code",
   "execution_count": 5,
   "id": "e119e6dd",
   "metadata": {},
   "outputs": [],
   "source": [
    "# clean \"Set\" column\n",
    "for index, row in data.iterrows():\n",
    "    val = row[\"Nom\"]\n",
    "    if val.startswith(\"SET\"):\n",
    "        set_nb = val.split(\"(\")[1][:1]\n",
    "    data.at[index, \"Set\"] = set_nb"
   ]
  },
  {
   "cell_type": "code",
   "execution_count": 6,
   "id": "be6137e5",
   "metadata": {},
   "outputs": [],
   "source": [
    "# data.head(20)"
   ]
  },
  {
   "cell_type": "code",
   "execution_count": 7,
   "id": "a029ac5a",
   "metadata": {},
   "outputs": [],
   "source": [
    "columns = [\"Duree\", \"coup_droit_player_1\", \"coup_droit_player_2\", \"revers_player_1\", \"revers_player_2\", \"Nb_coups\", \"Set\", \\\n",
    "           \"Gagnant_ou_pas\", \"Service\", \"controle_player_1\", \"controle_player_2\", \"attaque_player_1\", \"attaque_player_2\", \\\n",
    "           \"poussette_player_1\", \"poussette_player_2\", \"M1_envoie\", \"M1_reception\", \"M2_envoie\", \"M2_reception\", \\\n",
    "           \"M3_envoie\", \"M3_reception\",\"D1_envoie\", \"D1_reception\", \"D2_envoie\", \"D2_reception\", \"D3_envoie\",\\\n",
    "           \"D3_reception\", \"G1_envoie\", \"G1_reception\", \"G2_envoie\", \"G2_reception\", \"G3_envoie\", \\\n",
    "           \"G3_reception\", \"Gagnant\"]"
   ]
  },
  {
   "cell_type": "code",
   "execution_count": 8,
   "id": "efd6f19b",
   "metadata": {},
   "outputs": [],
   "source": [
    "# # total number of pts\n",
    "# nb_pts = data[\"Points F\"].dropna()\n",
    "# nb_pts = len(nb_pts)\n",
    "\n",
    "# # indices of pts row in the original df\n",
    "# pts_indices = list(data[data[\"Points F\"].notna()].index)\n",
    "# pts_indices = [x + 1 for x in pts_indices] # to match df index\n",
    "# pts_indices.insert(0, 0)"
   ]
  },
  {
   "cell_type": "code",
   "execution_count": 9,
   "id": "2336d98c",
   "metadata": {},
   "outputs": [],
   "source": [
    "# compute the number of hits for each point\n",
    "c = 0\n",
    "for index, row in data.iterrows():\n",
    "    if (row[\"Coup\"] != \"F.T.\") and (row[\"Coup\"] != \"B.T.\"):\n",
    "        c = 0\n",
    "        data.at[index, \"Nbre de coups par point\"] = c\n",
    "    else:\n",
    "        c += 1\n",
    "        data.at[index, \"Nbre de coups par point\"] = c\n",
    "data[\"Nbre de coups par point\"] = pd.to_numeric(data[\"Nbre de coups par point\"]).astype(int)  "
   ]
  },
  {
   "cell_type": "code",
   "execution_count": 10,
   "id": "29c26ec2",
   "metadata": {},
   "outputs": [],
   "source": [
    "# data.head(10)"
   ]
  },
  {
   "cell_type": "code",
   "execution_count": 11,
   "id": "e116b78e",
   "metadata": {},
   "outputs": [],
   "source": [
    "def pts_time(point):\n",
    "    \"\"\"\n",
    "    Return the elapsed time for the point.\n",
    "    \"\"\"\n",
    "    time = 0.000\n",
    "    for index, row in point.iterrows():\n",
    "        if index != 0:\n",
    "            time += row[\"Durée\"]\n",
    "    return time\n",
    "\n",
    "def class_time(time, quantiles):\n",
    "    \"\"\"\n",
    "    Define the time of the point as class.\n",
    "    \"\"\"\n",
    "    if time < quantiles[0]:\n",
    "        return \"short\"\n",
    "    elif time >= quantiles[0] and time <= quantiles[2]:\n",
    "        return \"middle\"\n",
    "    elif time > quantiles[2]:\n",
    "        return \"long\"\n",
    "    \n",
    "def pts_score(point, player):\n",
    "    \"\"\"\n",
    "    Return a string that define the player that is winning the set.\n",
    "    '<': player F.T. is winning\n",
    "    '>': player B.T. is winning\n",
    "    '=': draw\n",
    "    \"\"\"\n",
    "    if player == \"F\":\n",
    "        score_player1 = int(point.iloc[-1][\"Points F\"])\n",
    "        score_player2 = int(point.iloc[-1][\"Points B\"])\n",
    "    else:\n",
    "        score_player1 = int(point.iloc[-1][\"Points B\"])\n",
    "        score_player2 = int(point.iloc[-1][\"Points F\"])\n",
    "        \n",
    "    if score_player1 < score_player2:\n",
    "        return \"<\"\n",
    "    elif score_player1 > score_player2:\n",
    "        return \">\"\n",
    "    else:\n",
    "        return \"=\"\n",
    "    \n",
    "def pts_service(point, player):\n",
    "    \"\"\"\n",
    "    Return a string that decode who did the service and the side\n",
    "    \"\"\"\n",
    "    service = point[point[\"Type de service\"].notna()][\"Type de service\"].tolist()\n",
    "    try:\n",
    "        # if a net is done, it keeps only the last service\n",
    "        if service[-1] == \"Serveur Point - 8-4+I216:I223\":\n",
    "            service = service[-2]\n",
    "        else:\n",
    "            service = service[-1]\n",
    "    except:\n",
    "        service = np.nan # if double fault\n",
    "    player_c =  point[point[\"Coup\"].notna()][\"Coup\"].tolist()[0]\n",
    "    if player == player_c[0]:\n",
    "        player = \"player1\"\n",
    "    else:\n",
    "        player = \"player2\"\n",
    "    service = str(player) + \" - \" + str(service)\n",
    "    return service\n",
    "\n",
    "def point_winner(point, player): \n",
    "    \"\"\"\n",
    "    Define if the player has won the point or not. Return a boolean.\n",
    "    \"\"\"\n",
    "    win = point.iloc[-1][\"Coup\"]\n",
    "    service = pts_service(point, player)\n",
    "    has_service = service.split(\" \")[0] # get the player that have done the service\n",
    "\n",
    "    if (has_service == \"player1\" and win.split(\" \")[-1] == \"-\") or (has_service == \"player2\" and win.split(\" \")[-1] == \"+\"):\n",
    "        return \"No\"\n",
    "    elif (has_service == \"player1\" and win.split(\" \")[-1] == \"+\") or (has_service == \"player2\" and win.split(\" \")[-1] == \"-\"):\n",
    "        return \"Yes\""
   ]
  },
  {
   "cell_type": "code",
   "execution_count": 12,
   "id": "0f91524c",
   "metadata": {},
   "outputs": [],
   "source": [
    "def df_player(player, data):\n",
    "    \"\"\"\n",
    "    player: 'F' or 'B'\n",
    "    data: dataframe\n",
    "    \"\"\"\n",
    "    player_data = pd.DataFrame(columns=columns) # df initialisation\n",
    "    \n",
    "    if player == \"F\":\n",
    "        player1 = \"F.T.\"\n",
    "        player2 = \"B.T.\"\n",
    "    elif player == \"B\":\n",
    "        player1 = \"B.T.\"\n",
    "        player2 = \"F.T.\" \n",
    "    \n",
    "    # total number of pts\n",
    "    nb_pts = data[\"Points F\"].dropna()\n",
    "    nb_pts = len(nb_pts)\n",
    "\n",
    "    # indices of pts row in the original df\n",
    "    pts_indices = list(data[data[\"Points F\"].notna()].index)\n",
    "    pts_indices = [x + 1 for x in pts_indices] # to match df index\n",
    "    pts_indices.insert(0, 0)\n",
    "\n",
    "    # vector with time for each point\n",
    "    times = []                \n",
    "    for i in range(0, len(pts_indices)):\n",
    "        try:\n",
    "            point = data[pts_indices[i]:pts_indices[i+1]] # extract info for one point\n",
    "        except:\n",
    "            break # last point analysed\n",
    "        \n",
    "        times.append(pts_time(point))\n",
    "    quantiles = np.quantile(times, [0.25, 0.5, 0.75])\n",
    "    \n",
    "    for i in range(0, len(pts_indices)):\n",
    "        try:\n",
    "            point = data[pts_indices[i]:pts_indices[i+1]] # extract info for one point\n",
    "        except:\n",
    "            break # last point analysed\n",
    "            \n",
    "        coup_droit_player1 = len(point[(point[\"Latéralité\"] == \"Coup droit\") & (point[\"Nom\"].str.startswith(player1))])\n",
    "        coup_droit_player2 = len(point[(point[\"Latéralité\"] == \"Coup droit\") & (point[\"Nom\"].str.startswith(player2))])\n",
    "        revers_player1 = len(point[(point[\"Latéralité\"] == \"Revers\") & (point[\"Nom\"].str.startswith(player1))])\n",
    "        revers_player2 = len(point[(point[\"Latéralité\"] == \"Revers\") & (point[\"Nom\"].str.startswith(player2))])\n",
    "        time = class_time(times[i-1], quantiles)\n",
    "        nb_hit = len(point)\n",
    "        Set = point[\"Set\"].unique()[0]\n",
    "        score = pts_score(point, player) # if he is winning the set or not\n",
    "        service = pts_service(point, player)\n",
    "        controle_player1 = len(point[(point[\"Type Coup TK\"] == \"Controle / Résistance\") & (point[\"Nom\"].str.startswith(player1))])\n",
    "        controle_player2 = len(point[(point[\"Type Coup TK\"] == \"Controle / Résistance\") & (point[\"Nom\"].str.startswith(player2))])\n",
    "        attaque_player1 = len(point[(point[\"Type Coup TK\"] == \"Attaque / Offensif\") & (point[\"Nom\"].str.startswith(player1))])\n",
    "        attaque_player2 = len(point[(point[\"Type Coup TK\"] == \"Attaque / Offensif\") & (point[\"Nom\"].str.startswith(player2))])\n",
    "        poussette_player1 = len(point[(point[\"Type Coup TK\"] == \"Poussette\") & (point[\"Nom\"].str.startswith(player1))])\n",
    "        poussette_player2 = len(point[(point[\"Type Coup TK\"] == \"Poussette\") & (point[\"Nom\"].str.startswith(player2))])\n",
    "        M1_send = len(point[(point[\"Zone de jeu\"] == \"M1\") & (point[\"Nom\"].str.startswith(player2))])\n",
    "        M1_reception = len(point[(point[\"Zone de jeu\"] == \"M1\") & (point[\"Nom\"].str.startswith(player1))])\n",
    "        M2_send = len(point[(point[\"Zone de jeu\"] == \"M2\") & (point[\"Nom\"].str.startswith(player2))])\n",
    "        M2_reception = len(point[(point[\"Zone de jeu\"] == \"M2\") & (point[\"Nom\"].str.startswith(player1))])\n",
    "        M3_send = len(point[(point[\"Zone de jeu\"] == \"M3\") & (point[\"Nom\"].str.startswith(player2))])\n",
    "        M3_reception = len(point[(point[\"Zone de jeu\"] == \"M3\") & (point[\"Nom\"].str.startswith(player1))])\n",
    "        D1_send = len(point[(point[\"Zone de jeu\"] == \"D1\") & (point[\"Nom\"].str.startswith(player2))])\n",
    "        D1_reception = len(point[(point[\"Zone de jeu\"] == \"D1\") & (point[\"Nom\"].str.startswith(player1))])\n",
    "        D2_send = len(point[(point[\"Zone de jeu\"] == \"D2\") & (point[\"Nom\"].str.startswith(player2))])\n",
    "        D2_reception = len(point[(point[\"Zone de jeu\"] == \"D2\") & (point[\"Nom\"].str.startswith(player1))])\n",
    "        D3_send = len(point[(point[\"Zone de jeu\"] == \"D3\") & (point[\"Nom\"].str.startswith(player2))])\n",
    "        D3_reception = len(point[(point[\"Zone de jeu\"] == \"D3\") & (point[\"Nom\"].str.startswith(player1))])    \n",
    "        G1_send = len(point[(point[\"Zone de jeu\"] == \"G1\") & (point[\"Nom\"].str.startswith(player2))])\n",
    "        G1_reception = len(point[(point[\"Zone de jeu\"] == \"G1\") & (point[\"Nom\"].str.startswith(player1))])\n",
    "        G2_send = len(point[(point[\"Zone de jeu\"] == \"G2\") & (point[\"Nom\"].str.startswith(player2))])\n",
    "        G2_reception = len(point[(point[\"Zone de jeu\"] == \"G2\") & (point[\"Nom\"].str.startswith(player1))])\n",
    "        G3_send = len(point[(point[\"Zone de jeu\"] == \"G3\") & (point[\"Nom\"].str.startswith(player2))])\n",
    "        G3_reception = len(point[(point[\"Zone de jeu\"] == \"G3\") & (point[\"Nom\"].str.startswith(player1))])\n",
    "        win = point_winner(point, player)\n",
    "\n",
    "        player_data = player_data.append({\"Duree\": time, \"coup_droit_player_1\": coup_droit_player1, \"coup_droit_player_2\": coup_droit_player2, \\\n",
    "            \"revers_player_1\": revers_player1, \"revers_player_2\": revers_player2, \"Nb_coups\": nb_hit, \"Set\": Set, \\\n",
    "            \"Gagnant_ou_pas\": score, \"Service\": service, \"controle_player_1\": controle_player1, \"controle_player_2\": controle_player2, \\\n",
    "            \"attaque_player_1\": attaque_player1, \"attaque_player_2\": attaque_player2, \"poussette_player_1\": poussette_player1, \\\n",
    "            \"poussette_player_2\": poussette_player2, \"M1_envoie\": M1_send, \"M1_reception\": M1_reception, \\\n",
    "            \"M2_envoie\": M2_send, \"M2_reception\": M2_reception, \"M3_envoie\": M3_send, \\\n",
    "            \"M3_reception\": M3_reception, \"D1_envoie\": D1_send, \"D1_reception\": D1_reception, \"D2_envoie\": D2_send, \\\n",
    "            \"D2_reception\": D2_reception, \"D3_envoie\": D3_send, \"D3_reception\": D3_reception, \"G1_envoie\": G1_send, \\\n",
    "            \"G1_reception\": G1_reception, \"G2_envoie\": G2_send, \"G2_reception\": G2_reception, \"G3_envoie\": G3_send, \\\n",
    "            \"G3_reception\": G3_reception, \"Gagnant\": win}, ignore_index=True)\n",
    "        \n",
    "    return player_data"
   ]
  },
  {
   "cell_type": "markdown",
   "id": "b6509fdf",
   "metadata": {},
   "source": [
    "## Déscription de la fonction permettant de formater les données\n",
    "\n",
    "Cette fonction permet de construire un tableau pour un joueur donné, où chaque ligne correspond à un point joué. Pour chaque point seront detaillés les attributs suivant:\n",
    "- la __durée__ du point selon un intervalle (si le point a été de: __courte__, __moyenne__ ou __longue__ durée) $\\Rightarrow$ colonne <u>Duree</u>;\n",
    "- nb de __coups droits__ du jouer selectionné lors du point $\\Rightarrow$ colonne <u>coup_droit_player_1</u>:\n",
    "    - de même pour l'autre joueur <u>coup_droit_player_2</u>;\n",
    "- nb de coups __revers__ du jouer  selectionné lors du point $\\Rightarrow$ colonne <u>revers_player_1</u>:\n",
    "    - de même pour l'autre joueur <u>revers_player_2</u>;\n",
    "- nb de __coups effectués__ (par l'ensemble des joueurs) $\\Rightarrow$ colonne <u>Nb_coups</u>;\n",
    "- numéro du __set__ dans lequel le point est joué (au total 5 set) $\\Rightarrow$ colonne <u>Set</u>;\n",
    "- la __progression du set__, si après le point considéré, le joueur selectionné est en train de remporter ou pas le set ('__<__': s'il est en train de perdre le set, '__>__': s'il est en train de gagner le set, '__=__': si les deux joueur ont le même score) $\\Rightarrow$ colonne <u>Gagnant_ou_pas</u>;\n",
    "- qui a effectué le __service__ et de quel côté $\\Rightarrow$ colonne <u>Service</u>;\n",
    "- nb de fois que le joueur selectionné a joué en __controle__ $\\Rightarrow$ colonne <u>controle_player_1</u>:\n",
    "    - de même pour l'autre joueu, colonne <u>controle_player_2</u>;\n",
    "- nb de fois que le joueur selectionné a joué en __attaque__ $\\Rightarrow$ colonne <u>attaque_player_1</u>:\n",
    "    - de même pour l'autre joueu, colonne <u>attaque_player_1</u>;\n",
    "- nb de fois que le joueur selectionné a joué avec une __poussette__ $\\Rightarrow$ colonne <u>poussette_player_1</u>:    \n",
    "    - de même pour l'autre joueu, colonne <u>poussette_player_2</u>;\n",
    "- nb de fois que le jouer __a envoyé__ la balle dans la zone __M1__ lors du point $\\Rightarrow$ colonne <u>M1_envoie</u>:\n",
    "    - de même pour les autres zones de jeu $\\Rightarrow$ colonnes <u>M2_envoie</u>, <u>M3_envoie</u>, etc;\n",
    "- nb de fois que le jouer __a reçu__ la balle dans la zone __M1__ lors du point $\\Rightarrow$ colonne <u>M1_reception</u>:     \n",
    "    - de même pour les autres zones de jeu $\\Rightarrow$ colonnes <u>M2_reception</u>, <u>M3_reception</u>, etc;"
   ]
  },
  {
   "cell_type": "markdown",
   "id": "d549f8be",
   "metadata": {},
   "source": [
    "## <u>Pour le joueur F.T.</u>"
   ]
  },
  {
   "cell_type": "code",
   "execution_count": 13,
   "id": "1cd804ea",
   "metadata": {},
   "outputs": [],
   "source": [
    "ft_data = df_player(\"F\", data)"
   ]
  },
  {
   "cell_type": "code",
   "execution_count": 14,
   "id": "73c90ec3",
   "metadata": {},
   "outputs": [
    {
     "data": {
      "text/html": [
       "<div>\n",
       "<style scoped>\n",
       "    .dataframe tbody tr th:only-of-type {\n",
       "        vertical-align: middle;\n",
       "    }\n",
       "\n",
       "    .dataframe tbody tr th {\n",
       "        vertical-align: top;\n",
       "    }\n",
       "\n",
       "    .dataframe thead th {\n",
       "        text-align: right;\n",
       "    }\n",
       "</style>\n",
       "<table border=\"1\" class=\"dataframe\">\n",
       "  <thead>\n",
       "    <tr style=\"text-align: right;\">\n",
       "      <th></th>\n",
       "      <th>Duree</th>\n",
       "      <th>coup_droit_player_1</th>\n",
       "      <th>coup_droit_player_2</th>\n",
       "      <th>revers_player_1</th>\n",
       "      <th>revers_player_2</th>\n",
       "      <th>Nb_coups</th>\n",
       "      <th>Set</th>\n",
       "      <th>Gagnant_ou_pas</th>\n",
       "      <th>Service</th>\n",
       "      <th>controle_player_1</th>\n",
       "      <th>...</th>\n",
       "      <th>D2_reception</th>\n",
       "      <th>D3_envoie</th>\n",
       "      <th>D3_reception</th>\n",
       "      <th>G1_envoie</th>\n",
       "      <th>G1_reception</th>\n",
       "      <th>G2_envoie</th>\n",
       "      <th>G2_reception</th>\n",
       "      <th>G3_envoie</th>\n",
       "      <th>G3_reception</th>\n",
       "      <th>Gagnant</th>\n",
       "    </tr>\n",
       "  </thead>\n",
       "  <tbody>\n",
       "    <tr>\n",
       "      <th>0</th>\n",
       "      <td>long</td>\n",
       "      <td>1</td>\n",
       "      <td>1</td>\n",
       "      <td>3</td>\n",
       "      <td>2</td>\n",
       "      <td>8</td>\n",
       "      <td>1</td>\n",
       "      <td>&lt;</td>\n",
       "      <td>player1 - Latéral droit</td>\n",
       "      <td>1</td>\n",
       "      <td>...</td>\n",
       "      <td>0</td>\n",
       "      <td>0</td>\n",
       "      <td>0</td>\n",
       "      <td>0</td>\n",
       "      <td>0</td>\n",
       "      <td>0</td>\n",
       "      <td>0</td>\n",
       "      <td>1</td>\n",
       "      <td>1</td>\n",
       "      <td>No</td>\n",
       "    </tr>\n",
       "    <tr>\n",
       "      <th>1</th>\n",
       "      <td>short</td>\n",
       "      <td>2</td>\n",
       "      <td>2</td>\n",
       "      <td>1</td>\n",
       "      <td>0</td>\n",
       "      <td>5</td>\n",
       "      <td>1</td>\n",
       "      <td>&lt;</td>\n",
       "      <td>player1 - Latéral droit</td>\n",
       "      <td>1</td>\n",
       "      <td>...</td>\n",
       "      <td>0</td>\n",
       "      <td>0</td>\n",
       "      <td>1</td>\n",
       "      <td>0</td>\n",
       "      <td>0</td>\n",
       "      <td>0</td>\n",
       "      <td>0</td>\n",
       "      <td>0</td>\n",
       "      <td>1</td>\n",
       "      <td>No</td>\n",
       "    </tr>\n",
       "    <tr>\n",
       "      <th>2</th>\n",
       "      <td>middle</td>\n",
       "      <td>0</td>\n",
       "      <td>3</td>\n",
       "      <td>2</td>\n",
       "      <td>0</td>\n",
       "      <td>5</td>\n",
       "      <td>1</td>\n",
       "      <td>&lt;</td>\n",
       "      <td>player2 - Latéral gauche</td>\n",
       "      <td>0</td>\n",
       "      <td>...</td>\n",
       "      <td>0</td>\n",
       "      <td>0</td>\n",
       "      <td>0</td>\n",
       "      <td>0</td>\n",
       "      <td>0</td>\n",
       "      <td>0</td>\n",
       "      <td>0</td>\n",
       "      <td>1</td>\n",
       "      <td>1</td>\n",
       "      <td>Yes</td>\n",
       "    </tr>\n",
       "    <tr>\n",
       "      <th>3</th>\n",
       "      <td>middle</td>\n",
       "      <td>1</td>\n",
       "      <td>1</td>\n",
       "      <td>0</td>\n",
       "      <td>1</td>\n",
       "      <td>3</td>\n",
       "      <td>1</td>\n",
       "      <td>=</td>\n",
       "      <td>player2 - Latéral droit</td>\n",
       "      <td>0</td>\n",
       "      <td>...</td>\n",
       "      <td>0</td>\n",
       "      <td>0</td>\n",
       "      <td>0</td>\n",
       "      <td>0</td>\n",
       "      <td>0</td>\n",
       "      <td>0</td>\n",
       "      <td>0</td>\n",
       "      <td>0</td>\n",
       "      <td>0</td>\n",
       "      <td>Yes</td>\n",
       "    </tr>\n",
       "    <tr>\n",
       "      <th>4</th>\n",
       "      <td>short</td>\n",
       "      <td>1</td>\n",
       "      <td>1</td>\n",
       "      <td>1</td>\n",
       "      <td>0</td>\n",
       "      <td>3</td>\n",
       "      <td>1</td>\n",
       "      <td>&lt;</td>\n",
       "      <td>player1 - Latéral droit</td>\n",
       "      <td>1</td>\n",
       "      <td>...</td>\n",
       "      <td>0</td>\n",
       "      <td>0</td>\n",
       "      <td>0</td>\n",
       "      <td>0</td>\n",
       "      <td>0</td>\n",
       "      <td>0</td>\n",
       "      <td>0</td>\n",
       "      <td>0</td>\n",
       "      <td>1</td>\n",
       "      <td>No</td>\n",
       "    </tr>\n",
       "    <tr>\n",
       "      <th>...</th>\n",
       "      <td>...</td>\n",
       "      <td>...</td>\n",
       "      <td>...</td>\n",
       "      <td>...</td>\n",
       "      <td>...</td>\n",
       "      <td>...</td>\n",
       "      <td>...</td>\n",
       "      <td>...</td>\n",
       "      <td>...</td>\n",
       "      <td>...</td>\n",
       "      <td>...</td>\n",
       "      <td>...</td>\n",
       "      <td>...</td>\n",
       "      <td>...</td>\n",
       "      <td>...</td>\n",
       "      <td>...</td>\n",
       "      <td>...</td>\n",
       "      <td>...</td>\n",
       "      <td>...</td>\n",
       "      <td>...</td>\n",
       "      <td>...</td>\n",
       "    </tr>\n",
       "    <tr>\n",
       "      <th>102</th>\n",
       "      <td>middle</td>\n",
       "      <td>1</td>\n",
       "      <td>0</td>\n",
       "      <td>1</td>\n",
       "      <td>2</td>\n",
       "      <td>4</td>\n",
       "      <td>5</td>\n",
       "      <td>&gt;</td>\n",
       "      <td>player1 - Latéral droit</td>\n",
       "      <td>0</td>\n",
       "      <td>...</td>\n",
       "      <td>0</td>\n",
       "      <td>1</td>\n",
       "      <td>0</td>\n",
       "      <td>1</td>\n",
       "      <td>0</td>\n",
       "      <td>0</td>\n",
       "      <td>0</td>\n",
       "      <td>0</td>\n",
       "      <td>1</td>\n",
       "      <td>Yes</td>\n",
       "    </tr>\n",
       "    <tr>\n",
       "      <th>103</th>\n",
       "      <td>middle</td>\n",
       "      <td>2</td>\n",
       "      <td>1</td>\n",
       "      <td>0</td>\n",
       "      <td>1</td>\n",
       "      <td>4</td>\n",
       "      <td>5</td>\n",
       "      <td>&gt;</td>\n",
       "      <td>player2 - Latéral droit</td>\n",
       "      <td>0</td>\n",
       "      <td>...</td>\n",
       "      <td>0</td>\n",
       "      <td>0</td>\n",
       "      <td>1</td>\n",
       "      <td>0</td>\n",
       "      <td>0</td>\n",
       "      <td>0</td>\n",
       "      <td>0</td>\n",
       "      <td>0</td>\n",
       "      <td>0</td>\n",
       "      <td>No</td>\n",
       "    </tr>\n",
       "    <tr>\n",
       "      <th>104</th>\n",
       "      <td>middle</td>\n",
       "      <td>1</td>\n",
       "      <td>3</td>\n",
       "      <td>1</td>\n",
       "      <td>0</td>\n",
       "      <td>5</td>\n",
       "      <td>5</td>\n",
       "      <td>&gt;</td>\n",
       "      <td>player2 - Latéral droit</td>\n",
       "      <td>0</td>\n",
       "      <td>...</td>\n",
       "      <td>0</td>\n",
       "      <td>0</td>\n",
       "      <td>0</td>\n",
       "      <td>0</td>\n",
       "      <td>0</td>\n",
       "      <td>0</td>\n",
       "      <td>0</td>\n",
       "      <td>0</td>\n",
       "      <td>0</td>\n",
       "      <td>No</td>\n",
       "    </tr>\n",
       "    <tr>\n",
       "      <th>105</th>\n",
       "      <td>middle</td>\n",
       "      <td>2</td>\n",
       "      <td>1</td>\n",
       "      <td>1</td>\n",
       "      <td>0</td>\n",
       "      <td>4</td>\n",
       "      <td>5</td>\n",
       "      <td>&gt;</td>\n",
       "      <td>player1 - Latéral droit</td>\n",
       "      <td>1</td>\n",
       "      <td>...</td>\n",
       "      <td>0</td>\n",
       "      <td>0</td>\n",
       "      <td>0</td>\n",
       "      <td>0</td>\n",
       "      <td>0</td>\n",
       "      <td>0</td>\n",
       "      <td>0</td>\n",
       "      <td>0</td>\n",
       "      <td>1</td>\n",
       "      <td>No</td>\n",
       "    </tr>\n",
       "    <tr>\n",
       "      <th>106</th>\n",
       "      <td>long</td>\n",
       "      <td>2</td>\n",
       "      <td>1</td>\n",
       "      <td>0</td>\n",
       "      <td>1</td>\n",
       "      <td>4</td>\n",
       "      <td>5</td>\n",
       "      <td>&gt;</td>\n",
       "      <td>player1 - Latéral droit</td>\n",
       "      <td>1</td>\n",
       "      <td>...</td>\n",
       "      <td>0</td>\n",
       "      <td>0</td>\n",
       "      <td>1</td>\n",
       "      <td>0</td>\n",
       "      <td>0</td>\n",
       "      <td>0</td>\n",
       "      <td>0</td>\n",
       "      <td>0</td>\n",
       "      <td>0</td>\n",
       "      <td>Yes</td>\n",
       "    </tr>\n",
       "  </tbody>\n",
       "</table>\n",
       "<p>107 rows × 34 columns</p>\n",
       "</div>"
      ],
      "text/plain": [
       "      Duree coup_droit_player_1 coup_droit_player_2 revers_player_1  \\\n",
       "0      long                   1                   1               3   \n",
       "1     short                   2                   2               1   \n",
       "2    middle                   0                   3               2   \n",
       "3    middle                   1                   1               0   \n",
       "4     short                   1                   1               1   \n",
       "..      ...                 ...                 ...             ...   \n",
       "102  middle                   1                   0               1   \n",
       "103  middle                   2                   1               0   \n",
       "104  middle                   1                   3               1   \n",
       "105  middle                   2                   1               1   \n",
       "106    long                   2                   1               0   \n",
       "\n",
       "    revers_player_2 Nb_coups Set Gagnant_ou_pas                   Service  \\\n",
       "0                 2        8   1              <   player1 - Latéral droit   \n",
       "1                 0        5   1              <   player1 - Latéral droit   \n",
       "2                 0        5   1              <  player2 - Latéral gauche   \n",
       "3                 1        3   1              =   player2 - Latéral droit   \n",
       "4                 0        3   1              <   player1 - Latéral droit   \n",
       "..              ...      ...  ..            ...                       ...   \n",
       "102               2        4   5              >   player1 - Latéral droit   \n",
       "103               1        4   5              >   player2 - Latéral droit   \n",
       "104               0        5   5              >   player2 - Latéral droit   \n",
       "105               0        4   5              >   player1 - Latéral droit   \n",
       "106               1        4   5              >   player1 - Latéral droit   \n",
       "\n",
       "    controle_player_1  ... D2_reception D3_envoie D3_reception G1_envoie  \\\n",
       "0                   1  ...            0         0            0         0   \n",
       "1                   1  ...            0         0            1         0   \n",
       "2                   0  ...            0         0            0         0   \n",
       "3                   0  ...            0         0            0         0   \n",
       "4                   1  ...            0         0            0         0   \n",
       "..                ...  ...          ...       ...          ...       ...   \n",
       "102                 0  ...            0         1            0         1   \n",
       "103                 0  ...            0         0            1         0   \n",
       "104                 0  ...            0         0            0         0   \n",
       "105                 1  ...            0         0            0         0   \n",
       "106                 1  ...            0         0            1         0   \n",
       "\n",
       "    G1_reception G2_envoie G2_reception G3_envoie G3_reception Gagnant  \n",
       "0              0         0            0         1            1      No  \n",
       "1              0         0            0         0            1      No  \n",
       "2              0         0            0         1            1     Yes  \n",
       "3              0         0            0         0            0     Yes  \n",
       "4              0         0            0         0            1      No  \n",
       "..           ...       ...          ...       ...          ...     ...  \n",
       "102            0         0            0         0            1     Yes  \n",
       "103            0         0            0         0            0      No  \n",
       "104            0         0            0         0            0      No  \n",
       "105            0         0            0         0            1      No  \n",
       "106            0         0            0         0            0     Yes  \n",
       "\n",
       "[107 rows x 34 columns]"
      ]
     },
     "execution_count": 14,
     "metadata": {},
     "output_type": "execute_result"
    }
   ],
   "source": [
    "ft_data"
   ]
  },
  {
   "cell_type": "code",
   "execution_count": 19,
   "id": "734ed0f6",
   "metadata": {},
   "outputs": [
    {
     "data": {
      "application/vnd.plotly.v1+json": {
       "config": {
        "plotlyServerURL": "https://plot.ly"
       },
       "data": [
        {
         "type": "bar",
         "x": [
          "Yes",
          "No"
         ],
         "xaxis": "x",
         "y": [
          60,
          47
         ],
         "yaxis": "y"
        },
        {
         "type": "bar",
         "x": [
          "Yes",
          "No"
         ],
         "xaxis": "x2",
         "y": [
          2,
          14
         ],
         "yaxis": "y2"
        },
        {
         "type": "bar",
         "x": [
          "Yes",
          "No"
         ],
         "xaxis": "x3",
         "y": [
          0,
          9
         ],
         "yaxis": "y3"
        },
        {
         "type": "bar",
         "x": [
          "Yes",
          "No"
         ],
         "xaxis": "x4",
         "y": [
          4,
          16
         ],
         "yaxis": "y4"
        },
        {
         "type": "bar",
         "x": [
          "Yes",
          "No"
         ],
         "xaxis": "x5",
         "y": [
          1,
          8
         ],
         "yaxis": "y5"
        },
        {
         "type": "bar",
         "x": [
          "Yes",
          "No"
         ],
         "xaxis": "x6",
         "y": [
          3,
          16
         ],
         "yaxis": "y6"
        },
        {
         "type": "bar",
         "x": [
          "Yes",
          "No"
         ],
         "xaxis": "x7",
         "y": [
          0,
          1
         ],
         "yaxis": "y7"
        },
        {
         "type": "bar",
         "x": [
          "Yes",
          "No"
         ],
         "xaxis": "x8",
         "y": [
          11,
          4
         ],
         "yaxis": "y8"
        },
        {
         "type": "bar",
         "x": [
          "Yes",
          "No"
         ],
         "xaxis": "x9",
         "y": [
          6,
          2
         ],
         "yaxis": "y9"
        }
       ],
       "layout": {
        "annotations": [
         {
          "font": {
           "size": 16
          },
          "showarrow": false,
          "text": "Dataset",
          "x": 0.14444444444444446,
          "xanchor": "center",
          "xref": "paper",
          "y": 1,
          "yanchor": "bottom",
          "yref": "paper"
         },
         {
          "font": {
           "size": 16
          },
          "showarrow": false,
          "text": "revers_player_1 = 1 AND <br> revers_player_2 = 0",
          "x": 0.5,
          "xanchor": "center",
          "xref": "paper",
          "y": 1,
          "yanchor": "bottom",
          "yref": "paper"
         },
         {
          "font": {
           "size": 16
          },
          "showarrow": false,
          "text": "M2_envoie = 1 AND <br> controle_player_2 = 0",
          "x": 0.8555555555555556,
          "xanchor": "center",
          "xref": "paper",
          "y": 1,
          "yanchor": "bottom",
          "yref": "paper"
         },
         {
          "font": {
           "size": 16
          },
          "showarrow": false,
          "text": "Gagnant_ou_pas = < AND <br> M1_reception = 0",
          "x": 0.14444444444444446,
          "xanchor": "center",
          "xref": "paper",
          "y": 0.5666666666666667,
          "yanchor": "bottom",
          "yref": "paper"
         },
         {
          "font": {
           "size": 16
          },
          "showarrow": false,
          "text": "controle_player_1 = 2 AND <br> M1_envoie = 0",
          "x": 0.5,
          "xanchor": "center",
          "xref": "paper",
          "y": 0.5666666666666667,
          "yanchor": "bottom",
          "yref": "paper"
         },
         {
          "font": {
           "size": 16
          },
          "showarrow": false,
          "text": "revers_player_1 = 1 AND D3_envoie = <br> 0",
          "x": 0.8555555555555556,
          "xanchor": "center",
          "xref": "paper",
          "y": 0.5666666666666667,
          "yanchor": "bottom",
          "yref": "paper"
         },
         {
          "font": {
           "size": 16
          },
          "showarrow": false,
          "text": "revers_player_1 = 4",
          "x": 0.14444444444444446,
          "xanchor": "center",
          "xref": "paper",
          "y": 0.13333333333333333,
          "yanchor": "bottom",
          "yref": "paper"
         },
         {
          "font": {
           "size": 16
          },
          "showarrow": false,
          "text": "Set = 2",
          "x": 0.5,
          "xanchor": "center",
          "xref": "paper",
          "y": 0.13333333333333333,
          "yanchor": "bottom",
          "yref": "paper"
         },
         {
          "font": {
           "size": 16
          },
          "showarrow": false,
          "text": "controle_player_2 = 3",
          "x": 0.8555555555555556,
          "xanchor": "center",
          "xref": "paper",
          "y": 0.13333333333333333,
          "yanchor": "bottom",
          "yref": "paper"
         },
         {
          "showarrow": false,
          "text": "Gagnant",
          "x": 0.5,
          "xref": "paper",
          "y": -0.15,
          "yref": "paper"
         },
         {
          "showarrow": false,
          "text": "Frequency count",
          "textangle": -90,
          "x": -0.07,
          "xref": "paper",
          "y": 0.5,
          "yref": "paper"
         }
        ],
        "showlegend": false,
        "template": {
         "data": {
          "bar": [
           {
            "error_x": {
             "color": "#2a3f5f"
            },
            "error_y": {
             "color": "#2a3f5f"
            },
            "marker": {
             "line": {
              "color": "#E5ECF6",
              "width": 0.5
             },
             "pattern": {
              "fillmode": "overlay",
              "size": 10,
              "solidity": 0.2
             }
            },
            "type": "bar"
           }
          ],
          "barpolar": [
           {
            "marker": {
             "line": {
              "color": "#E5ECF6",
              "width": 0.5
             },
             "pattern": {
              "fillmode": "overlay",
              "size": 10,
              "solidity": 0.2
             }
            },
            "type": "barpolar"
           }
          ],
          "carpet": [
           {
            "aaxis": {
             "endlinecolor": "#2a3f5f",
             "gridcolor": "white",
             "linecolor": "white",
             "minorgridcolor": "white",
             "startlinecolor": "#2a3f5f"
            },
            "baxis": {
             "endlinecolor": "#2a3f5f",
             "gridcolor": "white",
             "linecolor": "white",
             "minorgridcolor": "white",
             "startlinecolor": "#2a3f5f"
            },
            "type": "carpet"
           }
          ],
          "choropleth": [
           {
            "colorbar": {
             "outlinewidth": 0,
             "ticks": ""
            },
            "type": "choropleth"
           }
          ],
          "contour": [
           {
            "colorbar": {
             "outlinewidth": 0,
             "ticks": ""
            },
            "colorscale": [
             [
              0,
              "#0d0887"
             ],
             [
              0.1111111111111111,
              "#46039f"
             ],
             [
              0.2222222222222222,
              "#7201a8"
             ],
             [
              0.3333333333333333,
              "#9c179e"
             ],
             [
              0.4444444444444444,
              "#bd3786"
             ],
             [
              0.5555555555555556,
              "#d8576b"
             ],
             [
              0.6666666666666666,
              "#ed7953"
             ],
             [
              0.7777777777777778,
              "#fb9f3a"
             ],
             [
              0.8888888888888888,
              "#fdca26"
             ],
             [
              1,
              "#f0f921"
             ]
            ],
            "type": "contour"
           }
          ],
          "contourcarpet": [
           {
            "colorbar": {
             "outlinewidth": 0,
             "ticks": ""
            },
            "type": "contourcarpet"
           }
          ],
          "heatmap": [
           {
            "colorbar": {
             "outlinewidth": 0,
             "ticks": ""
            },
            "colorscale": [
             [
              0,
              "#0d0887"
             ],
             [
              0.1111111111111111,
              "#46039f"
             ],
             [
              0.2222222222222222,
              "#7201a8"
             ],
             [
              0.3333333333333333,
              "#9c179e"
             ],
             [
              0.4444444444444444,
              "#bd3786"
             ],
             [
              0.5555555555555556,
              "#d8576b"
             ],
             [
              0.6666666666666666,
              "#ed7953"
             ],
             [
              0.7777777777777778,
              "#fb9f3a"
             ],
             [
              0.8888888888888888,
              "#fdca26"
             ],
             [
              1,
              "#f0f921"
             ]
            ],
            "type": "heatmap"
           }
          ],
          "heatmapgl": [
           {
            "colorbar": {
             "outlinewidth": 0,
             "ticks": ""
            },
            "colorscale": [
             [
              0,
              "#0d0887"
             ],
             [
              0.1111111111111111,
              "#46039f"
             ],
             [
              0.2222222222222222,
              "#7201a8"
             ],
             [
              0.3333333333333333,
              "#9c179e"
             ],
             [
              0.4444444444444444,
              "#bd3786"
             ],
             [
              0.5555555555555556,
              "#d8576b"
             ],
             [
              0.6666666666666666,
              "#ed7953"
             ],
             [
              0.7777777777777778,
              "#fb9f3a"
             ],
             [
              0.8888888888888888,
              "#fdca26"
             ],
             [
              1,
              "#f0f921"
             ]
            ],
            "type": "heatmapgl"
           }
          ],
          "histogram": [
           {
            "marker": {
             "pattern": {
              "fillmode": "overlay",
              "size": 10,
              "solidity": 0.2
             }
            },
            "type": "histogram"
           }
          ],
          "histogram2d": [
           {
            "colorbar": {
             "outlinewidth": 0,
             "ticks": ""
            },
            "colorscale": [
             [
              0,
              "#0d0887"
             ],
             [
              0.1111111111111111,
              "#46039f"
             ],
             [
              0.2222222222222222,
              "#7201a8"
             ],
             [
              0.3333333333333333,
              "#9c179e"
             ],
             [
              0.4444444444444444,
              "#bd3786"
             ],
             [
              0.5555555555555556,
              "#d8576b"
             ],
             [
              0.6666666666666666,
              "#ed7953"
             ],
             [
              0.7777777777777778,
              "#fb9f3a"
             ],
             [
              0.8888888888888888,
              "#fdca26"
             ],
             [
              1,
              "#f0f921"
             ]
            ],
            "type": "histogram2d"
           }
          ],
          "histogram2dcontour": [
           {
            "colorbar": {
             "outlinewidth": 0,
             "ticks": ""
            },
            "colorscale": [
             [
              0,
              "#0d0887"
             ],
             [
              0.1111111111111111,
              "#46039f"
             ],
             [
              0.2222222222222222,
              "#7201a8"
             ],
             [
              0.3333333333333333,
              "#9c179e"
             ],
             [
              0.4444444444444444,
              "#bd3786"
             ],
             [
              0.5555555555555556,
              "#d8576b"
             ],
             [
              0.6666666666666666,
              "#ed7953"
             ],
             [
              0.7777777777777778,
              "#fb9f3a"
             ],
             [
              0.8888888888888888,
              "#fdca26"
             ],
             [
              1,
              "#f0f921"
             ]
            ],
            "type": "histogram2dcontour"
           }
          ],
          "mesh3d": [
           {
            "colorbar": {
             "outlinewidth": 0,
             "ticks": ""
            },
            "type": "mesh3d"
           }
          ],
          "parcoords": [
           {
            "line": {
             "colorbar": {
              "outlinewidth": 0,
              "ticks": ""
             }
            },
            "type": "parcoords"
           }
          ],
          "pie": [
           {
            "automargin": true,
            "type": "pie"
           }
          ],
          "scatter": [
           {
            "marker": {
             "colorbar": {
              "outlinewidth": 0,
              "ticks": ""
             }
            },
            "type": "scatter"
           }
          ],
          "scatter3d": [
           {
            "line": {
             "colorbar": {
              "outlinewidth": 0,
              "ticks": ""
             }
            },
            "marker": {
             "colorbar": {
              "outlinewidth": 0,
              "ticks": ""
             }
            },
            "type": "scatter3d"
           }
          ],
          "scattercarpet": [
           {
            "marker": {
             "colorbar": {
              "outlinewidth": 0,
              "ticks": ""
             }
            },
            "type": "scattercarpet"
           }
          ],
          "scattergeo": [
           {
            "marker": {
             "colorbar": {
              "outlinewidth": 0,
              "ticks": ""
             }
            },
            "type": "scattergeo"
           }
          ],
          "scattergl": [
           {
            "marker": {
             "colorbar": {
              "outlinewidth": 0,
              "ticks": ""
             }
            },
            "type": "scattergl"
           }
          ],
          "scattermapbox": [
           {
            "marker": {
             "colorbar": {
              "outlinewidth": 0,
              "ticks": ""
             }
            },
            "type": "scattermapbox"
           }
          ],
          "scatterpolar": [
           {
            "marker": {
             "colorbar": {
              "outlinewidth": 0,
              "ticks": ""
             }
            },
            "type": "scatterpolar"
           }
          ],
          "scatterpolargl": [
           {
            "marker": {
             "colorbar": {
              "outlinewidth": 0,
              "ticks": ""
             }
            },
            "type": "scatterpolargl"
           }
          ],
          "scatterternary": [
           {
            "marker": {
             "colorbar": {
              "outlinewidth": 0,
              "ticks": ""
             }
            },
            "type": "scatterternary"
           }
          ],
          "surface": [
           {
            "colorbar": {
             "outlinewidth": 0,
             "ticks": ""
            },
            "colorscale": [
             [
              0,
              "#0d0887"
             ],
             [
              0.1111111111111111,
              "#46039f"
             ],
             [
              0.2222222222222222,
              "#7201a8"
             ],
             [
              0.3333333333333333,
              "#9c179e"
             ],
             [
              0.4444444444444444,
              "#bd3786"
             ],
             [
              0.5555555555555556,
              "#d8576b"
             ],
             [
              0.6666666666666666,
              "#ed7953"
             ],
             [
              0.7777777777777778,
              "#fb9f3a"
             ],
             [
              0.8888888888888888,
              "#fdca26"
             ],
             [
              1,
              "#f0f921"
             ]
            ],
            "type": "surface"
           }
          ],
          "table": [
           {
            "cells": {
             "fill": {
              "color": "#EBF0F8"
             },
             "line": {
              "color": "white"
             }
            },
            "header": {
             "fill": {
              "color": "#C8D4E3"
             },
             "line": {
              "color": "white"
             }
            },
            "type": "table"
           }
          ]
         },
         "layout": {
          "annotationdefaults": {
           "arrowcolor": "#2a3f5f",
           "arrowhead": 0,
           "arrowwidth": 1
          },
          "autotypenumbers": "strict",
          "coloraxis": {
           "colorbar": {
            "outlinewidth": 0,
            "ticks": ""
           }
          },
          "colorscale": {
           "diverging": [
            [
             0,
             "#8e0152"
            ],
            [
             0.1,
             "#c51b7d"
            ],
            [
             0.2,
             "#de77ae"
            ],
            [
             0.3,
             "#f1b6da"
            ],
            [
             0.4,
             "#fde0ef"
            ],
            [
             0.5,
             "#f7f7f7"
            ],
            [
             0.6,
             "#e6f5d0"
            ],
            [
             0.7,
             "#b8e186"
            ],
            [
             0.8,
             "#7fbc41"
            ],
            [
             0.9,
             "#4d9221"
            ],
            [
             1,
             "#276419"
            ]
           ],
           "sequential": [
            [
             0,
             "#0d0887"
            ],
            [
             0.1111111111111111,
             "#46039f"
            ],
            [
             0.2222222222222222,
             "#7201a8"
            ],
            [
             0.3333333333333333,
             "#9c179e"
            ],
            [
             0.4444444444444444,
             "#bd3786"
            ],
            [
             0.5555555555555556,
             "#d8576b"
            ],
            [
             0.6666666666666666,
             "#ed7953"
            ],
            [
             0.7777777777777778,
             "#fb9f3a"
            ],
            [
             0.8888888888888888,
             "#fdca26"
            ],
            [
             1,
             "#f0f921"
            ]
           ],
           "sequentialminus": [
            [
             0,
             "#0d0887"
            ],
            [
             0.1111111111111111,
             "#46039f"
            ],
            [
             0.2222222222222222,
             "#7201a8"
            ],
            [
             0.3333333333333333,
             "#9c179e"
            ],
            [
             0.4444444444444444,
             "#bd3786"
            ],
            [
             0.5555555555555556,
             "#d8576b"
            ],
            [
             0.6666666666666666,
             "#ed7953"
            ],
            [
             0.7777777777777778,
             "#fb9f3a"
            ],
            [
             0.8888888888888888,
             "#fdca26"
            ],
            [
             1,
             "#f0f921"
            ]
           ]
          },
          "colorway": [
           "#636efa",
           "#EF553B",
           "#00cc96",
           "#ab63fa",
           "#FFA15A",
           "#19d3f3",
           "#FF6692",
           "#B6E880",
           "#FF97FF",
           "#FECB52"
          ],
          "font": {
           "color": "#2a3f5f"
          },
          "geo": {
           "bgcolor": "white",
           "lakecolor": "white",
           "landcolor": "#E5ECF6",
           "showlakes": true,
           "showland": true,
           "subunitcolor": "white"
          },
          "hoverlabel": {
           "align": "left"
          },
          "hovermode": "closest",
          "mapbox": {
           "style": "light"
          },
          "paper_bgcolor": "white",
          "plot_bgcolor": "#E5ECF6",
          "polar": {
           "angularaxis": {
            "gridcolor": "white",
            "linecolor": "white",
            "ticks": ""
           },
           "bgcolor": "#E5ECF6",
           "radialaxis": {
            "gridcolor": "white",
            "linecolor": "white",
            "ticks": ""
           }
          },
          "scene": {
           "xaxis": {
            "backgroundcolor": "#E5ECF6",
            "gridcolor": "white",
            "gridwidth": 2,
            "linecolor": "white",
            "showbackground": true,
            "ticks": "",
            "zerolinecolor": "white"
           },
           "yaxis": {
            "backgroundcolor": "#E5ECF6",
            "gridcolor": "white",
            "gridwidth": 2,
            "linecolor": "white",
            "showbackground": true,
            "ticks": "",
            "zerolinecolor": "white"
           },
           "zaxis": {
            "backgroundcolor": "#E5ECF6",
            "gridcolor": "white",
            "gridwidth": 2,
            "linecolor": "white",
            "showbackground": true,
            "ticks": "",
            "zerolinecolor": "white"
           }
          },
          "shapedefaults": {
           "line": {
            "color": "#2a3f5f"
           }
          },
          "ternary": {
           "aaxis": {
            "gridcolor": "white",
            "linecolor": "white",
            "ticks": ""
           },
           "baxis": {
            "gridcolor": "white",
            "linecolor": "white",
            "ticks": ""
           },
           "bgcolor": "#E5ECF6",
           "caxis": {
            "gridcolor": "white",
            "linecolor": "white",
            "ticks": ""
           }
          },
          "title": {
           "x": 0.05
          },
          "xaxis": {
           "automargin": true,
           "gridcolor": "white",
           "linecolor": "white",
           "ticks": "",
           "title": {
            "standoff": 15
           },
           "zerolinecolor": "white",
           "zerolinewidth": 2
          },
          "yaxis": {
           "automargin": true,
           "gridcolor": "white",
           "linecolor": "white",
           "ticks": "",
           "title": {
            "standoff": 15
           },
           "zerolinecolor": "white",
           "zerolinewidth": 2
          }
         }
        },
        "xaxis": {
         "anchor": "y",
         "domain": [
          0,
          0.2888888888888889
         ]
        },
        "xaxis2": {
         "anchor": "y2",
         "domain": [
          0.35555555555555557,
          0.6444444444444445
         ]
        },
        "xaxis3": {
         "anchor": "y3",
         "domain": [
          0.7111111111111111,
          1
         ]
        },
        "xaxis4": {
         "anchor": "y4",
         "domain": [
          0,
          0.2888888888888889
         ]
        },
        "xaxis5": {
         "anchor": "y5",
         "domain": [
          0.35555555555555557,
          0.6444444444444445
         ]
        },
        "xaxis6": {
         "anchor": "y6",
         "domain": [
          0.7111111111111111,
          1
         ]
        },
        "xaxis7": {
         "anchor": "y7",
         "domain": [
          0,
          0.2888888888888889
         ]
        },
        "xaxis8": {
         "anchor": "y8",
         "domain": [
          0.35555555555555557,
          0.6444444444444445
         ]
        },
        "xaxis9": {
         "anchor": "y9",
         "domain": [
          0.7111111111111111,
          1
         ]
        },
        "yaxis": {
         "anchor": "x",
         "domain": [
          0.8666666666666667,
          1
         ]
        },
        "yaxis2": {
         "anchor": "x2",
         "domain": [
          0.8666666666666667,
          1
         ]
        },
        "yaxis3": {
         "anchor": "x3",
         "domain": [
          0.8666666666666667,
          1
         ]
        },
        "yaxis4": {
         "anchor": "x4",
         "domain": [
          0.43333333333333335,
          0.5666666666666667
         ]
        },
        "yaxis5": {
         "anchor": "x5",
         "domain": [
          0.43333333333333335,
          0.5666666666666667
         ]
        },
        "yaxis6": {
         "anchor": "x6",
         "domain": [
          0.43333333333333335,
          0.5666666666666667
         ]
        },
        "yaxis7": {
         "anchor": "x7",
         "domain": [
          0,
          0.13333333333333333
         ]
        },
        "yaxis8": {
         "anchor": "x8",
         "domain": [
          0,
          0.13333333333333333
         ]
        },
        "yaxis9": {
         "anchor": "x9",
         "domain": [
          0,
          0.13333333333333333
         ]
        }
       }
      },
      "text/html": [
       "<div>                            <div id=\"c60930b9-5f3f-4eee-b919-ea41045262f8\" class=\"plotly-graph-div\" style=\"height:525px; width:100%;\"></div>            <script type=\"text/javascript\">                require([\"plotly\"], function(Plotly) {                    window.PLOTLYENV=window.PLOTLYENV || {};                                    if (document.getElementById(\"c60930b9-5f3f-4eee-b919-ea41045262f8\")) {                    Plotly.newPlot(                        \"c60930b9-5f3f-4eee-b919-ea41045262f8\",                        [{\"x\":[\"Yes\",\"No\"],\"y\":[60,47],\"type\":\"bar\",\"xaxis\":\"x\",\"yaxis\":\"y\"},{\"x\":[\"Yes\",\"No\"],\"y\":[2,14],\"type\":\"bar\",\"xaxis\":\"x2\",\"yaxis\":\"y2\"},{\"x\":[\"Yes\",\"No\"],\"y\":[0,9],\"type\":\"bar\",\"xaxis\":\"x3\",\"yaxis\":\"y3\"},{\"x\":[\"Yes\",\"No\"],\"y\":[4,16],\"type\":\"bar\",\"xaxis\":\"x4\",\"yaxis\":\"y4\"},{\"x\":[\"Yes\",\"No\"],\"y\":[1,8],\"type\":\"bar\",\"xaxis\":\"x5\",\"yaxis\":\"y5\"},{\"x\":[\"Yes\",\"No\"],\"y\":[3,16],\"type\":\"bar\",\"xaxis\":\"x6\",\"yaxis\":\"y6\"},{\"x\":[\"Yes\",\"No\"],\"y\":[0,1],\"type\":\"bar\",\"xaxis\":\"x7\",\"yaxis\":\"y7\"},{\"x\":[\"Yes\",\"No\"],\"y\":[11,4],\"type\":\"bar\",\"xaxis\":\"x8\",\"yaxis\":\"y8\"},{\"x\":[\"Yes\",\"No\"],\"y\":[6,2],\"type\":\"bar\",\"xaxis\":\"x9\",\"yaxis\":\"y9\"}],                        {\"template\":{\"data\":{\"bar\":[{\"error_x\":{\"color\":\"#2a3f5f\"},\"error_y\":{\"color\":\"#2a3f5f\"},\"marker\":{\"line\":{\"color\":\"#E5ECF6\",\"width\":0.5},\"pattern\":{\"fillmode\":\"overlay\",\"size\":10,\"solidity\":0.2}},\"type\":\"bar\"}],\"barpolar\":[{\"marker\":{\"line\":{\"color\":\"#E5ECF6\",\"width\":0.5},\"pattern\":{\"fillmode\":\"overlay\",\"size\":10,\"solidity\":0.2}},\"type\":\"barpolar\"}],\"carpet\":[{\"aaxis\":{\"endlinecolor\":\"#2a3f5f\",\"gridcolor\":\"white\",\"linecolor\":\"white\",\"minorgridcolor\":\"white\",\"startlinecolor\":\"#2a3f5f\"},\"baxis\":{\"endlinecolor\":\"#2a3f5f\",\"gridcolor\":\"white\",\"linecolor\":\"white\",\"minorgridcolor\":\"white\",\"startlinecolor\":\"#2a3f5f\"},\"type\":\"carpet\"}],\"choropleth\":[{\"colorbar\":{\"outlinewidth\":0,\"ticks\":\"\"},\"type\":\"choropleth\"}],\"contour\":[{\"colorbar\":{\"outlinewidth\":0,\"ticks\":\"\"},\"colorscale\":[[0.0,\"#0d0887\"],[0.1111111111111111,\"#46039f\"],[0.2222222222222222,\"#7201a8\"],[0.3333333333333333,\"#9c179e\"],[0.4444444444444444,\"#bd3786\"],[0.5555555555555556,\"#d8576b\"],[0.6666666666666666,\"#ed7953\"],[0.7777777777777778,\"#fb9f3a\"],[0.8888888888888888,\"#fdca26\"],[1.0,\"#f0f921\"]],\"type\":\"contour\"}],\"contourcarpet\":[{\"colorbar\":{\"outlinewidth\":0,\"ticks\":\"\"},\"type\":\"contourcarpet\"}],\"heatmap\":[{\"colorbar\":{\"outlinewidth\":0,\"ticks\":\"\"},\"colorscale\":[[0.0,\"#0d0887\"],[0.1111111111111111,\"#46039f\"],[0.2222222222222222,\"#7201a8\"],[0.3333333333333333,\"#9c179e\"],[0.4444444444444444,\"#bd3786\"],[0.5555555555555556,\"#d8576b\"],[0.6666666666666666,\"#ed7953\"],[0.7777777777777778,\"#fb9f3a\"],[0.8888888888888888,\"#fdca26\"],[1.0,\"#f0f921\"]],\"type\":\"heatmap\"}],\"heatmapgl\":[{\"colorbar\":{\"outlinewidth\":0,\"ticks\":\"\"},\"colorscale\":[[0.0,\"#0d0887\"],[0.1111111111111111,\"#46039f\"],[0.2222222222222222,\"#7201a8\"],[0.3333333333333333,\"#9c179e\"],[0.4444444444444444,\"#bd3786\"],[0.5555555555555556,\"#d8576b\"],[0.6666666666666666,\"#ed7953\"],[0.7777777777777778,\"#fb9f3a\"],[0.8888888888888888,\"#fdca26\"],[1.0,\"#f0f921\"]],\"type\":\"heatmapgl\"}],\"histogram\":[{\"marker\":{\"pattern\":{\"fillmode\":\"overlay\",\"size\":10,\"solidity\":0.2}},\"type\":\"histogram\"}],\"histogram2d\":[{\"colorbar\":{\"outlinewidth\":0,\"ticks\":\"\"},\"colorscale\":[[0.0,\"#0d0887\"],[0.1111111111111111,\"#46039f\"],[0.2222222222222222,\"#7201a8\"],[0.3333333333333333,\"#9c179e\"],[0.4444444444444444,\"#bd3786\"],[0.5555555555555556,\"#d8576b\"],[0.6666666666666666,\"#ed7953\"],[0.7777777777777778,\"#fb9f3a\"],[0.8888888888888888,\"#fdca26\"],[1.0,\"#f0f921\"]],\"type\":\"histogram2d\"}],\"histogram2dcontour\":[{\"colorbar\":{\"outlinewidth\":0,\"ticks\":\"\"},\"colorscale\":[[0.0,\"#0d0887\"],[0.1111111111111111,\"#46039f\"],[0.2222222222222222,\"#7201a8\"],[0.3333333333333333,\"#9c179e\"],[0.4444444444444444,\"#bd3786\"],[0.5555555555555556,\"#d8576b\"],[0.6666666666666666,\"#ed7953\"],[0.7777777777777778,\"#fb9f3a\"],[0.8888888888888888,\"#fdca26\"],[1.0,\"#f0f921\"]],\"type\":\"histogram2dcontour\"}],\"mesh3d\":[{\"colorbar\":{\"outlinewidth\":0,\"ticks\":\"\"},\"type\":\"mesh3d\"}],\"parcoords\":[{\"line\":{\"colorbar\":{\"outlinewidth\":0,\"ticks\":\"\"}},\"type\":\"parcoords\"}],\"pie\":[{\"automargin\":true,\"type\":\"pie\"}],\"scatter\":[{\"marker\":{\"colorbar\":{\"outlinewidth\":0,\"ticks\":\"\"}},\"type\":\"scatter\"}],\"scatter3d\":[{\"line\":{\"colorbar\":{\"outlinewidth\":0,\"ticks\":\"\"}},\"marker\":{\"colorbar\":{\"outlinewidth\":0,\"ticks\":\"\"}},\"type\":\"scatter3d\"}],\"scattercarpet\":[{\"marker\":{\"colorbar\":{\"outlinewidth\":0,\"ticks\":\"\"}},\"type\":\"scattercarpet\"}],\"scattergeo\":[{\"marker\":{\"colorbar\":{\"outlinewidth\":0,\"ticks\":\"\"}},\"type\":\"scattergeo\"}],\"scattergl\":[{\"marker\":{\"colorbar\":{\"outlinewidth\":0,\"ticks\":\"\"}},\"type\":\"scattergl\"}],\"scattermapbox\":[{\"marker\":{\"colorbar\":{\"outlinewidth\":0,\"ticks\":\"\"}},\"type\":\"scattermapbox\"}],\"scatterpolar\":[{\"marker\":{\"colorbar\":{\"outlinewidth\":0,\"ticks\":\"\"}},\"type\":\"scatterpolar\"}],\"scatterpolargl\":[{\"marker\":{\"colorbar\":{\"outlinewidth\":0,\"ticks\":\"\"}},\"type\":\"scatterpolargl\"}],\"scatterternary\":[{\"marker\":{\"colorbar\":{\"outlinewidth\":0,\"ticks\":\"\"}},\"type\":\"scatterternary\"}],\"surface\":[{\"colorbar\":{\"outlinewidth\":0,\"ticks\":\"\"},\"colorscale\":[[0.0,\"#0d0887\"],[0.1111111111111111,\"#46039f\"],[0.2222222222222222,\"#7201a8\"],[0.3333333333333333,\"#9c179e\"],[0.4444444444444444,\"#bd3786\"],[0.5555555555555556,\"#d8576b\"],[0.6666666666666666,\"#ed7953\"],[0.7777777777777778,\"#fb9f3a\"],[0.8888888888888888,\"#fdca26\"],[1.0,\"#f0f921\"]],\"type\":\"surface\"}],\"table\":[{\"cells\":{\"fill\":{\"color\":\"#EBF0F8\"},\"line\":{\"color\":\"white\"}},\"header\":{\"fill\":{\"color\":\"#C8D4E3\"},\"line\":{\"color\":\"white\"}},\"type\":\"table\"}]},\"layout\":{\"annotationdefaults\":{\"arrowcolor\":\"#2a3f5f\",\"arrowhead\":0,\"arrowwidth\":1},\"autotypenumbers\":\"strict\",\"coloraxis\":{\"colorbar\":{\"outlinewidth\":0,\"ticks\":\"\"}},\"colorscale\":{\"diverging\":[[0,\"#8e0152\"],[0.1,\"#c51b7d\"],[0.2,\"#de77ae\"],[0.3,\"#f1b6da\"],[0.4,\"#fde0ef\"],[0.5,\"#f7f7f7\"],[0.6,\"#e6f5d0\"],[0.7,\"#b8e186\"],[0.8,\"#7fbc41\"],[0.9,\"#4d9221\"],[1,\"#276419\"]],\"sequential\":[[0.0,\"#0d0887\"],[0.1111111111111111,\"#46039f\"],[0.2222222222222222,\"#7201a8\"],[0.3333333333333333,\"#9c179e\"],[0.4444444444444444,\"#bd3786\"],[0.5555555555555556,\"#d8576b\"],[0.6666666666666666,\"#ed7953\"],[0.7777777777777778,\"#fb9f3a\"],[0.8888888888888888,\"#fdca26\"],[1.0,\"#f0f921\"]],\"sequentialminus\":[[0.0,\"#0d0887\"],[0.1111111111111111,\"#46039f\"],[0.2222222222222222,\"#7201a8\"],[0.3333333333333333,\"#9c179e\"],[0.4444444444444444,\"#bd3786\"],[0.5555555555555556,\"#d8576b\"],[0.6666666666666666,\"#ed7953\"],[0.7777777777777778,\"#fb9f3a\"],[0.8888888888888888,\"#fdca26\"],[1.0,\"#f0f921\"]]},\"colorway\":[\"#636efa\",\"#EF553B\",\"#00cc96\",\"#ab63fa\",\"#FFA15A\",\"#19d3f3\",\"#FF6692\",\"#B6E880\",\"#FF97FF\",\"#FECB52\"],\"font\":{\"color\":\"#2a3f5f\"},\"geo\":{\"bgcolor\":\"white\",\"lakecolor\":\"white\",\"landcolor\":\"#E5ECF6\",\"showlakes\":true,\"showland\":true,\"subunitcolor\":\"white\"},\"hoverlabel\":{\"align\":\"left\"},\"hovermode\":\"closest\",\"mapbox\":{\"style\":\"light\"},\"paper_bgcolor\":\"white\",\"plot_bgcolor\":\"#E5ECF6\",\"polar\":{\"angularaxis\":{\"gridcolor\":\"white\",\"linecolor\":\"white\",\"ticks\":\"\"},\"bgcolor\":\"#E5ECF6\",\"radialaxis\":{\"gridcolor\":\"white\",\"linecolor\":\"white\",\"ticks\":\"\"}},\"scene\":{\"xaxis\":{\"backgroundcolor\":\"#E5ECF6\",\"gridcolor\":\"white\",\"gridwidth\":2,\"linecolor\":\"white\",\"showbackground\":true,\"ticks\":\"\",\"zerolinecolor\":\"white\"},\"yaxis\":{\"backgroundcolor\":\"#E5ECF6\",\"gridcolor\":\"white\",\"gridwidth\":2,\"linecolor\":\"white\",\"showbackground\":true,\"ticks\":\"\",\"zerolinecolor\":\"white\"},\"zaxis\":{\"backgroundcolor\":\"#E5ECF6\",\"gridcolor\":\"white\",\"gridwidth\":2,\"linecolor\":\"white\",\"showbackground\":true,\"ticks\":\"\",\"zerolinecolor\":\"white\"}},\"shapedefaults\":{\"line\":{\"color\":\"#2a3f5f\"}},\"ternary\":{\"aaxis\":{\"gridcolor\":\"white\",\"linecolor\":\"white\",\"ticks\":\"\"},\"baxis\":{\"gridcolor\":\"white\",\"linecolor\":\"white\",\"ticks\":\"\"},\"bgcolor\":\"#E5ECF6\",\"caxis\":{\"gridcolor\":\"white\",\"linecolor\":\"white\",\"ticks\":\"\"}},\"title\":{\"x\":0.05},\"xaxis\":{\"automargin\":true,\"gridcolor\":\"white\",\"linecolor\":\"white\",\"ticks\":\"\",\"title\":{\"standoff\":15},\"zerolinecolor\":\"white\",\"zerolinewidth\":2},\"yaxis\":{\"automargin\":true,\"gridcolor\":\"white\",\"linecolor\":\"white\",\"ticks\":\"\",\"title\":{\"standoff\":15},\"zerolinecolor\":\"white\",\"zerolinewidth\":2}}},\"xaxis\":{\"anchor\":\"y\",\"domain\":[0.0,0.2888888888888889]},\"yaxis\":{\"anchor\":\"x\",\"domain\":[0.8666666666666667,1.0]},\"xaxis2\":{\"anchor\":\"y2\",\"domain\":[0.35555555555555557,0.6444444444444445]},\"yaxis2\":{\"anchor\":\"x2\",\"domain\":[0.8666666666666667,1.0]},\"xaxis3\":{\"anchor\":\"y3\",\"domain\":[0.7111111111111111,1.0]},\"yaxis3\":{\"anchor\":\"x3\",\"domain\":[0.8666666666666667,1.0]},\"xaxis4\":{\"anchor\":\"y4\",\"domain\":[0.0,0.2888888888888889]},\"yaxis4\":{\"anchor\":\"x4\",\"domain\":[0.43333333333333335,0.5666666666666667]},\"xaxis5\":{\"anchor\":\"y5\",\"domain\":[0.35555555555555557,0.6444444444444445]},\"yaxis5\":{\"anchor\":\"x5\",\"domain\":[0.43333333333333335,0.5666666666666667]},\"xaxis6\":{\"anchor\":\"y6\",\"domain\":[0.7111111111111111,1.0]},\"yaxis6\":{\"anchor\":\"x6\",\"domain\":[0.43333333333333335,0.5666666666666667]},\"xaxis7\":{\"anchor\":\"y7\",\"domain\":[0.0,0.2888888888888889]},\"yaxis7\":{\"anchor\":\"x7\",\"domain\":[0.0,0.13333333333333333]},\"xaxis8\":{\"anchor\":\"y8\",\"domain\":[0.35555555555555557,0.6444444444444445]},\"yaxis8\":{\"anchor\":\"x8\",\"domain\":[0.0,0.13333333333333333]},\"xaxis9\":{\"anchor\":\"y9\",\"domain\":[0.7111111111111111,1.0]},\"yaxis9\":{\"anchor\":\"x9\",\"domain\":[0.0,0.13333333333333333]},\"annotations\":[{\"font\":{\"size\":16},\"showarrow\":false,\"text\":\"Dataset\",\"x\":0.14444444444444446,\"xanchor\":\"center\",\"xref\":\"paper\",\"y\":1.0,\"yanchor\":\"bottom\",\"yref\":\"paper\"},{\"font\":{\"size\":16},\"showarrow\":false,\"text\":\"revers_player_1 = 1 AND <br> revers_player_2 = 0\",\"x\":0.5,\"xanchor\":\"center\",\"xref\":\"paper\",\"y\":1.0,\"yanchor\":\"bottom\",\"yref\":\"paper\"},{\"font\":{\"size\":16},\"showarrow\":false,\"text\":\"M2_envoie = 1 AND <br> controle_player_2 = 0\",\"x\":0.8555555555555556,\"xanchor\":\"center\",\"xref\":\"paper\",\"y\":1.0,\"yanchor\":\"bottom\",\"yref\":\"paper\"},{\"font\":{\"size\":16},\"showarrow\":false,\"text\":\"Gagnant_ou_pas = < AND <br> M1_reception = 0\",\"x\":0.14444444444444446,\"xanchor\":\"center\",\"xref\":\"paper\",\"y\":0.5666666666666667,\"yanchor\":\"bottom\",\"yref\":\"paper\"},{\"font\":{\"size\":16},\"showarrow\":false,\"text\":\"controle_player_1 = 2 AND <br> M1_envoie = 0\",\"x\":0.5,\"xanchor\":\"center\",\"xref\":\"paper\",\"y\":0.5666666666666667,\"yanchor\":\"bottom\",\"yref\":\"paper\"},{\"font\":{\"size\":16},\"showarrow\":false,\"text\":\"revers_player_1 = 1 AND D3_envoie = <br> 0\",\"x\":0.8555555555555556,\"xanchor\":\"center\",\"xref\":\"paper\",\"y\":0.5666666666666667,\"yanchor\":\"bottom\",\"yref\":\"paper\"},{\"font\":{\"size\":16},\"showarrow\":false,\"text\":\"revers_player_1 = 4\",\"x\":0.14444444444444446,\"xanchor\":\"center\",\"xref\":\"paper\",\"y\":0.13333333333333333,\"yanchor\":\"bottom\",\"yref\":\"paper\"},{\"font\":{\"size\":16},\"showarrow\":false,\"text\":\"Set = 2\",\"x\":0.5,\"xanchor\":\"center\",\"xref\":\"paper\",\"y\":0.13333333333333333,\"yanchor\":\"bottom\",\"yref\":\"paper\"},{\"font\":{\"size\":16},\"showarrow\":false,\"text\":\"controle_player_2 = 3\",\"x\":0.8555555555555556,\"xanchor\":\"center\",\"xref\":\"paper\",\"y\":0.13333333333333333,\"yanchor\":\"bottom\",\"yref\":\"paper\"},{\"showarrow\":false,\"text\":\"Gagnant\",\"x\":0.5,\"xref\":\"paper\",\"y\":-0.15,\"yref\":\"paper\"},{\"showarrow\":false,\"text\":\"Frequency count\",\"textangle\":-90,\"x\":-0.07,\"xref\":\"paper\",\"y\":0.5,\"yref\":\"paper\"}],\"showlegend\":false},                        {\"responsive\": true}                    ).then(function(){\n",
       "                            \n",
       "var gd = document.getElementById('c60930b9-5f3f-4eee-b919-ea41045262f8');\n",
       "var x = new MutationObserver(function (mutations, observer) {{\n",
       "        var display = window.getComputedStyle(gd).display;\n",
       "        if (!display || display === 'none') {{\n",
       "            console.log([gd, 'removed!']);\n",
       "            Plotly.purge(gd);\n",
       "            observer.disconnect();\n",
       "        }}\n",
       "}});\n",
       "\n",
       "// Listen for the removal of the full notebook cells\n",
       "var notebookContainer = gd.closest('#notebook-container');\n",
       "if (notebookContainer) {{\n",
       "    x.observe(notebookContainer, {childList: true});\n",
       "}}\n",
       "\n",
       "// Listen for the clearing of the current output cell\n",
       "var outputEl = gd.closest('.output');\n",
       "if (outputEl) {{\n",
       "    x.observe(outputEl, {childList: true});\n",
       "}}\n",
       "\n",
       "                        })                };                });            </script>        </div>"
      ]
     },
     "metadata": {},
     "output_type": "display_data"
    }
   ],
   "source": [
    "target_columns = ['Gagnant']\n",
    "clf = emm.EMM(width=10, depth=2, evaluation_metric='distribution_cosine')\n",
    "clf.search(ft_data, target_cols=target_columns)\n",
    "clf.visualise(subgroups=8, cols=3)"
   ]
  },
  {
   "cell_type": "markdown",
   "id": "d06e17d3",
   "metadata": {},
   "source": [
    "Sur __106__ points joués, le joueur __F__ en gagne __60__.\n",
    "\n",
    "1. Si __F__ joue de revers et que l'adversaire ne répond pas avec un revers, il a très peu de chance de remporter le point (14 points perdus sur 16);\n",
    "2. Si pendant le point, __F__ joue sur la zone __M2__ et que l'adversaire pendant le même point ne joue jamais des coup de type \"contrôle\", le jouer __F__ n'a pas de chance de remporter le point (9 points perdus sur 9);\n",
    "3. Si __F__ est en train de perdre le set et qu'il ne reçoit jamais la balle en __M1__, il a peu de chance de remporter le point (16 points perdus sur 20);\n",
    "4. si __F__ joue un coup de type \"contrôle\" et que le point a une durée moyenne, il a aucune chance de gagner le point (6 points perdus sur 6);\n",
    "5. si pendant le point __F__ joue un coup de \"revers\" mais qu'il envoie jamais sur __D3__, il a peu de chances de remporter le point (16 points perdus sur 19);\n",
    "6. si __F__ joue deux fois un coup de type \"contrôle__ et qu'il n'envoie jamais sur __M1__, il a peu de chances de gagner le point (7 points perdus sur 8);\n",
    "7. si pendant un point __F__ joue de revers et que l'adversaire ne joue aucun coup de type \"poussette\", __F__ a très peu de  chances de remporter le point (21 points perdus sur 29)."
   ]
  },
  {
   "cell_type": "markdown",
   "id": "c7e71fc9",
   "metadata": {},
   "source": [
    "## <u>Pour le joueur B.T.</u>"
   ]
  },
  {
   "cell_type": "code",
   "execution_count": 16,
   "id": "25abe30d",
   "metadata": {},
   "outputs": [],
   "source": [
    "bt_data = df_player(\"B\", data)"
   ]
  },
  {
   "cell_type": "code",
   "execution_count": 17,
   "id": "166d2469",
   "metadata": {},
   "outputs": [],
   "source": [
    "# bt_data"
   ]
  },
  {
   "cell_type": "code",
   "execution_count": 20,
   "id": "943ff741",
   "metadata": {},
   "outputs": [
    {
     "data": {
      "application/vnd.plotly.v1+json": {
       "config": {
        "plotlyServerURL": "https://plot.ly"
       },
       "data": [
        {
         "type": "bar",
         "x": [
          "No",
          "Yes"
         ],
         "xaxis": "x",
         "y": [
          61,
          46
         ],
         "yaxis": "y"
        },
        {
         "type": "bar",
         "x": [
          "No",
          "Yes"
         ],
         "xaxis": "x2",
         "y": [
          2,
          14
         ],
         "yaxis": "y2"
        },
        {
         "type": "bar",
         "x": [
          "No",
          "Yes"
         ],
         "xaxis": "x3",
         "y": [
          0,
          9
         ],
         "yaxis": "y3"
        },
        {
         "type": "bar",
         "x": [
          "No",
          "Yes"
         ],
         "xaxis": "x4",
         "y": [
          4,
          16
         ],
         "yaxis": "y4"
        },
        {
         "type": "bar",
         "x": [
          "No",
          "Yes"
         ],
         "xaxis": "x5",
         "y": [
          3,
          16
         ],
         "yaxis": "y5"
        },
        {
         "type": "bar",
         "x": [
          "No",
          "Yes"
         ],
         "xaxis": "x6",
         "y": [
          8,
          21
         ],
         "yaxis": "y6"
        },
        {
         "type": "bar",
         "x": [
          "No",
          "Yes"
         ],
         "xaxis": "x7",
         "y": [
          32,
          14
         ],
         "yaxis": "y7"
        },
        {
         "type": "bar",
         "x": [
          "No",
          "Yes"
         ],
         "xaxis": "x8",
         "y": [
          1,
          2
         ],
         "yaxis": "y8"
        },
        {
         "type": "bar",
         "x": [
          "No",
          "Yes"
         ],
         "xaxis": "x9",
         "y": [
          19,
          8
         ],
         "yaxis": "y9"
        }
       ],
       "layout": {
        "annotations": [
         {
          "font": {
           "size": 16
          },
          "showarrow": false,
          "text": "Dataset",
          "x": 0.14444444444444446,
          "xanchor": "center",
          "xref": "paper",
          "y": 1,
          "yanchor": "bottom",
          "yref": "paper"
         },
         {
          "font": {
           "size": 16
          },
          "showarrow": false,
          "text": "revers_player_2 = 1 AND <br> revers_player_1 = 0",
          "x": 0.5,
          "xanchor": "center",
          "xref": "paper",
          "y": 1,
          "yanchor": "bottom",
          "yref": "paper"
         },
         {
          "font": {
           "size": 16
          },
          "showarrow": false,
          "text": "M2_reception = 1 AND <br> controle_player_1 = 0",
          "x": 0.8555555555555556,
          "xanchor": "center",
          "xref": "paper",
          "y": 1,
          "yanchor": "bottom",
          "yref": "paper"
         },
         {
          "font": {
           "size": 16
          },
          "showarrow": false,
          "text": "Gagnant_ou_pas = > AND M1_envoie = 0",
          "x": 0.14444444444444446,
          "xanchor": "center",
          "xref": "paper",
          "y": 0.5666666666666667,
          "yanchor": "bottom",
          "yref": "paper"
         },
         {
          "font": {
           "size": 16
          },
          "showarrow": false,
          "text": "revers_player_2 = 1 AND <br> D3_reception = 0",
          "x": 0.5,
          "xanchor": "center",
          "xref": "paper",
          "y": 0.5666666666666667,
          "yanchor": "bottom",
          "yref": "paper"
         },
         {
          "font": {
           "size": 16
          },
          "showarrow": false,
          "text": "revers_player_2 = 1 AND <br> poussette_player_1 = 0",
          "x": 0.8555555555555556,
          "xanchor": "center",
          "xref": "paper",
          "y": 0.5666666666666667,
          "yanchor": "bottom",
          "yref": "paper"
         },
         {
          "font": {
           "size": 16
          },
          "showarrow": false,
          "text": "coup_droit_player_2 = 1",
          "x": 0.14444444444444446,
          "xanchor": "center",
          "xref": "paper",
          "y": 0.13333333333333333,
          "yanchor": "bottom",
          "yref": "paper"
         },
         {
          "font": {
           "size": 16
          },
          "showarrow": false,
          "text": "D3_envoie = 2",
          "x": 0.5,
          "xanchor": "center",
          "xref": "paper",
          "y": 0.13333333333333333,
          "yanchor": "bottom",
          "yref": "paper"
         },
         {
          "font": {
           "size": 16
          },
          "showarrow": false,
          "text": "Duree = long",
          "x": 0.8555555555555556,
          "xanchor": "center",
          "xref": "paper",
          "y": 0.13333333333333333,
          "yanchor": "bottom",
          "yref": "paper"
         },
         {
          "showarrow": false,
          "text": "Gagnant",
          "x": 0.5,
          "xref": "paper",
          "y": -0.15,
          "yref": "paper"
         },
         {
          "showarrow": false,
          "text": "Frequency count",
          "textangle": -90,
          "x": -0.07,
          "xref": "paper",
          "y": 0.5,
          "yref": "paper"
         }
        ],
        "showlegend": false,
        "template": {
         "data": {
          "bar": [
           {
            "error_x": {
             "color": "#2a3f5f"
            },
            "error_y": {
             "color": "#2a3f5f"
            },
            "marker": {
             "line": {
              "color": "#E5ECF6",
              "width": 0.5
             },
             "pattern": {
              "fillmode": "overlay",
              "size": 10,
              "solidity": 0.2
             }
            },
            "type": "bar"
           }
          ],
          "barpolar": [
           {
            "marker": {
             "line": {
              "color": "#E5ECF6",
              "width": 0.5
             },
             "pattern": {
              "fillmode": "overlay",
              "size": 10,
              "solidity": 0.2
             }
            },
            "type": "barpolar"
           }
          ],
          "carpet": [
           {
            "aaxis": {
             "endlinecolor": "#2a3f5f",
             "gridcolor": "white",
             "linecolor": "white",
             "minorgridcolor": "white",
             "startlinecolor": "#2a3f5f"
            },
            "baxis": {
             "endlinecolor": "#2a3f5f",
             "gridcolor": "white",
             "linecolor": "white",
             "minorgridcolor": "white",
             "startlinecolor": "#2a3f5f"
            },
            "type": "carpet"
           }
          ],
          "choropleth": [
           {
            "colorbar": {
             "outlinewidth": 0,
             "ticks": ""
            },
            "type": "choropleth"
           }
          ],
          "contour": [
           {
            "colorbar": {
             "outlinewidth": 0,
             "ticks": ""
            },
            "colorscale": [
             [
              0,
              "#0d0887"
             ],
             [
              0.1111111111111111,
              "#46039f"
             ],
             [
              0.2222222222222222,
              "#7201a8"
             ],
             [
              0.3333333333333333,
              "#9c179e"
             ],
             [
              0.4444444444444444,
              "#bd3786"
             ],
             [
              0.5555555555555556,
              "#d8576b"
             ],
             [
              0.6666666666666666,
              "#ed7953"
             ],
             [
              0.7777777777777778,
              "#fb9f3a"
             ],
             [
              0.8888888888888888,
              "#fdca26"
             ],
             [
              1,
              "#f0f921"
             ]
            ],
            "type": "contour"
           }
          ],
          "contourcarpet": [
           {
            "colorbar": {
             "outlinewidth": 0,
             "ticks": ""
            },
            "type": "contourcarpet"
           }
          ],
          "heatmap": [
           {
            "colorbar": {
             "outlinewidth": 0,
             "ticks": ""
            },
            "colorscale": [
             [
              0,
              "#0d0887"
             ],
             [
              0.1111111111111111,
              "#46039f"
             ],
             [
              0.2222222222222222,
              "#7201a8"
             ],
             [
              0.3333333333333333,
              "#9c179e"
             ],
             [
              0.4444444444444444,
              "#bd3786"
             ],
             [
              0.5555555555555556,
              "#d8576b"
             ],
             [
              0.6666666666666666,
              "#ed7953"
             ],
             [
              0.7777777777777778,
              "#fb9f3a"
             ],
             [
              0.8888888888888888,
              "#fdca26"
             ],
             [
              1,
              "#f0f921"
             ]
            ],
            "type": "heatmap"
           }
          ],
          "heatmapgl": [
           {
            "colorbar": {
             "outlinewidth": 0,
             "ticks": ""
            },
            "colorscale": [
             [
              0,
              "#0d0887"
             ],
             [
              0.1111111111111111,
              "#46039f"
             ],
             [
              0.2222222222222222,
              "#7201a8"
             ],
             [
              0.3333333333333333,
              "#9c179e"
             ],
             [
              0.4444444444444444,
              "#bd3786"
             ],
             [
              0.5555555555555556,
              "#d8576b"
             ],
             [
              0.6666666666666666,
              "#ed7953"
             ],
             [
              0.7777777777777778,
              "#fb9f3a"
             ],
             [
              0.8888888888888888,
              "#fdca26"
             ],
             [
              1,
              "#f0f921"
             ]
            ],
            "type": "heatmapgl"
           }
          ],
          "histogram": [
           {
            "marker": {
             "pattern": {
              "fillmode": "overlay",
              "size": 10,
              "solidity": 0.2
             }
            },
            "type": "histogram"
           }
          ],
          "histogram2d": [
           {
            "colorbar": {
             "outlinewidth": 0,
             "ticks": ""
            },
            "colorscale": [
             [
              0,
              "#0d0887"
             ],
             [
              0.1111111111111111,
              "#46039f"
             ],
             [
              0.2222222222222222,
              "#7201a8"
             ],
             [
              0.3333333333333333,
              "#9c179e"
             ],
             [
              0.4444444444444444,
              "#bd3786"
             ],
             [
              0.5555555555555556,
              "#d8576b"
             ],
             [
              0.6666666666666666,
              "#ed7953"
             ],
             [
              0.7777777777777778,
              "#fb9f3a"
             ],
             [
              0.8888888888888888,
              "#fdca26"
             ],
             [
              1,
              "#f0f921"
             ]
            ],
            "type": "histogram2d"
           }
          ],
          "histogram2dcontour": [
           {
            "colorbar": {
             "outlinewidth": 0,
             "ticks": ""
            },
            "colorscale": [
             [
              0,
              "#0d0887"
             ],
             [
              0.1111111111111111,
              "#46039f"
             ],
             [
              0.2222222222222222,
              "#7201a8"
             ],
             [
              0.3333333333333333,
              "#9c179e"
             ],
             [
              0.4444444444444444,
              "#bd3786"
             ],
             [
              0.5555555555555556,
              "#d8576b"
             ],
             [
              0.6666666666666666,
              "#ed7953"
             ],
             [
              0.7777777777777778,
              "#fb9f3a"
             ],
             [
              0.8888888888888888,
              "#fdca26"
             ],
             [
              1,
              "#f0f921"
             ]
            ],
            "type": "histogram2dcontour"
           }
          ],
          "mesh3d": [
           {
            "colorbar": {
             "outlinewidth": 0,
             "ticks": ""
            },
            "type": "mesh3d"
           }
          ],
          "parcoords": [
           {
            "line": {
             "colorbar": {
              "outlinewidth": 0,
              "ticks": ""
             }
            },
            "type": "parcoords"
           }
          ],
          "pie": [
           {
            "automargin": true,
            "type": "pie"
           }
          ],
          "scatter": [
           {
            "marker": {
             "colorbar": {
              "outlinewidth": 0,
              "ticks": ""
             }
            },
            "type": "scatter"
           }
          ],
          "scatter3d": [
           {
            "line": {
             "colorbar": {
              "outlinewidth": 0,
              "ticks": ""
             }
            },
            "marker": {
             "colorbar": {
              "outlinewidth": 0,
              "ticks": ""
             }
            },
            "type": "scatter3d"
           }
          ],
          "scattercarpet": [
           {
            "marker": {
             "colorbar": {
              "outlinewidth": 0,
              "ticks": ""
             }
            },
            "type": "scattercarpet"
           }
          ],
          "scattergeo": [
           {
            "marker": {
             "colorbar": {
              "outlinewidth": 0,
              "ticks": ""
             }
            },
            "type": "scattergeo"
           }
          ],
          "scattergl": [
           {
            "marker": {
             "colorbar": {
              "outlinewidth": 0,
              "ticks": ""
             }
            },
            "type": "scattergl"
           }
          ],
          "scattermapbox": [
           {
            "marker": {
             "colorbar": {
              "outlinewidth": 0,
              "ticks": ""
             }
            },
            "type": "scattermapbox"
           }
          ],
          "scatterpolar": [
           {
            "marker": {
             "colorbar": {
              "outlinewidth": 0,
              "ticks": ""
             }
            },
            "type": "scatterpolar"
           }
          ],
          "scatterpolargl": [
           {
            "marker": {
             "colorbar": {
              "outlinewidth": 0,
              "ticks": ""
             }
            },
            "type": "scatterpolargl"
           }
          ],
          "scatterternary": [
           {
            "marker": {
             "colorbar": {
              "outlinewidth": 0,
              "ticks": ""
             }
            },
            "type": "scatterternary"
           }
          ],
          "surface": [
           {
            "colorbar": {
             "outlinewidth": 0,
             "ticks": ""
            },
            "colorscale": [
             [
              0,
              "#0d0887"
             ],
             [
              0.1111111111111111,
              "#46039f"
             ],
             [
              0.2222222222222222,
              "#7201a8"
             ],
             [
              0.3333333333333333,
              "#9c179e"
             ],
             [
              0.4444444444444444,
              "#bd3786"
             ],
             [
              0.5555555555555556,
              "#d8576b"
             ],
             [
              0.6666666666666666,
              "#ed7953"
             ],
             [
              0.7777777777777778,
              "#fb9f3a"
             ],
             [
              0.8888888888888888,
              "#fdca26"
             ],
             [
              1,
              "#f0f921"
             ]
            ],
            "type": "surface"
           }
          ],
          "table": [
           {
            "cells": {
             "fill": {
              "color": "#EBF0F8"
             },
             "line": {
              "color": "white"
             }
            },
            "header": {
             "fill": {
              "color": "#C8D4E3"
             },
             "line": {
              "color": "white"
             }
            },
            "type": "table"
           }
          ]
         },
         "layout": {
          "annotationdefaults": {
           "arrowcolor": "#2a3f5f",
           "arrowhead": 0,
           "arrowwidth": 1
          },
          "autotypenumbers": "strict",
          "coloraxis": {
           "colorbar": {
            "outlinewidth": 0,
            "ticks": ""
           }
          },
          "colorscale": {
           "diverging": [
            [
             0,
             "#8e0152"
            ],
            [
             0.1,
             "#c51b7d"
            ],
            [
             0.2,
             "#de77ae"
            ],
            [
             0.3,
             "#f1b6da"
            ],
            [
             0.4,
             "#fde0ef"
            ],
            [
             0.5,
             "#f7f7f7"
            ],
            [
             0.6,
             "#e6f5d0"
            ],
            [
             0.7,
             "#b8e186"
            ],
            [
             0.8,
             "#7fbc41"
            ],
            [
             0.9,
             "#4d9221"
            ],
            [
             1,
             "#276419"
            ]
           ],
           "sequential": [
            [
             0,
             "#0d0887"
            ],
            [
             0.1111111111111111,
             "#46039f"
            ],
            [
             0.2222222222222222,
             "#7201a8"
            ],
            [
             0.3333333333333333,
             "#9c179e"
            ],
            [
             0.4444444444444444,
             "#bd3786"
            ],
            [
             0.5555555555555556,
             "#d8576b"
            ],
            [
             0.6666666666666666,
             "#ed7953"
            ],
            [
             0.7777777777777778,
             "#fb9f3a"
            ],
            [
             0.8888888888888888,
             "#fdca26"
            ],
            [
             1,
             "#f0f921"
            ]
           ],
           "sequentialminus": [
            [
             0,
             "#0d0887"
            ],
            [
             0.1111111111111111,
             "#46039f"
            ],
            [
             0.2222222222222222,
             "#7201a8"
            ],
            [
             0.3333333333333333,
             "#9c179e"
            ],
            [
             0.4444444444444444,
             "#bd3786"
            ],
            [
             0.5555555555555556,
             "#d8576b"
            ],
            [
             0.6666666666666666,
             "#ed7953"
            ],
            [
             0.7777777777777778,
             "#fb9f3a"
            ],
            [
             0.8888888888888888,
             "#fdca26"
            ],
            [
             1,
             "#f0f921"
            ]
           ]
          },
          "colorway": [
           "#636efa",
           "#EF553B",
           "#00cc96",
           "#ab63fa",
           "#FFA15A",
           "#19d3f3",
           "#FF6692",
           "#B6E880",
           "#FF97FF",
           "#FECB52"
          ],
          "font": {
           "color": "#2a3f5f"
          },
          "geo": {
           "bgcolor": "white",
           "lakecolor": "white",
           "landcolor": "#E5ECF6",
           "showlakes": true,
           "showland": true,
           "subunitcolor": "white"
          },
          "hoverlabel": {
           "align": "left"
          },
          "hovermode": "closest",
          "mapbox": {
           "style": "light"
          },
          "paper_bgcolor": "white",
          "plot_bgcolor": "#E5ECF6",
          "polar": {
           "angularaxis": {
            "gridcolor": "white",
            "linecolor": "white",
            "ticks": ""
           },
           "bgcolor": "#E5ECF6",
           "radialaxis": {
            "gridcolor": "white",
            "linecolor": "white",
            "ticks": ""
           }
          },
          "scene": {
           "xaxis": {
            "backgroundcolor": "#E5ECF6",
            "gridcolor": "white",
            "gridwidth": 2,
            "linecolor": "white",
            "showbackground": true,
            "ticks": "",
            "zerolinecolor": "white"
           },
           "yaxis": {
            "backgroundcolor": "#E5ECF6",
            "gridcolor": "white",
            "gridwidth": 2,
            "linecolor": "white",
            "showbackground": true,
            "ticks": "",
            "zerolinecolor": "white"
           },
           "zaxis": {
            "backgroundcolor": "#E5ECF6",
            "gridcolor": "white",
            "gridwidth": 2,
            "linecolor": "white",
            "showbackground": true,
            "ticks": "",
            "zerolinecolor": "white"
           }
          },
          "shapedefaults": {
           "line": {
            "color": "#2a3f5f"
           }
          },
          "ternary": {
           "aaxis": {
            "gridcolor": "white",
            "linecolor": "white",
            "ticks": ""
           },
           "baxis": {
            "gridcolor": "white",
            "linecolor": "white",
            "ticks": ""
           },
           "bgcolor": "#E5ECF6",
           "caxis": {
            "gridcolor": "white",
            "linecolor": "white",
            "ticks": ""
           }
          },
          "title": {
           "x": 0.05
          },
          "xaxis": {
           "automargin": true,
           "gridcolor": "white",
           "linecolor": "white",
           "ticks": "",
           "title": {
            "standoff": 15
           },
           "zerolinecolor": "white",
           "zerolinewidth": 2
          },
          "yaxis": {
           "automargin": true,
           "gridcolor": "white",
           "linecolor": "white",
           "ticks": "",
           "title": {
            "standoff": 15
           },
           "zerolinecolor": "white",
           "zerolinewidth": 2
          }
         }
        },
        "xaxis": {
         "anchor": "y",
         "domain": [
          0,
          0.2888888888888889
         ]
        },
        "xaxis2": {
         "anchor": "y2",
         "domain": [
          0.35555555555555557,
          0.6444444444444445
         ]
        },
        "xaxis3": {
         "anchor": "y3",
         "domain": [
          0.7111111111111111,
          1
         ]
        },
        "xaxis4": {
         "anchor": "y4",
         "domain": [
          0,
          0.2888888888888889
         ]
        },
        "xaxis5": {
         "anchor": "y5",
         "domain": [
          0.35555555555555557,
          0.6444444444444445
         ]
        },
        "xaxis6": {
         "anchor": "y6",
         "domain": [
          0.7111111111111111,
          1
         ]
        },
        "xaxis7": {
         "anchor": "y7",
         "domain": [
          0,
          0.2888888888888889
         ]
        },
        "xaxis8": {
         "anchor": "y8",
         "domain": [
          0.35555555555555557,
          0.6444444444444445
         ]
        },
        "xaxis9": {
         "anchor": "y9",
         "domain": [
          0.7111111111111111,
          1
         ]
        },
        "yaxis": {
         "anchor": "x",
         "domain": [
          0.8666666666666667,
          1
         ]
        },
        "yaxis2": {
         "anchor": "x2",
         "domain": [
          0.8666666666666667,
          1
         ]
        },
        "yaxis3": {
         "anchor": "x3",
         "domain": [
          0.8666666666666667,
          1
         ]
        },
        "yaxis4": {
         "anchor": "x4",
         "domain": [
          0.43333333333333335,
          0.5666666666666667
         ]
        },
        "yaxis5": {
         "anchor": "x5",
         "domain": [
          0.43333333333333335,
          0.5666666666666667
         ]
        },
        "yaxis6": {
         "anchor": "x6",
         "domain": [
          0.43333333333333335,
          0.5666666666666667
         ]
        },
        "yaxis7": {
         "anchor": "x7",
         "domain": [
          0,
          0.13333333333333333
         ]
        },
        "yaxis8": {
         "anchor": "x8",
         "domain": [
          0,
          0.13333333333333333
         ]
        },
        "yaxis9": {
         "anchor": "x9",
         "domain": [
          0,
          0.13333333333333333
         ]
        }
       }
      },
      "text/html": [
       "<div>                            <div id=\"488fcb54-8bc0-4ef2-b683-fd91fe46c3d8\" class=\"plotly-graph-div\" style=\"height:525px; width:100%;\"></div>            <script type=\"text/javascript\">                require([\"plotly\"], function(Plotly) {                    window.PLOTLYENV=window.PLOTLYENV || {};                                    if (document.getElementById(\"488fcb54-8bc0-4ef2-b683-fd91fe46c3d8\")) {                    Plotly.newPlot(                        \"488fcb54-8bc0-4ef2-b683-fd91fe46c3d8\",                        [{\"x\":[\"No\",\"Yes\"],\"y\":[61,46],\"type\":\"bar\",\"xaxis\":\"x\",\"yaxis\":\"y\"},{\"x\":[\"No\",\"Yes\"],\"y\":[2,14],\"type\":\"bar\",\"xaxis\":\"x2\",\"yaxis\":\"y2\"},{\"x\":[\"No\",\"Yes\"],\"y\":[0,9],\"type\":\"bar\",\"xaxis\":\"x3\",\"yaxis\":\"y3\"},{\"x\":[\"No\",\"Yes\"],\"y\":[4,16],\"type\":\"bar\",\"xaxis\":\"x4\",\"yaxis\":\"y4\"},{\"x\":[\"No\",\"Yes\"],\"y\":[3,16],\"type\":\"bar\",\"xaxis\":\"x5\",\"yaxis\":\"y5\"},{\"x\":[\"No\",\"Yes\"],\"y\":[8,21],\"type\":\"bar\",\"xaxis\":\"x6\",\"yaxis\":\"y6\"},{\"x\":[\"No\",\"Yes\"],\"y\":[32,14],\"type\":\"bar\",\"xaxis\":\"x7\",\"yaxis\":\"y7\"},{\"x\":[\"No\",\"Yes\"],\"y\":[1,2],\"type\":\"bar\",\"xaxis\":\"x8\",\"yaxis\":\"y8\"},{\"x\":[\"No\",\"Yes\"],\"y\":[19,8],\"type\":\"bar\",\"xaxis\":\"x9\",\"yaxis\":\"y9\"}],                        {\"template\":{\"data\":{\"bar\":[{\"error_x\":{\"color\":\"#2a3f5f\"},\"error_y\":{\"color\":\"#2a3f5f\"},\"marker\":{\"line\":{\"color\":\"#E5ECF6\",\"width\":0.5},\"pattern\":{\"fillmode\":\"overlay\",\"size\":10,\"solidity\":0.2}},\"type\":\"bar\"}],\"barpolar\":[{\"marker\":{\"line\":{\"color\":\"#E5ECF6\",\"width\":0.5},\"pattern\":{\"fillmode\":\"overlay\",\"size\":10,\"solidity\":0.2}},\"type\":\"barpolar\"}],\"carpet\":[{\"aaxis\":{\"endlinecolor\":\"#2a3f5f\",\"gridcolor\":\"white\",\"linecolor\":\"white\",\"minorgridcolor\":\"white\",\"startlinecolor\":\"#2a3f5f\"},\"baxis\":{\"endlinecolor\":\"#2a3f5f\",\"gridcolor\":\"white\",\"linecolor\":\"white\",\"minorgridcolor\":\"white\",\"startlinecolor\":\"#2a3f5f\"},\"type\":\"carpet\"}],\"choropleth\":[{\"colorbar\":{\"outlinewidth\":0,\"ticks\":\"\"},\"type\":\"choropleth\"}],\"contour\":[{\"colorbar\":{\"outlinewidth\":0,\"ticks\":\"\"},\"colorscale\":[[0.0,\"#0d0887\"],[0.1111111111111111,\"#46039f\"],[0.2222222222222222,\"#7201a8\"],[0.3333333333333333,\"#9c179e\"],[0.4444444444444444,\"#bd3786\"],[0.5555555555555556,\"#d8576b\"],[0.6666666666666666,\"#ed7953\"],[0.7777777777777778,\"#fb9f3a\"],[0.8888888888888888,\"#fdca26\"],[1.0,\"#f0f921\"]],\"type\":\"contour\"}],\"contourcarpet\":[{\"colorbar\":{\"outlinewidth\":0,\"ticks\":\"\"},\"type\":\"contourcarpet\"}],\"heatmap\":[{\"colorbar\":{\"outlinewidth\":0,\"ticks\":\"\"},\"colorscale\":[[0.0,\"#0d0887\"],[0.1111111111111111,\"#46039f\"],[0.2222222222222222,\"#7201a8\"],[0.3333333333333333,\"#9c179e\"],[0.4444444444444444,\"#bd3786\"],[0.5555555555555556,\"#d8576b\"],[0.6666666666666666,\"#ed7953\"],[0.7777777777777778,\"#fb9f3a\"],[0.8888888888888888,\"#fdca26\"],[1.0,\"#f0f921\"]],\"type\":\"heatmap\"}],\"heatmapgl\":[{\"colorbar\":{\"outlinewidth\":0,\"ticks\":\"\"},\"colorscale\":[[0.0,\"#0d0887\"],[0.1111111111111111,\"#46039f\"],[0.2222222222222222,\"#7201a8\"],[0.3333333333333333,\"#9c179e\"],[0.4444444444444444,\"#bd3786\"],[0.5555555555555556,\"#d8576b\"],[0.6666666666666666,\"#ed7953\"],[0.7777777777777778,\"#fb9f3a\"],[0.8888888888888888,\"#fdca26\"],[1.0,\"#f0f921\"]],\"type\":\"heatmapgl\"}],\"histogram\":[{\"marker\":{\"pattern\":{\"fillmode\":\"overlay\",\"size\":10,\"solidity\":0.2}},\"type\":\"histogram\"}],\"histogram2d\":[{\"colorbar\":{\"outlinewidth\":0,\"ticks\":\"\"},\"colorscale\":[[0.0,\"#0d0887\"],[0.1111111111111111,\"#46039f\"],[0.2222222222222222,\"#7201a8\"],[0.3333333333333333,\"#9c179e\"],[0.4444444444444444,\"#bd3786\"],[0.5555555555555556,\"#d8576b\"],[0.6666666666666666,\"#ed7953\"],[0.7777777777777778,\"#fb9f3a\"],[0.8888888888888888,\"#fdca26\"],[1.0,\"#f0f921\"]],\"type\":\"histogram2d\"}],\"histogram2dcontour\":[{\"colorbar\":{\"outlinewidth\":0,\"ticks\":\"\"},\"colorscale\":[[0.0,\"#0d0887\"],[0.1111111111111111,\"#46039f\"],[0.2222222222222222,\"#7201a8\"],[0.3333333333333333,\"#9c179e\"],[0.4444444444444444,\"#bd3786\"],[0.5555555555555556,\"#d8576b\"],[0.6666666666666666,\"#ed7953\"],[0.7777777777777778,\"#fb9f3a\"],[0.8888888888888888,\"#fdca26\"],[1.0,\"#f0f921\"]],\"type\":\"histogram2dcontour\"}],\"mesh3d\":[{\"colorbar\":{\"outlinewidth\":0,\"ticks\":\"\"},\"type\":\"mesh3d\"}],\"parcoords\":[{\"line\":{\"colorbar\":{\"outlinewidth\":0,\"ticks\":\"\"}},\"type\":\"parcoords\"}],\"pie\":[{\"automargin\":true,\"type\":\"pie\"}],\"scatter\":[{\"marker\":{\"colorbar\":{\"outlinewidth\":0,\"ticks\":\"\"}},\"type\":\"scatter\"}],\"scatter3d\":[{\"line\":{\"colorbar\":{\"outlinewidth\":0,\"ticks\":\"\"}},\"marker\":{\"colorbar\":{\"outlinewidth\":0,\"ticks\":\"\"}},\"type\":\"scatter3d\"}],\"scattercarpet\":[{\"marker\":{\"colorbar\":{\"outlinewidth\":0,\"ticks\":\"\"}},\"type\":\"scattercarpet\"}],\"scattergeo\":[{\"marker\":{\"colorbar\":{\"outlinewidth\":0,\"ticks\":\"\"}},\"type\":\"scattergeo\"}],\"scattergl\":[{\"marker\":{\"colorbar\":{\"outlinewidth\":0,\"ticks\":\"\"}},\"type\":\"scattergl\"}],\"scattermapbox\":[{\"marker\":{\"colorbar\":{\"outlinewidth\":0,\"ticks\":\"\"}},\"type\":\"scattermapbox\"}],\"scatterpolar\":[{\"marker\":{\"colorbar\":{\"outlinewidth\":0,\"ticks\":\"\"}},\"type\":\"scatterpolar\"}],\"scatterpolargl\":[{\"marker\":{\"colorbar\":{\"outlinewidth\":0,\"ticks\":\"\"}},\"type\":\"scatterpolargl\"}],\"scatterternary\":[{\"marker\":{\"colorbar\":{\"outlinewidth\":0,\"ticks\":\"\"}},\"type\":\"scatterternary\"}],\"surface\":[{\"colorbar\":{\"outlinewidth\":0,\"ticks\":\"\"},\"colorscale\":[[0.0,\"#0d0887\"],[0.1111111111111111,\"#46039f\"],[0.2222222222222222,\"#7201a8\"],[0.3333333333333333,\"#9c179e\"],[0.4444444444444444,\"#bd3786\"],[0.5555555555555556,\"#d8576b\"],[0.6666666666666666,\"#ed7953\"],[0.7777777777777778,\"#fb9f3a\"],[0.8888888888888888,\"#fdca26\"],[1.0,\"#f0f921\"]],\"type\":\"surface\"}],\"table\":[{\"cells\":{\"fill\":{\"color\":\"#EBF0F8\"},\"line\":{\"color\":\"white\"}},\"header\":{\"fill\":{\"color\":\"#C8D4E3\"},\"line\":{\"color\":\"white\"}},\"type\":\"table\"}]},\"layout\":{\"annotationdefaults\":{\"arrowcolor\":\"#2a3f5f\",\"arrowhead\":0,\"arrowwidth\":1},\"autotypenumbers\":\"strict\",\"coloraxis\":{\"colorbar\":{\"outlinewidth\":0,\"ticks\":\"\"}},\"colorscale\":{\"diverging\":[[0,\"#8e0152\"],[0.1,\"#c51b7d\"],[0.2,\"#de77ae\"],[0.3,\"#f1b6da\"],[0.4,\"#fde0ef\"],[0.5,\"#f7f7f7\"],[0.6,\"#e6f5d0\"],[0.7,\"#b8e186\"],[0.8,\"#7fbc41\"],[0.9,\"#4d9221\"],[1,\"#276419\"]],\"sequential\":[[0.0,\"#0d0887\"],[0.1111111111111111,\"#46039f\"],[0.2222222222222222,\"#7201a8\"],[0.3333333333333333,\"#9c179e\"],[0.4444444444444444,\"#bd3786\"],[0.5555555555555556,\"#d8576b\"],[0.6666666666666666,\"#ed7953\"],[0.7777777777777778,\"#fb9f3a\"],[0.8888888888888888,\"#fdca26\"],[1.0,\"#f0f921\"]],\"sequentialminus\":[[0.0,\"#0d0887\"],[0.1111111111111111,\"#46039f\"],[0.2222222222222222,\"#7201a8\"],[0.3333333333333333,\"#9c179e\"],[0.4444444444444444,\"#bd3786\"],[0.5555555555555556,\"#d8576b\"],[0.6666666666666666,\"#ed7953\"],[0.7777777777777778,\"#fb9f3a\"],[0.8888888888888888,\"#fdca26\"],[1.0,\"#f0f921\"]]},\"colorway\":[\"#636efa\",\"#EF553B\",\"#00cc96\",\"#ab63fa\",\"#FFA15A\",\"#19d3f3\",\"#FF6692\",\"#B6E880\",\"#FF97FF\",\"#FECB52\"],\"font\":{\"color\":\"#2a3f5f\"},\"geo\":{\"bgcolor\":\"white\",\"lakecolor\":\"white\",\"landcolor\":\"#E5ECF6\",\"showlakes\":true,\"showland\":true,\"subunitcolor\":\"white\"},\"hoverlabel\":{\"align\":\"left\"},\"hovermode\":\"closest\",\"mapbox\":{\"style\":\"light\"},\"paper_bgcolor\":\"white\",\"plot_bgcolor\":\"#E5ECF6\",\"polar\":{\"angularaxis\":{\"gridcolor\":\"white\",\"linecolor\":\"white\",\"ticks\":\"\"},\"bgcolor\":\"#E5ECF6\",\"radialaxis\":{\"gridcolor\":\"white\",\"linecolor\":\"white\",\"ticks\":\"\"}},\"scene\":{\"xaxis\":{\"backgroundcolor\":\"#E5ECF6\",\"gridcolor\":\"white\",\"gridwidth\":2,\"linecolor\":\"white\",\"showbackground\":true,\"ticks\":\"\",\"zerolinecolor\":\"white\"},\"yaxis\":{\"backgroundcolor\":\"#E5ECF6\",\"gridcolor\":\"white\",\"gridwidth\":2,\"linecolor\":\"white\",\"showbackground\":true,\"ticks\":\"\",\"zerolinecolor\":\"white\"},\"zaxis\":{\"backgroundcolor\":\"#E5ECF6\",\"gridcolor\":\"white\",\"gridwidth\":2,\"linecolor\":\"white\",\"showbackground\":true,\"ticks\":\"\",\"zerolinecolor\":\"white\"}},\"shapedefaults\":{\"line\":{\"color\":\"#2a3f5f\"}},\"ternary\":{\"aaxis\":{\"gridcolor\":\"white\",\"linecolor\":\"white\",\"ticks\":\"\"},\"baxis\":{\"gridcolor\":\"white\",\"linecolor\":\"white\",\"ticks\":\"\"},\"bgcolor\":\"#E5ECF6\",\"caxis\":{\"gridcolor\":\"white\",\"linecolor\":\"white\",\"ticks\":\"\"}},\"title\":{\"x\":0.05},\"xaxis\":{\"automargin\":true,\"gridcolor\":\"white\",\"linecolor\":\"white\",\"ticks\":\"\",\"title\":{\"standoff\":15},\"zerolinecolor\":\"white\",\"zerolinewidth\":2},\"yaxis\":{\"automargin\":true,\"gridcolor\":\"white\",\"linecolor\":\"white\",\"ticks\":\"\",\"title\":{\"standoff\":15},\"zerolinecolor\":\"white\",\"zerolinewidth\":2}}},\"xaxis\":{\"anchor\":\"y\",\"domain\":[0.0,0.2888888888888889]},\"yaxis\":{\"anchor\":\"x\",\"domain\":[0.8666666666666667,1.0]},\"xaxis2\":{\"anchor\":\"y2\",\"domain\":[0.35555555555555557,0.6444444444444445]},\"yaxis2\":{\"anchor\":\"x2\",\"domain\":[0.8666666666666667,1.0]},\"xaxis3\":{\"anchor\":\"y3\",\"domain\":[0.7111111111111111,1.0]},\"yaxis3\":{\"anchor\":\"x3\",\"domain\":[0.8666666666666667,1.0]},\"xaxis4\":{\"anchor\":\"y4\",\"domain\":[0.0,0.2888888888888889]},\"yaxis4\":{\"anchor\":\"x4\",\"domain\":[0.43333333333333335,0.5666666666666667]},\"xaxis5\":{\"anchor\":\"y5\",\"domain\":[0.35555555555555557,0.6444444444444445]},\"yaxis5\":{\"anchor\":\"x5\",\"domain\":[0.43333333333333335,0.5666666666666667]},\"xaxis6\":{\"anchor\":\"y6\",\"domain\":[0.7111111111111111,1.0]},\"yaxis6\":{\"anchor\":\"x6\",\"domain\":[0.43333333333333335,0.5666666666666667]},\"xaxis7\":{\"anchor\":\"y7\",\"domain\":[0.0,0.2888888888888889]},\"yaxis7\":{\"anchor\":\"x7\",\"domain\":[0.0,0.13333333333333333]},\"xaxis8\":{\"anchor\":\"y8\",\"domain\":[0.35555555555555557,0.6444444444444445]},\"yaxis8\":{\"anchor\":\"x8\",\"domain\":[0.0,0.13333333333333333]},\"xaxis9\":{\"anchor\":\"y9\",\"domain\":[0.7111111111111111,1.0]},\"yaxis9\":{\"anchor\":\"x9\",\"domain\":[0.0,0.13333333333333333]},\"annotations\":[{\"font\":{\"size\":16},\"showarrow\":false,\"text\":\"Dataset\",\"x\":0.14444444444444446,\"xanchor\":\"center\",\"xref\":\"paper\",\"y\":1.0,\"yanchor\":\"bottom\",\"yref\":\"paper\"},{\"font\":{\"size\":16},\"showarrow\":false,\"text\":\"revers_player_2 = 1 AND <br> revers_player_1 = 0\",\"x\":0.5,\"xanchor\":\"center\",\"xref\":\"paper\",\"y\":1.0,\"yanchor\":\"bottom\",\"yref\":\"paper\"},{\"font\":{\"size\":16},\"showarrow\":false,\"text\":\"M2_reception = 1 AND <br> controle_player_1 = 0\",\"x\":0.8555555555555556,\"xanchor\":\"center\",\"xref\":\"paper\",\"y\":1.0,\"yanchor\":\"bottom\",\"yref\":\"paper\"},{\"font\":{\"size\":16},\"showarrow\":false,\"text\":\"Gagnant_ou_pas = > AND M1_envoie = 0\",\"x\":0.14444444444444446,\"xanchor\":\"center\",\"xref\":\"paper\",\"y\":0.5666666666666667,\"yanchor\":\"bottom\",\"yref\":\"paper\"},{\"font\":{\"size\":16},\"showarrow\":false,\"text\":\"revers_player_2 = 1 AND <br> D3_reception = 0\",\"x\":0.5,\"xanchor\":\"center\",\"xref\":\"paper\",\"y\":0.5666666666666667,\"yanchor\":\"bottom\",\"yref\":\"paper\"},{\"font\":{\"size\":16},\"showarrow\":false,\"text\":\"revers_player_2 = 1 AND <br> poussette_player_1 = 0\",\"x\":0.8555555555555556,\"xanchor\":\"center\",\"xref\":\"paper\",\"y\":0.5666666666666667,\"yanchor\":\"bottom\",\"yref\":\"paper\"},{\"font\":{\"size\":16},\"showarrow\":false,\"text\":\"coup_droit_player_2 = 1\",\"x\":0.14444444444444446,\"xanchor\":\"center\",\"xref\":\"paper\",\"y\":0.13333333333333333,\"yanchor\":\"bottom\",\"yref\":\"paper\"},{\"font\":{\"size\":16},\"showarrow\":false,\"text\":\"D3_envoie = 2\",\"x\":0.5,\"xanchor\":\"center\",\"xref\":\"paper\",\"y\":0.13333333333333333,\"yanchor\":\"bottom\",\"yref\":\"paper\"},{\"font\":{\"size\":16},\"showarrow\":false,\"text\":\"Duree = long\",\"x\":0.8555555555555556,\"xanchor\":\"center\",\"xref\":\"paper\",\"y\":0.13333333333333333,\"yanchor\":\"bottom\",\"yref\":\"paper\"},{\"showarrow\":false,\"text\":\"Gagnant\",\"x\":0.5,\"xref\":\"paper\",\"y\":-0.15,\"yref\":\"paper\"},{\"showarrow\":false,\"text\":\"Frequency count\",\"textangle\":-90,\"x\":-0.07,\"xref\":\"paper\",\"y\":0.5,\"yref\":\"paper\"}],\"showlegend\":false},                        {\"responsive\": true}                    ).then(function(){\n",
       "                            \n",
       "var gd = document.getElementById('488fcb54-8bc0-4ef2-b683-fd91fe46c3d8');\n",
       "var x = new MutationObserver(function (mutations, observer) {{\n",
       "        var display = window.getComputedStyle(gd).display;\n",
       "        if (!display || display === 'none') {{\n",
       "            console.log([gd, 'removed!']);\n",
       "            Plotly.purge(gd);\n",
       "            observer.disconnect();\n",
       "        }}\n",
       "}});\n",
       "\n",
       "// Listen for the removal of the full notebook cells\n",
       "var notebookContainer = gd.closest('#notebook-container');\n",
       "if (notebookContainer) {{\n",
       "    x.observe(notebookContainer, {childList: true});\n",
       "}}\n",
       "\n",
       "// Listen for the clearing of the current output cell\n",
       "var outputEl = gd.closest('.output');\n",
       "if (outputEl) {{\n",
       "    x.observe(outputEl, {childList: true});\n",
       "}}\n",
       "\n",
       "                        })                };                });            </script>        </div>"
      ]
     },
     "metadata": {},
     "output_type": "display_data"
    }
   ],
   "source": [
    "target_columns = ['Gagnant']\n",
    "clf = emm.EMM(width=10, depth=2, evaluation_metric='distribution_cosine')\n",
    "clf.search(bt_data, target_cols=target_columns)\n",
    "clf.visualise(subgroups=8, cols=3)"
   ]
  },
  {
   "cell_type": "markdown",
   "id": "2bc84a5f",
   "metadata": {},
   "source": [
    "Le joueur __B__ a gagné __46__ points sur __106__ joués.\n",
    "\n",
    "1. si l'adversaire a joué un coup de revers et que __B__ ne joue aucun coup de revers, __B__ a des fortes chances de gagner le point (14 points gagnés sur 16);\n",
    "2. si __B__ reçoie sur __M2__ une fois lors du point et qu'il effectue jamais un coup de type \"contrôle\", il a des fortes chances de gagner le point (9 points gagnés sur 9);\n",
    "3. si __B__ est en train de ganger le set et que il envoie jamais sur __M1__, il a des fortes chances de gagner le point (16 points gagnés sur 20);\n",
    "4. si l'adversaire joue de fois un coup de type \"contrôle\" et que le point a une durée moyenne, __B__ a des fortes chances de gagner le point (6 points gagnés sur 6);\n",
    "5. si pendant un point l'adversaire joue un seul coup de revers et qu'il envoie jamais sur __D3__,le joueur __B__ a des bonnes chances de remporter le point (26 points gagnés sur 19);\n",
    "6. si l'adversaire joue deux coups de type \"contrôle\" lors du points et qu'il envoie jamais sur __M1__, __B__ a des fortes chances de gagner le point (7 points gagnés sur 8);\n",
    "7. si l'adversaire joue un coup de revers et que __B__ ne joue aucun coup de type \"poussette\" lors du point, alors il a des bonnes chances de gagner le point (21 points gagnés sur 29)."
   ]
  },
  {
   "cell_type": "markdown",
   "id": "a1edb052",
   "metadata": {},
   "source": [
    "## Considérations sur l'algoritmhe _EMM_\n",
    "\n",
    "D'un point de vue technique, il n'est pas de facile implementation, étant le package pauvre en documentation. Pour en comprendre certains aspects, nous avons dû aller regarder le code source, notamment pour savoir le nombre de targets nécessité par chaque métrique (important pour appliquer une stratégie plutôt qu'une autre) ou encore le type que les colonnes sont censées avoir (type: <u>object</u>).\n",
    "\n",
    "En dehors de ça, on peut vraiment remarquer comme l'algorithme fasse une _recherche excpetionnelle de motifs_; pour le joueur __F__ il nous propose uniquement des motifs dans lesquels il perd des points, alors qu'on sait _a priori_ qu'il est le joueur qui a remporté le plus de points et qui a gagné la partie. Viceversa, en considérant le joueur __B__, il nous retourne que des motifs pour lesquels il gagne des points.\n",
    "\n",
    "La métrique utilisée, _distribution cosine_ permet évaluer la similarité d'objets en régardant leurs taille."
   ]
  }
 ],
 "metadata": {
  "kernelspec": {
   "display_name": "pat_search",
   "language": "python",
   "name": "pat_search"
  },
  "language_info": {
   "codemirror_mode": {
    "name": "ipython",
    "version": 3
   },
   "file_extension": ".py",
   "mimetype": "text/x-python",
   "name": "python",
   "nbconvert_exporter": "python",
   "pygments_lexer": "ipython3",
   "version": "3.8.10"
  }
 },
 "nbformat": 4,
 "nbformat_minor": 5
}
