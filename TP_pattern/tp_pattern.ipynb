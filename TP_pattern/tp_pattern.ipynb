{
 "cells": [
  {
   "cell_type": "markdown",
   "metadata": {},
   "source": [
    "# TP : Application de la découverte de motifs pour l’analyse de parties de Tennis de Table\n",
    "\n",
    "#### Louis-Maël Gueguen (p2006947), Bertrand Huguenin-Bizot (p2019360), Tommaso Barberis (p1708628), Amélie Lafont (p2017902), Marie Verneret (p1609009)\n",
    "\n",
    "## Introduction \n",
    "\n",
    "Le but de ce TP est d'appliquer différents algorithmes de recherche de motifs afin d'analyser un fichier décrivant une partie de Tennis de Table où les échanges ont été annotés. \n",
    "Malheureusement, la personne qui a complété ce fichier a changé certaines notations en cours de route, a décalé certaines lignes ou a omis de remplir certaines cellules. \n",
    "Le jeu de données a donc été modifié à la main (en utilisant un logiciel tableur) afin de l'homogénéiser et de le rendre exploitable.  \n",
    "\n",
    "Nous avons choisi d'orienter notre approche de sorte à comprendre quelles sont les meilleures combinaisons utilisées par les deux joueurs pour marquer un point. \n",
    "Trois stratégies différentes ont été adoptées :\n",
    "- Influence du service sur le marquage des points (__pysubgroup__)\n",
    "- Combinaison d'attributs qui mène à un point (__pysubgroup__ et __exceptional model mining__ - __EMM__)\n",
    "- Stratégie adoptée par les joueurs (__mlxtend__)"
   ]
  },
  {
   "cell_type": "markdown",
   "metadata": {},
   "source": [
    "## 1 Influence du service (pysubgroup)"
   ]
  },
  {
   "cell_type": "code",
   "execution_count": 4,
   "metadata": {},
   "outputs": [],
   "source": [
    "import pysubgroup as ps\n",
    "import pandas as pd"
   ]
  },
  {
   "cell_type": "code",
   "execution_count": 5,
   "metadata": {},
   "outputs": [],
   "source": [
    "#importation du jeu de données\n",
    "data=pd.read_csv(\"TT_game.csv\", sep=';')"
   ]
  },
  {
   "cell_type": "markdown",
   "metadata": {},
   "source": [
    "### Reformatage des données\n",
    "\n",
    "Comme nous souhaitons analyser si le service donne un avantage pour marquer un point, il est important de produire un dataframe dans lequel une ligne correspond à un point. Il a donc été nécessaire de reformater les données en gardant uniquement les colonnes d'intérêt et en regroupant les informations d'un échange en une ligne. Pour cela, nous avons supprimé toutes les lignes pour lequelles nous n'avions pas d'information sur les types de services et les zones de jeu. Ainsi les lignes correspondant au service et au marquage d'un point sont conservées. "
   ]
  },
  {
   "cell_type": "code",
   "execution_count": 6,
   "metadata": {},
   "outputs": [
    {
     "data": {
      "text/html": [
       "<div>\n",
       "<style scoped>\n",
       "    .dataframe tbody tr th:only-of-type {\n",
       "        vertical-align: middle;\n",
       "    }\n",
       "\n",
       "    .dataframe tbody tr th {\n",
       "        vertical-align: top;\n",
       "    }\n",
       "\n",
       "    .dataframe thead th {\n",
       "        text-align: right;\n",
       "    }\n",
       "</style>\n",
       "<table border=\"1\" class=\"dataframe\">\n",
       "  <thead>\n",
       "    <tr style=\"text-align: right;\">\n",
       "      <th></th>\n",
       "      <th>Nom</th>\n",
       "      <th>Coup</th>\n",
       "      <th>Type de service</th>\n",
       "      <th>Type Coup TK</th>\n",
       "      <th>Zone de jeu</th>\n",
       "    </tr>\n",
       "  </thead>\n",
       "  <tbody>\n",
       "    <tr>\n",
       "      <th>0</th>\n",
       "      <td>F.T. (1)</td>\n",
       "      <td>F.T.</td>\n",
       "      <td>Latéral droit</td>\n",
       "      <td>NaN</td>\n",
       "      <td>M2</td>\n",
       "    </tr>\n",
       "    <tr>\n",
       "      <th>1</th>\n",
       "      <td>F.T. (4)</td>\n",
       "      <td>Serveur Point -</td>\n",
       "      <td>NaN</td>\n",
       "      <td>Controle / Résistance</td>\n",
       "      <td>NaN</td>\n",
       "    </tr>\n",
       "    <tr>\n",
       "      <th>2</th>\n",
       "      <td>F.T. (5)</td>\n",
       "      <td>F.T.</td>\n",
       "      <td>Latéral droit</td>\n",
       "      <td>NaN</td>\n",
       "      <td>M2</td>\n",
       "    </tr>\n",
       "    <tr>\n",
       "      <th>3</th>\n",
       "      <td>F.T. (7)</td>\n",
       "      <td>Serveur Point -</td>\n",
       "      <td>NaN</td>\n",
       "      <td>Attaque / Offensif</td>\n",
       "      <td>NaN</td>\n",
       "    </tr>\n",
       "    <tr>\n",
       "      <th>4</th>\n",
       "      <td>B.T. (6)</td>\n",
       "      <td>B.T.</td>\n",
       "      <td>Latéral gauche</td>\n",
       "      <td>NaN</td>\n",
       "      <td>G21</td>\n",
       "    </tr>\n",
       "    <tr>\n",
       "      <th>...</th>\n",
       "      <td>...</td>\n",
       "      <td>...</td>\n",
       "      <td>...</td>\n",
       "      <td>...</td>\n",
       "      <td>...</td>\n",
       "    </tr>\n",
       "    <tr>\n",
       "      <th>209</th>\n",
       "      <td>F.T. (255)</td>\n",
       "      <td>Serveur Point +</td>\n",
       "      <td>NaN</td>\n",
       "      <td>Attaque / Offensif</td>\n",
       "      <td>NaN</td>\n",
       "    </tr>\n",
       "    <tr>\n",
       "      <th>210</th>\n",
       "      <td>F.T. (257)</td>\n",
       "      <td>F.T.</td>\n",
       "      <td>Latéral droit</td>\n",
       "      <td>NaN</td>\n",
       "      <td>M2</td>\n",
       "    </tr>\n",
       "    <tr>\n",
       "      <th>211</th>\n",
       "      <td>F.T. (258)</td>\n",
       "      <td>Serveur Point -</td>\n",
       "      <td>NaN</td>\n",
       "      <td>Controle / Résistance</td>\n",
       "      <td>NaN</td>\n",
       "    </tr>\n",
       "    <tr>\n",
       "      <th>212</th>\n",
       "      <td>F.T. (259)</td>\n",
       "      <td>F.T.</td>\n",
       "      <td>Latéral droit</td>\n",
       "      <td>NaN</td>\n",
       "      <td>M1</td>\n",
       "    </tr>\n",
       "    <tr>\n",
       "      <th>213</th>\n",
       "      <td>B.T. (257)</td>\n",
       "      <td>Serveur Point +</td>\n",
       "      <td>NaN</td>\n",
       "      <td>Controle / Résistance</td>\n",
       "      <td>NaN</td>\n",
       "    </tr>\n",
       "  </tbody>\n",
       "</table>\n",
       "<p>214 rows × 5 columns</p>\n",
       "</div>"
      ],
      "text/plain": [
       "            Nom             Coup Type de service           Type Coup TK  \\\n",
       "0      F.T. (1)             F.T.   Latéral droit                    NaN   \n",
       "1      F.T. (4)  Serveur Point -             NaN  Controle / Résistance   \n",
       "2      F.T. (5)             F.T.   Latéral droit                    NaN   \n",
       "3      F.T. (7)  Serveur Point -             NaN     Attaque / Offensif   \n",
       "4      B.T. (6)             B.T.  Latéral gauche                    NaN   \n",
       "..          ...              ...             ...                    ...   \n",
       "209  F.T. (255)  Serveur Point +             NaN     Attaque / Offensif   \n",
       "210  F.T. (257)             F.T.   Latéral droit                    NaN   \n",
       "211  F.T. (258)  Serveur Point -             NaN  Controle / Résistance   \n",
       "212  F.T. (259)             F.T.   Latéral droit                    NaN   \n",
       "213  B.T. (257)  Serveur Point +             NaN  Controle / Résistance   \n",
       "\n",
       "    Zone de jeu  \n",
       "0            M2  \n",
       "1           NaN  \n",
       "2            M2  \n",
       "3           NaN  \n",
       "4           G21  \n",
       "..          ...  \n",
       "209         NaN  \n",
       "210          M2  \n",
       "211         NaN  \n",
       "212          M1  \n",
       "213         NaN  \n",
       "\n",
       "[214 rows x 5 columns]"
      ]
     },
     "execution_count": 6,
     "metadata": {},
     "output_type": "execute_result"
    }
   ],
   "source": [
    "###Reformatage des données (on ne garde que les colonnes qui nous intéressent)\n",
    "data = data[['Nom', 'Coup', 'Score', 'Type de service', 'Type Coup TK', 'Zone de jeu']]\n",
    "\n",
    "#Pour faire une ligne par échange, on ne garde que les services et les coups gagnants\n",
    "list_ind = []\n",
    "for ind in data.index:\n",
    "    #retirer la ligne de services ratés\n",
    "    if str(data['Type de service'][ind])!='nan' and (str(data['Zone de jeu'][ind])=='nan'):\n",
    "        list_ind.append(ind)\n",
    "    #retirer les lignes entre le service et le score\n",
    "    elif str(data['Score'][ind])==\"nan\" and (str(data['Type de service'][ind])=='nan'):\n",
    "        list_ind.append(ind)\n",
    "data = data.drop(list_ind)\n",
    "data = data.reset_index(drop=True)\n",
    "\n",
    "#suppression de la colonne score\n",
    "data = data.drop(columns = ['Score'])\n",
    "data = data.reset_index(drop=True)\n",
    "#pd.set_option('display.max_rows', None)\n",
    "data"
   ]
  },
  {
   "cell_type": "markdown",
   "metadata": {},
   "source": [
    "Pour pouvoir utiliser l'algorithme, la dernière étape a été de fusionner les deux lignes de service et de marquage de point. Pour cela, nous avons créé une nouvelle colonne appelée `Victory` qui indique si la personne qui a fait le service a marqué le point ou pas."
   ]
  },
  {
   "cell_type": "code",
   "execution_count": 7,
   "metadata": {},
   "outputs": [
    {
     "data": {
      "text/html": [
       "<div>\n",
       "<style scoped>\n",
       "    .dataframe tbody tr th:only-of-type {\n",
       "        vertical-align: middle;\n",
       "    }\n",
       "\n",
       "    .dataframe tbody tr th {\n",
       "        vertical-align: top;\n",
       "    }\n",
       "\n",
       "    .dataframe thead th {\n",
       "        text-align: right;\n",
       "    }\n",
       "</style>\n",
       "<table border=\"1\" class=\"dataframe\">\n",
       "  <thead>\n",
       "    <tr style=\"text-align: right;\">\n",
       "      <th></th>\n",
       "      <th>Type de service</th>\n",
       "      <th>Type Coup TK</th>\n",
       "      <th>Zone de jeu</th>\n",
       "      <th>Victory</th>\n",
       "    </tr>\n",
       "  </thead>\n",
       "  <tbody>\n",
       "    <tr>\n",
       "      <th>0</th>\n",
       "      <td>Latéral droit</td>\n",
       "      <td>Controle / Résistance</td>\n",
       "      <td>M2</td>\n",
       "      <td>0</td>\n",
       "    </tr>\n",
       "    <tr>\n",
       "      <th>1</th>\n",
       "      <td>Latéral droit</td>\n",
       "      <td>Attaque / Offensif</td>\n",
       "      <td>M2</td>\n",
       "      <td>0</td>\n",
       "    </tr>\n",
       "    <tr>\n",
       "      <th>2</th>\n",
       "      <td>Latéral gauche</td>\n",
       "      <td>Controle / Résistance</td>\n",
       "      <td>G21</td>\n",
       "      <td>0</td>\n",
       "    </tr>\n",
       "    <tr>\n",
       "      <th>3</th>\n",
       "      <td>Latéral droit</td>\n",
       "      <td>Controle / Résistance</td>\n",
       "      <td>M1</td>\n",
       "      <td>0</td>\n",
       "    </tr>\n",
       "    <tr>\n",
       "      <th>4</th>\n",
       "      <td>Latéral droit</td>\n",
       "      <td>Controle / Résistance</td>\n",
       "      <td>M2</td>\n",
       "      <td>0</td>\n",
       "    </tr>\n",
       "    <tr>\n",
       "      <th>...</th>\n",
       "      <td>...</td>\n",
       "      <td>...</td>\n",
       "      <td>...</td>\n",
       "      <td>...</td>\n",
       "    </tr>\n",
       "    <tr>\n",
       "      <th>102</th>\n",
       "      <td>Latéral droit</td>\n",
       "      <td>Attaque / Offensif</td>\n",
       "      <td>G1</td>\n",
       "      <td>1</td>\n",
       "    </tr>\n",
       "    <tr>\n",
       "      <th>103</th>\n",
       "      <td>Latéral droit</td>\n",
       "      <td>Attaque / Offensif</td>\n",
       "      <td>D1</td>\n",
       "      <td>1</td>\n",
       "    </tr>\n",
       "    <tr>\n",
       "      <th>104</th>\n",
       "      <td>Latéral droit</td>\n",
       "      <td>Attaque / Offensif</td>\n",
       "      <td>G21</td>\n",
       "      <td>1</td>\n",
       "    </tr>\n",
       "    <tr>\n",
       "      <th>105</th>\n",
       "      <td>Latéral droit</td>\n",
       "      <td>Controle / Résistance</td>\n",
       "      <td>M2</td>\n",
       "      <td>0</td>\n",
       "    </tr>\n",
       "    <tr>\n",
       "      <th>106</th>\n",
       "      <td>Latéral droit</td>\n",
       "      <td>Controle / Résistance</td>\n",
       "      <td>M1</td>\n",
       "      <td>1</td>\n",
       "    </tr>\n",
       "  </tbody>\n",
       "</table>\n",
       "<p>107 rows × 4 columns</p>\n",
       "</div>"
      ],
      "text/plain": [
       "    Type de service           Type Coup TK Zone de jeu  Victory\n",
       "0     Latéral droit  Controle / Résistance          M2        0\n",
       "1     Latéral droit     Attaque / Offensif          M2        0\n",
       "2    Latéral gauche  Controle / Résistance         G21        0\n",
       "3     Latéral droit  Controle / Résistance          M1        0\n",
       "4     Latéral droit  Controle / Résistance          M2        0\n",
       "..              ...                    ...         ...      ...\n",
       "102   Latéral droit     Attaque / Offensif          G1        1\n",
       "103   Latéral droit     Attaque / Offensif          D1        1\n",
       "104   Latéral droit     Attaque / Offensif         G21        1\n",
       "105   Latéral droit  Controle / Résistance          M2        0\n",
       "106   Latéral droit  Controle / Résistance          M1        1\n",
       "\n",
       "[107 rows x 4 columns]"
      ]
     },
     "execution_count": 7,
     "metadata": {},
     "output_type": "execute_result"
    }
   ],
   "source": [
    "#creation de la table définitive avec une ligne par point\n",
    "list_ind = []\n",
    "victory = []\n",
    "for ind in data.index:\n",
    "    if (str(data['Zone de jeu'][ind])=='nan'):\n",
    "        data['Type Coup TK'][ind-1] = str(data['Type Coup TK'][ind])\n",
    "        list_ind.append(ind)\n",
    "        if str(data['Coup'][ind]).endswith('-'):\n",
    "            victory.append(0)\n",
    "        elif str(data['Coup'][ind]).endswith('+'):\n",
    "            victory.append(1)\n",
    "data = data.drop(list_ind)\n",
    "data = data.reset_index(drop=True)\n",
    "#data = data.drop(columns=['Nom'])\n",
    "data = data.drop(columns=['Nom', 'Coup'])\n",
    "data['Victory'] = victory\n",
    "data"
   ]
  },
  {
   "cell_type": "markdown",
   "metadata": {},
   "source": [
    "### Execution de Pysubgroup\n",
    "\n",
    "Cet algorithme va rechercher des sous-groupe à partir d'une target donnée. Dans notre cas, la target constitue la colonne de victoire. La recherche de sous-groupe est alors effectuée dans les autres colonnes (type de service, type de coup lors du service et zone de jeu pour le service)."
   ]
  },
  {
   "cell_type": "code",
   "execution_count": 17,
   "metadata": {},
   "outputs": [
    {
     "name": "stdout",
     "output_type": "stream",
     "text": [
      "0.029434885142807246 Type de service=='Latéral droit' AND Zone de jeu=='M1'\n",
      "0.027600663813433502 Zone de jeu=='M1'\n",
      "0.021835968206830293 Zone de jeu=='G3'\n",
      "0.017468774565464234 Type de service=='Latéral gauche' AND Zone de jeu=='G3'\n",
      "0.01685736745567299 Type Coup TK=='Poussette' AND Zone de jeu=='M1'\n",
      "0.01624596034588174 Type Coup TK=='Poussette' AND Type de service=='Latéral droit'\n",
      "0.01624596034588174 Type Coup TK=='Poussette'\n",
      "0.013101580924098176 Type Coup TK=='Controle / Résistance' AND Type de service=='Unknown'\n",
      "0.013101580924098176 Type Coup TK=='Controle / Résistance' AND Zone de jeu=='G3'\n"
     ]
    },
    {
     "name": "stderr",
     "output_type": "stream",
     "text": [
      "C:\\Users\\marie\\AppData\\Local\\Temp/ipykernel_11928/3690221061.py:12: FutureWarning: Could not cast to float64, falling back to object. This behavior is deprecated. In a future version, when a dtype is passed to 'DataFrame', either all columns will be cast to that dtype, or a TypeError will be raised\n",
      "  result = result.to_dataframe()\n"
     ]
    }
   ],
   "source": [
    "#execution du langage pysubgroup en choisissant la colonne victory comme target \n",
    "target = ps.BinaryTarget ('Victory', True)\n",
    "searchspace = ps.create_selectors(data, ignore=['Victory'])\n",
    "task = ps.SubgroupDiscoveryTask (\n",
    "    data, \n",
    "    target, \n",
    "    searchspace, \n",
    "    result_set_size=9, \n",
    "    depth=2, \n",
    "    qf=ps.WRAccQF())\n",
    "result = ps.BeamSearch().execute(task)\n",
    "result = result.to_dataframe()\n",
    "for ind in result.index:\n",
    "    print(result['quality'][ind], result['subgroup'][ind])"
   ]
  },
  {
   "cell_type": "markdown",
   "metadata": {},
   "source": [
    "Les résultats de pysubgroup montrent que les services `lateral droit` dans la zone de jeu M1 sont plus propices pour marquer un point. Le type de service et la zone de jeu semblent plus influencer le score que le type de coup, ce dernier n'apparaissant qu'en cinquième position dans la liste des résultats. De manière générale, c'est dans les zones `M1` et `G3` que les services sont les plus efficaces correspondant respectivement au centre de la table proche du filet et au coin extérieur gauche de l'adversaire."
   ]
  },
  {
   "cell_type": "markdown",
   "metadata": {},
   "source": [
    "## 2. Combinaison d'attributs qui mène à un point (EMM)"
   ]
  },
  {
   "cell_type": "code",
   "execution_count": 1,
   "metadata": {},
   "outputs": [],
   "source": [
    "# import libraries\n",
    "import pandas as pd\n",
    "import numpy as np\n",
    "import sys\n",
    "sys.path.insert(0, './emm')\n",
    "import EMM as emm"
   ]
  },
  {
   "cell_type": "code",
   "execution_count": 2,
   "metadata": {},
   "outputs": [],
   "source": [
    "# import data\n",
    "data = pd.read_csv(\"TT_game.csv\", sep = \";\",\n",
    "                   dtype={\n",
    "                          \"Nom\": str,\n",
    "                          \"Position\": str,\n",
    "                          \"Durée\": str,\n",
    "                          \"Genre\": str,\n",
    "                          \"Latéralité\": str,\n",
    "                          \"Set\": str,\n",
    "                          \"Système\": str,\n",
    "                          \"Coup\": str,\n",
    "                          \"Nbre de coups par point\": np.float64,\n",
    "                          \"Durée du point\": str,\n",
    "                          \"Score\": str,\n",
    "                          \"Points F\": np.float64,\n",
    "                          \"Points B\": np.float64,\n",
    "                          \"Type de service\": str,\n",
    "                          \"Type Coup TK\": str,\n",
    "                          \"Zone de jeu\": str\n",
    "})"
   ]
  },
  {
   "cell_type": "markdown",
   "metadata": {},
   "source": [
    "### Reformatage des données\n",
    "\n",
    "#### Description de la fonction permettant de formater les données `df_player`\n",
    "\n",
    "Cette fonction permet de construire un tableau pour un joueur donné, où chaque ligne correspond à un point joué. Pour chaque point seront detaillés les attributs suivant:\n",
    "- la __durée__ du point selon un intervalle (si le point a été de: __courte__, __moyenne__ ou __longue__ durée) $\\Rightarrow$ colonne <u>Duree</u>;\n",
    "- nb de __coups droits__ du jouer selectionné lors du point $\\Rightarrow$ colonne <u>coup_droit_player_1</u>:\n",
    "    - de même pour l'autre joueur <u>coup_droit_player_2</u>;\n",
    "- nb de coups __revers__ du joueur selectionné lors du point $\\Rightarrow$ colonne <u>revers_player_1</u>:\n",
    "    - de même pour l'autre joueur <u>revers_player_2</u>;\n",
    "- nb de __coups effectués__ (par l'ensemble des joueurs) $\\Rightarrow$ colonne <u>Nb_coups</u>;\n",
    "- numéro du __set__ dans lequel le point est joué (au total 5 set) $\\Rightarrow$ colonne <u>Set</u>;\n",
    "- la __progression du set__, si après le point considéré, le joueur selectionné est en train de remporter ou pas le set ('__<__': s'il est en train de perdre le set, '__>__': s'il est en train de gagner le set, '__=__': si les deux joueur ont le même score) $\\Rightarrow$ colonne <u>Gagnant_ou_pas</u>;\n",
    "- qui a effectué le __service__ et de quel côté $\\Rightarrow$ colonne <u>Service</u>;\n",
    "- nb de fois que le joueur selectionné a joué en __controle__ $\\Rightarrow$ colonne <u>controle_player_1</u>:\n",
    "    - de même pour l'autre joueur, colonne <u>controle_player_2</u>;\n",
    "- nb de fois que le joueur selectionné a joué en __attaque__ $\\Rightarrow$ colonne <u>attaque_player_1</u>:\n",
    "    - de même pour l'autre joueur, colonne <u>attaque_player_1</u>;\n",
    "- nb de fois que le joueur selectionné a joué avec une __poussette__ $\\Rightarrow$ colonne <u>poussette_player_1</u>:    \n",
    "    - de même pour l'autre joueur, colonne <u>poussette_player_2</u>;\n",
    "- nb de fois que le joueur __a envoyé__ la balle dans la zone __M1__ lors du point $\\Rightarrow$ colonne <u>M1_envoie</u>:\n",
    "    - de même pour les autres zones de jeu $\\Rightarrow$ colonnes <u>M2_envoie</u>, <u>M3_envoie</u>, etc;\n",
    "- nb de fois que le joueur __a reçu__ la balle dans la zone __M1__ lors du point $\\Rightarrow$ colonne <u>M1_reception</u>:     \n",
    "    - de même pour les autres zones de jeu $\\Rightarrow$ colonnes <u>M2_reception</u>, <u>M3_reception</u>, etc;"
   ]
  },
  {
   "cell_type": "code",
   "execution_count": 3,
   "metadata": {},
   "outputs": [],
   "source": [
    "# convert to deltatime\n",
    "data['Position'] = pd.to_timedelta(data['Position'])\n",
    "data['Durée'] = pd.to_timedelta(data['Durée'])\n",
    "\n",
    "# convert deltatime format to float\n",
    "data[\"Position\"] = (data[\"Position\"] / np.timedelta64(10**9,'ns')).astype(float)\n",
    "data[\"Durée\"] = (data[\"Durée\"] / np.timedelta64(10**9,'ns')).astype(float)\n",
    "\n",
    "# clean \"Set\" column\n",
    "for index, row in data.iterrows():\n",
    "    val = row[\"Nom\"]\n",
    "    if val.startswith(\"SET\"):\n",
    "        set_nb = val.split(\"(\")[1][:1]\n",
    "    data.at[index, \"Set\"] = set_nb   \n",
    "\n",
    "# compute the number of hits for each point\n",
    "c = 0\n",
    "for index, row in data.iterrows():\n",
    "    if (row[\"Coup\"] != \"F.T.\") and (row[\"Coup\"] != \"B.T.\"):\n",
    "        c = 0\n",
    "        data.at[index, \"Nbre de coups par point\"] = c\n",
    "    else:\n",
    "        c += 1\n",
    "        data.at[index, \"Nbre de coups par point\"] = c\n",
    "data[\"Nbre de coups par point\"] = pd.to_numeric(data[\"Nbre de coups par point\"]).astype(int)  \n",
    "\n",
    "# columns for the new dataframe    \n",
    "columns = [\"Duree\", \"coup_droit_player_1\", \"coup_droit_player_2\", \"revers_player_1\", \"revers_player_2\", \"Nb_coups\", \"Set\", \\\n",
    "           \"Gagnant_ou_pas\", \"Service\", \"controle_player_1\", \"controle_player_2\", \"attaque_player_1\", \"attaque_player_2\", \\\n",
    "           \"poussette_player_1\", \"poussette_player_2\", \"M1_envoie\", \"M1_reception\", \"M2_envoie\", \"M2_reception\", \\\n",
    "           \"M3_envoie\", \"M3_reception\",\"D1_envoie\", \"D1_reception\", \"D2_envoie\", \"D2_reception\", \"D3_envoie\",\\\n",
    "           \"D3_reception\", \"G1_envoie\", \"G1_reception\", \"G2_envoie\", \"G2_reception\", \"G3_envoie\", \\\n",
    "           \"G3_reception\", \"Gagnant\"] \n",
    "\n",
    "def pts_time(point):\n",
    "    \"\"\"\n",
    "    Return the elapsed time for the point.\n",
    "    \"\"\"\n",
    "    time = 0.000\n",
    "    for index, row in point.iterrows():\n",
    "        if index != 0:\n",
    "            time += row[\"Durée\"]\n",
    "    return time\n",
    "\n",
    "def class_time(time, quantiles):\n",
    "    \"\"\"\n",
    "    Define the time of the point as class.\n",
    "    \"\"\"\n",
    "    if time < quantiles[0]:\n",
    "        return \"short\"\n",
    "    elif time >= quantiles[0] and time <= quantiles[2]:\n",
    "        return \"middle\"\n",
    "    elif time > quantiles[2]:\n",
    "        return \"long\"\n",
    "    \n",
    "def pts_score(point, player):\n",
    "    \"\"\"\n",
    "    Return a string that define the player that is winning the set.\n",
    "    '<': player F.T. is winning\n",
    "    '>': player B.T. is winning\n",
    "    '=': draw\n",
    "    \"\"\"\n",
    "    if player == \"F\":\n",
    "        score_player1 = int(point.iloc[-1][\"Points F\"])\n",
    "        score_player2 = int(point.iloc[-1][\"Points B\"])\n",
    "    else:\n",
    "        score_player1 = int(point.iloc[-1][\"Points B\"])\n",
    "        score_player2 = int(point.iloc[-1][\"Points F\"])\n",
    "        \n",
    "    if score_player1 < score_player2:\n",
    "        return \"<\"\n",
    "    elif score_player1 > score_player2:\n",
    "        return \">\"\n",
    "    else:\n",
    "        return \"=\"\n",
    "    \n",
    "def pts_service(point, player):\n",
    "    \"\"\"\n",
    "    Return a string that decode who did the service and the side\n",
    "    \"\"\"\n",
    "    service = point[point[\"Type de service\"].notna()][\"Type de service\"].tolist()\n",
    "    try:\n",
    "        # if a net is done, it keeps only the last service\n",
    "        if service[-1] == \"Serveur Point - 8-4+I216:I223\":\n",
    "            service = service[-2]\n",
    "        else:\n",
    "            service = service[-1]\n",
    "    except:\n",
    "        service = np.nan # if double fault\n",
    "    player_c =  point[point[\"Coup\"].notna()][\"Coup\"].tolist()[0]\n",
    "    if player == player_c[0]:\n",
    "        player = \"player1\"\n",
    "    else:\n",
    "        player = \"player2\"\n",
    "    service = str(player) + \" - \" + str(service)\n",
    "    return service\n",
    "\n",
    "def point_winner(point, player): \n",
    "    \"\"\"\n",
    "    Define if the player has won the point or not. Return a boolean.\n",
    "    \"\"\"\n",
    "    win = point.iloc[-1][\"Coup\"]\n",
    "    service = pts_service(point, player)\n",
    "    has_service = service.split(\" \")[0] # get the player that have done the service\n",
    "\n",
    "    if (has_service == \"player1\" and win.split(\" \")[-1] == \"-\") or (has_service == \"player2\" and win.split(\" \")[-1] == \"+\"):\n",
    "        return \"No\"\n",
    "    elif (has_service == \"player1\" and win.split(\" \")[-1] == \"+\") or (has_service == \"player2\" and win.split(\" \")[-1] == \"-\"):\n",
    "        return \"Yes\"\n",
    "    \n",
    "def df_player(player, data):\n",
    "    \"\"\"\n",
    "    Create a dataframe with stats for a given player.\n",
    "    player: 'F' or 'B'\n",
    "    data: dataframe\n",
    "    \"\"\"\n",
    "    player_data = pd.DataFrame(columns=columns) # df initialisation\n",
    "    \n",
    "    if player == \"F\":\n",
    "        player1 = \"F.T.\"\n",
    "        player2 = \"B.T.\"\n",
    "    elif player == \"B\":\n",
    "        player1 = \"B.T.\"\n",
    "        player2 = \"F.T.\" \n",
    "    \n",
    "    # total number of pts\n",
    "    nb_pts = data[\"Points F\"].dropna()\n",
    "    nb_pts = len(nb_pts)\n",
    "\n",
    "    # indices of pts row in the original df\n",
    "    pts_indices = list(data[data[\"Points F\"].notna()].index)\n",
    "    pts_indices = [x + 1 for x in pts_indices] # to match df index\n",
    "    pts_indices.insert(0, 0)\n",
    "\n",
    "    # vector with time for each point\n",
    "    times = []                \n",
    "    for i in range(0, len(pts_indices)):\n",
    "        try:\n",
    "            point = data[pts_indices[i]:pts_indices[i+1]] # extract info for one point\n",
    "        except:\n",
    "            break # last point analysed\n",
    "        \n",
    "        times.append(pts_time(point))\n",
    "    quantiles = np.quantile(times, [0.25, 0.5, 0.75])\n",
    "    \n",
    "    for i in range(0, len(pts_indices)):\n",
    "        try:\n",
    "            point = data[pts_indices[i]:pts_indices[i+1]] # extract info for one point\n",
    "        except:\n",
    "            break # last point analysed\n",
    "            \n",
    "        coup_droit_player1 = len(point[(point[\"Latéralité\"] == \"Coup droit\") & (point[\"Nom\"].str.startswith(player1))])\n",
    "        coup_droit_player2 = len(point[(point[\"Latéralité\"] == \"Coup droit\") & (point[\"Nom\"].str.startswith(player2))])\n",
    "        revers_player1 = len(point[(point[\"Latéralité\"] == \"Revers\") & (point[\"Nom\"].str.startswith(player1))])\n",
    "        revers_player2 = len(point[(point[\"Latéralité\"] == \"Revers\") & (point[\"Nom\"].str.startswith(player2))])\n",
    "        time = class_time(times[i-1], quantiles)\n",
    "        nb_hit = len(point)\n",
    "        Set = point[\"Set\"].unique()[0]\n",
    "        score = pts_score(point, player) # if he is winning the set or not\n",
    "        service = pts_service(point, player)\n",
    "        controle_player1 = len(point[(point[\"Type Coup TK\"] == \"Controle / Résistance\") & (point[\"Nom\"].str.startswith(player1))])\n",
    "        controle_player2 = len(point[(point[\"Type Coup TK\"] == \"Controle / Résistance\") & (point[\"Nom\"].str.startswith(player2))])\n",
    "        attaque_player1 = len(point[(point[\"Type Coup TK\"] == \"Attaque / Offensif\") & (point[\"Nom\"].str.startswith(player1))])\n",
    "        attaque_player2 = len(point[(point[\"Type Coup TK\"] == \"Attaque / Offensif\") & (point[\"Nom\"].str.startswith(player2))])\n",
    "        poussette_player1 = len(point[(point[\"Type Coup TK\"] == \"Poussette\") & (point[\"Nom\"].str.startswith(player1))])\n",
    "        poussette_player2 = len(point[(point[\"Type Coup TK\"] == \"Poussette\") & (point[\"Nom\"].str.startswith(player2))])\n",
    "        M1_send = len(point[(point[\"Zone de jeu\"] == \"M1\") & (point[\"Nom\"].str.startswith(player2))])\n",
    "        M1_reception = len(point[(point[\"Zone de jeu\"] == \"M1\") & (point[\"Nom\"].str.startswith(player1))])\n",
    "        M2_send = len(point[(point[\"Zone de jeu\"] == \"M2\") & (point[\"Nom\"].str.startswith(player2))])\n",
    "        M2_reception = len(point[(point[\"Zone de jeu\"] == \"M2\") & (point[\"Nom\"].str.startswith(player1))])\n",
    "        M3_send = len(point[(point[\"Zone de jeu\"] == \"M3\") & (point[\"Nom\"].str.startswith(player2))])\n",
    "        M3_reception = len(point[(point[\"Zone de jeu\"] == \"M3\") & (point[\"Nom\"].str.startswith(player1))])\n",
    "        D1_send = len(point[(point[\"Zone de jeu\"] == \"D1\") & (point[\"Nom\"].str.startswith(player2))])\n",
    "        D1_reception = len(point[(point[\"Zone de jeu\"] == \"D1\") & (point[\"Nom\"].str.startswith(player1))])\n",
    "        D2_send = len(point[(point[\"Zone de jeu\"] == \"D2\") & (point[\"Nom\"].str.startswith(player2))])\n",
    "        D2_reception = len(point[(point[\"Zone de jeu\"] == \"D2\") & (point[\"Nom\"].str.startswith(player1))])\n",
    "        D3_send = len(point[(point[\"Zone de jeu\"] == \"D3\") & (point[\"Nom\"].str.startswith(player2))])\n",
    "        D3_reception = len(point[(point[\"Zone de jeu\"] == \"D3\") & (point[\"Nom\"].str.startswith(player1))])    \n",
    "        G1_send = len(point[(point[\"Zone de jeu\"] == \"G1\") & (point[\"Nom\"].str.startswith(player2))])\n",
    "        G1_reception = len(point[(point[\"Zone de jeu\"] == \"G1\") & (point[\"Nom\"].str.startswith(player1))])\n",
    "        G2_send = len(point[(point[\"Zone de jeu\"] == \"G2\") & (point[\"Nom\"].str.startswith(player2))])\n",
    "        G2_reception = len(point[(point[\"Zone de jeu\"] == \"G2\") & (point[\"Nom\"].str.startswith(player1))])\n",
    "        G3_send = len(point[(point[\"Zone de jeu\"] == \"G3\") & (point[\"Nom\"].str.startswith(player2))])\n",
    "        G3_reception = len(point[(point[\"Zone de jeu\"] == \"G3\") & (point[\"Nom\"].str.startswith(player1))])\n",
    "        win = point_winner(point, player)\n",
    "\n",
    "        player_data = player_data.append({\"Duree\": time, \"coup_droit_player_1\": coup_droit_player1, \"coup_droit_player_2\": coup_droit_player2, \\\n",
    "            \"revers_player_1\": revers_player1, \"revers_player_2\": revers_player2, \"Nb_coups\": nb_hit, \"Set\": Set, \\\n",
    "            \"Gagnant_ou_pas\": score, \"Service\": service, \"controle_player_1\": controle_player1, \"controle_player_2\": controle_player2, \\\n",
    "            \"attaque_player_1\": attaque_player1, \"attaque_player_2\": attaque_player2, \"poussette_player_1\": poussette_player1, \\\n",
    "            \"poussette_player_2\": poussette_player2, \"M1_envoie\": M1_send, \"M1_reception\": M1_reception, \\\n",
    "            \"M2_envoie\": M2_send, \"M2_reception\": M2_reception, \"M3_envoie\": M3_send, \\\n",
    "            \"M3_reception\": M3_reception, \"D1_envoie\": D1_send, \"D1_reception\": D1_reception, \"D2_envoie\": D2_send, \\\n",
    "            \"D2_reception\": D2_reception, \"D3_envoie\": D3_send, \"D3_reception\": D3_reception, \"G1_envoie\": G1_send, \\\n",
    "            \"G1_reception\": G1_reception, \"G2_envoie\": G2_send, \"G2_reception\": G2_reception, \"G3_envoie\": G3_send, \\\n",
    "            \"G3_reception\": G3_reception, \"Gagnant\": win}, ignore_index=True)\n",
    "        \n",
    "    return player_data    "
   ]
  },
  {
   "cell_type": "markdown",
   "metadata": {},
   "source": [
    "### Execution d'EMM\n",
    "\n",
    "#### <u>Pour le joueur F.T.</u>"
   ]
  },
  {
   "cell_type": "code",
   "execution_count": 5,
   "metadata": {},
   "outputs": [],
   "source": [
    "ft_data = df_player(\"F\", data)"
   ]
  },
  {
   "cell_type": "code",
   "execution_count": 6,
   "metadata": {},
   "outputs": [
    {
     "data": {
      "text/html": [
       "<div>\n",
       "<style scoped>\n",
       "    .dataframe tbody tr th:only-of-type {\n",
       "        vertical-align: middle;\n",
       "    }\n",
       "\n",
       "    .dataframe tbody tr th {\n",
       "        vertical-align: top;\n",
       "    }\n",
       "\n",
       "    .dataframe thead th {\n",
       "        text-align: right;\n",
       "    }\n",
       "</style>\n",
       "<table border=\"1\" class=\"dataframe\">\n",
       "  <thead>\n",
       "    <tr style=\"text-align: right;\">\n",
       "      <th></th>\n",
       "      <th>Duree</th>\n",
       "      <th>coup_droit_player_1</th>\n",
       "      <th>coup_droit_player_2</th>\n",
       "      <th>revers_player_1</th>\n",
       "      <th>revers_player_2</th>\n",
       "      <th>Nb_coups</th>\n",
       "      <th>Set</th>\n",
       "      <th>Gagnant_ou_pas</th>\n",
       "      <th>Service</th>\n",
       "      <th>controle_player_1</th>\n",
       "      <th>...</th>\n",
       "      <th>D2_reception</th>\n",
       "      <th>D3_envoie</th>\n",
       "      <th>D3_reception</th>\n",
       "      <th>G1_envoie</th>\n",
       "      <th>G1_reception</th>\n",
       "      <th>G2_envoie</th>\n",
       "      <th>G2_reception</th>\n",
       "      <th>G3_envoie</th>\n",
       "      <th>G3_reception</th>\n",
       "      <th>Gagnant</th>\n",
       "    </tr>\n",
       "  </thead>\n",
       "  <tbody>\n",
       "    <tr>\n",
       "      <th>0</th>\n",
       "      <td>long</td>\n",
       "      <td>1</td>\n",
       "      <td>1</td>\n",
       "      <td>3</td>\n",
       "      <td>2</td>\n",
       "      <td>8</td>\n",
       "      <td>1</td>\n",
       "      <td>&lt;</td>\n",
       "      <td>player1 - Latéral droit</td>\n",
       "      <td>1</td>\n",
       "      <td>...</td>\n",
       "      <td>0</td>\n",
       "      <td>0</td>\n",
       "      <td>0</td>\n",
       "      <td>0</td>\n",
       "      <td>0</td>\n",
       "      <td>0</td>\n",
       "      <td>0</td>\n",
       "      <td>1</td>\n",
       "      <td>1</td>\n",
       "      <td>No</td>\n",
       "    </tr>\n",
       "    <tr>\n",
       "      <th>1</th>\n",
       "      <td>short</td>\n",
       "      <td>2</td>\n",
       "      <td>2</td>\n",
       "      <td>1</td>\n",
       "      <td>0</td>\n",
       "      <td>5</td>\n",
       "      <td>1</td>\n",
       "      <td>&lt;</td>\n",
       "      <td>player1 - Latéral droit</td>\n",
       "      <td>1</td>\n",
       "      <td>...</td>\n",
       "      <td>0</td>\n",
       "      <td>0</td>\n",
       "      <td>1</td>\n",
       "      <td>0</td>\n",
       "      <td>0</td>\n",
       "      <td>0</td>\n",
       "      <td>0</td>\n",
       "      <td>0</td>\n",
       "      <td>1</td>\n",
       "      <td>No</td>\n",
       "    </tr>\n",
       "    <tr>\n",
       "      <th>2</th>\n",
       "      <td>middle</td>\n",
       "      <td>0</td>\n",
       "      <td>3</td>\n",
       "      <td>2</td>\n",
       "      <td>0</td>\n",
       "      <td>5</td>\n",
       "      <td>1</td>\n",
       "      <td>&lt;</td>\n",
       "      <td>player2 - Latéral gauche</td>\n",
       "      <td>0</td>\n",
       "      <td>...</td>\n",
       "      <td>0</td>\n",
       "      <td>0</td>\n",
       "      <td>0</td>\n",
       "      <td>0</td>\n",
       "      <td>0</td>\n",
       "      <td>0</td>\n",
       "      <td>0</td>\n",
       "      <td>1</td>\n",
       "      <td>1</td>\n",
       "      <td>Yes</td>\n",
       "    </tr>\n",
       "    <tr>\n",
       "      <th>3</th>\n",
       "      <td>middle</td>\n",
       "      <td>1</td>\n",
       "      <td>1</td>\n",
       "      <td>0</td>\n",
       "      <td>1</td>\n",
       "      <td>3</td>\n",
       "      <td>1</td>\n",
       "      <td>=</td>\n",
       "      <td>player2 - Latéral droit</td>\n",
       "      <td>0</td>\n",
       "      <td>...</td>\n",
       "      <td>0</td>\n",
       "      <td>0</td>\n",
       "      <td>0</td>\n",
       "      <td>0</td>\n",
       "      <td>0</td>\n",
       "      <td>0</td>\n",
       "      <td>0</td>\n",
       "      <td>0</td>\n",
       "      <td>0</td>\n",
       "      <td>Yes</td>\n",
       "    </tr>\n",
       "    <tr>\n",
       "      <th>4</th>\n",
       "      <td>short</td>\n",
       "      <td>1</td>\n",
       "      <td>1</td>\n",
       "      <td>1</td>\n",
       "      <td>0</td>\n",
       "      <td>3</td>\n",
       "      <td>1</td>\n",
       "      <td>&lt;</td>\n",
       "      <td>player1 - Latéral droit</td>\n",
       "      <td>1</td>\n",
       "      <td>...</td>\n",
       "      <td>0</td>\n",
       "      <td>0</td>\n",
       "      <td>0</td>\n",
       "      <td>0</td>\n",
       "      <td>0</td>\n",
       "      <td>0</td>\n",
       "      <td>0</td>\n",
       "      <td>0</td>\n",
       "      <td>1</td>\n",
       "      <td>No</td>\n",
       "    </tr>\n",
       "    <tr>\n",
       "      <th>...</th>\n",
       "      <td>...</td>\n",
       "      <td>...</td>\n",
       "      <td>...</td>\n",
       "      <td>...</td>\n",
       "      <td>...</td>\n",
       "      <td>...</td>\n",
       "      <td>...</td>\n",
       "      <td>...</td>\n",
       "      <td>...</td>\n",
       "      <td>...</td>\n",
       "      <td>...</td>\n",
       "      <td>...</td>\n",
       "      <td>...</td>\n",
       "      <td>...</td>\n",
       "      <td>...</td>\n",
       "      <td>...</td>\n",
       "      <td>...</td>\n",
       "      <td>...</td>\n",
       "      <td>...</td>\n",
       "      <td>...</td>\n",
       "      <td>...</td>\n",
       "    </tr>\n",
       "    <tr>\n",
       "      <th>102</th>\n",
       "      <td>middle</td>\n",
       "      <td>1</td>\n",
       "      <td>0</td>\n",
       "      <td>1</td>\n",
       "      <td>2</td>\n",
       "      <td>4</td>\n",
       "      <td>5</td>\n",
       "      <td>&gt;</td>\n",
       "      <td>player1 - Latéral droit</td>\n",
       "      <td>0</td>\n",
       "      <td>...</td>\n",
       "      <td>0</td>\n",
       "      <td>1</td>\n",
       "      <td>0</td>\n",
       "      <td>1</td>\n",
       "      <td>0</td>\n",
       "      <td>0</td>\n",
       "      <td>0</td>\n",
       "      <td>0</td>\n",
       "      <td>1</td>\n",
       "      <td>Yes</td>\n",
       "    </tr>\n",
       "    <tr>\n",
       "      <th>103</th>\n",
       "      <td>middle</td>\n",
       "      <td>2</td>\n",
       "      <td>1</td>\n",
       "      <td>0</td>\n",
       "      <td>1</td>\n",
       "      <td>4</td>\n",
       "      <td>5</td>\n",
       "      <td>&gt;</td>\n",
       "      <td>player2 - Latéral droit</td>\n",
       "      <td>0</td>\n",
       "      <td>...</td>\n",
       "      <td>0</td>\n",
       "      <td>0</td>\n",
       "      <td>1</td>\n",
       "      <td>0</td>\n",
       "      <td>0</td>\n",
       "      <td>0</td>\n",
       "      <td>0</td>\n",
       "      <td>0</td>\n",
       "      <td>0</td>\n",
       "      <td>No</td>\n",
       "    </tr>\n",
       "    <tr>\n",
       "      <th>104</th>\n",
       "      <td>middle</td>\n",
       "      <td>1</td>\n",
       "      <td>3</td>\n",
       "      <td>1</td>\n",
       "      <td>0</td>\n",
       "      <td>5</td>\n",
       "      <td>5</td>\n",
       "      <td>&gt;</td>\n",
       "      <td>player2 - Latéral droit</td>\n",
       "      <td>0</td>\n",
       "      <td>...</td>\n",
       "      <td>0</td>\n",
       "      <td>0</td>\n",
       "      <td>0</td>\n",
       "      <td>0</td>\n",
       "      <td>0</td>\n",
       "      <td>0</td>\n",
       "      <td>0</td>\n",
       "      <td>0</td>\n",
       "      <td>0</td>\n",
       "      <td>No</td>\n",
       "    </tr>\n",
       "    <tr>\n",
       "      <th>105</th>\n",
       "      <td>middle</td>\n",
       "      <td>2</td>\n",
       "      <td>1</td>\n",
       "      <td>1</td>\n",
       "      <td>0</td>\n",
       "      <td>4</td>\n",
       "      <td>5</td>\n",
       "      <td>&gt;</td>\n",
       "      <td>player1 - Latéral droit</td>\n",
       "      <td>1</td>\n",
       "      <td>...</td>\n",
       "      <td>0</td>\n",
       "      <td>0</td>\n",
       "      <td>0</td>\n",
       "      <td>0</td>\n",
       "      <td>0</td>\n",
       "      <td>0</td>\n",
       "      <td>0</td>\n",
       "      <td>0</td>\n",
       "      <td>1</td>\n",
       "      <td>No</td>\n",
       "    </tr>\n",
       "    <tr>\n",
       "      <th>106</th>\n",
       "      <td>long</td>\n",
       "      <td>2</td>\n",
       "      <td>1</td>\n",
       "      <td>0</td>\n",
       "      <td>1</td>\n",
       "      <td>4</td>\n",
       "      <td>5</td>\n",
       "      <td>&gt;</td>\n",
       "      <td>player1 - Latéral droit</td>\n",
       "      <td>1</td>\n",
       "      <td>...</td>\n",
       "      <td>0</td>\n",
       "      <td>0</td>\n",
       "      <td>1</td>\n",
       "      <td>0</td>\n",
       "      <td>0</td>\n",
       "      <td>0</td>\n",
       "      <td>0</td>\n",
       "      <td>0</td>\n",
       "      <td>0</td>\n",
       "      <td>Yes</td>\n",
       "    </tr>\n",
       "  </tbody>\n",
       "</table>\n",
       "<p>107 rows × 34 columns</p>\n",
       "</div>"
      ],
      "text/plain": [
       "      Duree coup_droit_player_1 coup_droit_player_2 revers_player_1  \\\n",
       "0      long                   1                   1               3   \n",
       "1     short                   2                   2               1   \n",
       "2    middle                   0                   3               2   \n",
       "3    middle                   1                   1               0   \n",
       "4     short                   1                   1               1   \n",
       "..      ...                 ...                 ...             ...   \n",
       "102  middle                   1                   0               1   \n",
       "103  middle                   2                   1               0   \n",
       "104  middle                   1                   3               1   \n",
       "105  middle                   2                   1               1   \n",
       "106    long                   2                   1               0   \n",
       "\n",
       "    revers_player_2 Nb_coups Set Gagnant_ou_pas                   Service  \\\n",
       "0                 2        8   1              <   player1 - Latéral droit   \n",
       "1                 0        5   1              <   player1 - Latéral droit   \n",
       "2                 0        5   1              <  player2 - Latéral gauche   \n",
       "3                 1        3   1              =   player2 - Latéral droit   \n",
       "4                 0        3   1              <   player1 - Latéral droit   \n",
       "..              ...      ...  ..            ...                       ...   \n",
       "102               2        4   5              >   player1 - Latéral droit   \n",
       "103               1        4   5              >   player2 - Latéral droit   \n",
       "104               0        5   5              >   player2 - Latéral droit   \n",
       "105               0        4   5              >   player1 - Latéral droit   \n",
       "106               1        4   5              >   player1 - Latéral droit   \n",
       "\n",
       "    controle_player_1  ... D2_reception D3_envoie D3_reception G1_envoie  \\\n",
       "0                   1  ...            0         0            0         0   \n",
       "1                   1  ...            0         0            1         0   \n",
       "2                   0  ...            0         0            0         0   \n",
       "3                   0  ...            0         0            0         0   \n",
       "4                   1  ...            0         0            0         0   \n",
       "..                ...  ...          ...       ...          ...       ...   \n",
       "102                 0  ...            0         1            0         1   \n",
       "103                 0  ...            0         0            1         0   \n",
       "104                 0  ...            0         0            0         0   \n",
       "105                 1  ...            0         0            0         0   \n",
       "106                 1  ...            0         0            1         0   \n",
       "\n",
       "    G1_reception G2_envoie G2_reception G3_envoie G3_reception Gagnant  \n",
       "0              0         0            0         1            1      No  \n",
       "1              0         0            0         0            1      No  \n",
       "2              0         0            0         1            1     Yes  \n",
       "3              0         0            0         0            0     Yes  \n",
       "4              0         0            0         0            1      No  \n",
       "..           ...       ...          ...       ...          ...     ...  \n",
       "102            0         0            0         0            1     Yes  \n",
       "103            0         0            0         0            0      No  \n",
       "104            0         0            0         0            0      No  \n",
       "105            0         0            0         0            1      No  \n",
       "106            0         0            0         0            0     Yes  \n",
       "\n",
       "[107 rows x 34 columns]"
      ]
     },
     "execution_count": 6,
     "metadata": {},
     "output_type": "execute_result"
    }
   ],
   "source": [
    "ft_data"
   ]
  },
  {
   "cell_type": "code",
   "execution_count": 10,
   "metadata": {},
   "outputs": [
    {
     "data": {
      "application/vnd.plotly.v1+json": {
       "config": {
        "plotlyServerURL": "https://plot.ly"
       },
       "data": [
        {
         "type": "bar",
         "x": [
          "Yes",
          "No"
         ],
         "xaxis": "x",
         "y": [
          60,
          47
         ],
         "yaxis": "y"
        },
        {
         "type": "bar",
         "x": [
          "Yes",
          "No"
         ],
         "xaxis": "x2",
         "y": [
          2,
          14
         ],
         "yaxis": "y2"
        },
        {
         "type": "bar",
         "x": [
          "Yes",
          "No"
         ],
         "xaxis": "x3",
         "y": [
          0,
          9
         ],
         "yaxis": "y3"
        },
        {
         "type": "bar",
         "x": [
          "Yes",
          "No"
         ],
         "xaxis": "x4",
         "y": [
          4,
          16
         ],
         "yaxis": "y4"
        },
        {
         "type": "bar",
         "x": [
          "Yes",
          "No"
         ],
         "xaxis": "x5",
         "y": [
          1,
          8
         ],
         "yaxis": "y5"
        },
        {
         "type": "bar",
         "x": [
          "Yes",
          "No"
         ],
         "xaxis": "x6",
         "y": [
          3,
          16
         ],
         "yaxis": "y6"
        },
        {
         "type": "bar",
         "x": [
          "Yes",
          "No"
         ],
         "xaxis": "x7",
         "y": [
          0,
          1
         ],
         "yaxis": "y7"
        },
        {
         "type": "bar",
         "x": [
          "Yes",
          "No"
         ],
         "xaxis": "x8",
         "y": [
          1,
          8
         ],
         "yaxis": "y8"
        },
        {
         "type": "bar",
         "x": [
          "Yes",
          "No"
         ],
         "xaxis": "x9",
         "y": [
          3,
          13
         ],
         "yaxis": "y9"
        }
       ],
       "layout": {
        "annotations": [
         {
          "font": {
           "size": 16
          },
          "showarrow": false,
          "text": "Dataset",
          "x": 0.14444444444444446,
          "xanchor": "center",
          "xref": "paper",
          "y": 1,
          "yanchor": "bottom",
          "yref": "paper"
         },
         {
          "font": {
           "size": 16
          },
          "showarrow": false,
          "text": "revers_player_1 = 1 AND <br> revers_player_2 = 0",
          "x": 0.5,
          "xanchor": "center",
          "xref": "paper",
          "y": 1,
          "yanchor": "bottom",
          "yref": "paper"
         },
         {
          "font": {
           "size": 16
          },
          "showarrow": false,
          "text": "M2_envoie = 1 AND <br> controle_player_2 = 0",
          "x": 0.8555555555555556,
          "xanchor": "center",
          "xref": "paper",
          "y": 1,
          "yanchor": "bottom",
          "yref": "paper"
         },
         {
          "font": {
           "size": 16
          },
          "showarrow": false,
          "text": "Gagnant_ou_pas = < AND <br> M1_reception = 0",
          "x": 0.14444444444444446,
          "xanchor": "center",
          "xref": "paper",
          "y": 0.5666666666666667,
          "yanchor": "bottom",
          "yref": "paper"
         },
         {
          "font": {
           "size": 16
          },
          "showarrow": false,
          "text": "controle_player_1 = 2 AND <br> M1_envoie = 0",
          "x": 0.5,
          "xanchor": "center",
          "xref": "paper",
          "y": 0.5666666666666667,
          "yanchor": "bottom",
          "yref": "paper"
         },
         {
          "font": {
           "size": 16
          },
          "showarrow": false,
          "text": "revers_player_1 = 1 AND D3_envoie = <br> 0",
          "x": 0.8555555555555556,
          "xanchor": "center",
          "xref": "paper",
          "y": 0.5666666666666667,
          "yanchor": "bottom",
          "yref": "paper"
         },
         {
          "font": {
           "size": 16
          },
          "showarrow": false,
          "text": "revers_player_1 = 4",
          "x": 0.14444444444444446,
          "xanchor": "center",
          "xref": "paper",
          "y": 0.13333333333333333,
          "yanchor": "bottom",
          "yref": "paper"
         },
         {
          "font": {
           "size": 16
          },
          "showarrow": false,
          "text": "M2_envoie = 1 AND <br> coup_droit_player_1 = 2",
          "x": 0.5,
          "xanchor": "center",
          "xref": "paper",
          "y": 0.13333333333333333,
          "yanchor": "bottom",
          "yref": "paper"
         },
         {
          "font": {
           "size": 16
          },
          "showarrow": false,
          "text": "revers_player_1 = 1 AND <br> controle_player_2 = 0",
          "x": 0.8555555555555556,
          "xanchor": "center",
          "xref": "paper",
          "y": 0.13333333333333333,
          "yanchor": "bottom",
          "yref": "paper"
         },
         {
          "showarrow": false,
          "text": "Gagnant",
          "x": 0.5,
          "xref": "paper",
          "y": -0.15,
          "yref": "paper"
         },
         {
          "showarrow": false,
          "text": "Frequency count",
          "textangle": -90,
          "x": -0.07,
          "xref": "paper",
          "y": 0.5,
          "yref": "paper"
         }
        ],
        "autosize": true,
        "showlegend": false,
        "template": {
         "data": {
          "bar": [
           {
            "error_x": {
             "color": "#2a3f5f"
            },
            "error_y": {
             "color": "#2a3f5f"
            },
            "marker": {
             "line": {
              "color": "#E5ECF6",
              "width": 0.5
             },
             "pattern": {
              "fillmode": "overlay",
              "size": 10,
              "solidity": 0.2
             }
            },
            "type": "bar"
           }
          ],
          "barpolar": [
           {
            "marker": {
             "line": {
              "color": "#E5ECF6",
              "width": 0.5
             },
             "pattern": {
              "fillmode": "overlay",
              "size": 10,
              "solidity": 0.2
             }
            },
            "type": "barpolar"
           }
          ],
          "carpet": [
           {
            "aaxis": {
             "endlinecolor": "#2a3f5f",
             "gridcolor": "white",
             "linecolor": "white",
             "minorgridcolor": "white",
             "startlinecolor": "#2a3f5f"
            },
            "baxis": {
             "endlinecolor": "#2a3f5f",
             "gridcolor": "white",
             "linecolor": "white",
             "minorgridcolor": "white",
             "startlinecolor": "#2a3f5f"
            },
            "type": "carpet"
           }
          ],
          "choropleth": [
           {
            "colorbar": {
             "outlinewidth": 0,
             "ticks": ""
            },
            "type": "choropleth"
           }
          ],
          "contour": [
           {
            "colorbar": {
             "outlinewidth": 0,
             "ticks": ""
            },
            "colorscale": [
             [
              0,
              "#0d0887"
             ],
             [
              0.1111111111111111,
              "#46039f"
             ],
             [
              0.2222222222222222,
              "#7201a8"
             ],
             [
              0.3333333333333333,
              "#9c179e"
             ],
             [
              0.4444444444444444,
              "#bd3786"
             ],
             [
              0.5555555555555556,
              "#d8576b"
             ],
             [
              0.6666666666666666,
              "#ed7953"
             ],
             [
              0.7777777777777778,
              "#fb9f3a"
             ],
             [
              0.8888888888888888,
              "#fdca26"
             ],
             [
              1,
              "#f0f921"
             ]
            ],
            "type": "contour"
           }
          ],
          "contourcarpet": [
           {
            "colorbar": {
             "outlinewidth": 0,
             "ticks": ""
            },
            "type": "contourcarpet"
           }
          ],
          "heatmap": [
           {
            "colorbar": {
             "outlinewidth": 0,
             "ticks": ""
            },
            "colorscale": [
             [
              0,
              "#0d0887"
             ],
             [
              0.1111111111111111,
              "#46039f"
             ],
             [
              0.2222222222222222,
              "#7201a8"
             ],
             [
              0.3333333333333333,
              "#9c179e"
             ],
             [
              0.4444444444444444,
              "#bd3786"
             ],
             [
              0.5555555555555556,
              "#d8576b"
             ],
             [
              0.6666666666666666,
              "#ed7953"
             ],
             [
              0.7777777777777778,
              "#fb9f3a"
             ],
             [
              0.8888888888888888,
              "#fdca26"
             ],
             [
              1,
              "#f0f921"
             ]
            ],
            "type": "heatmap"
           }
          ],
          "heatmapgl": [
           {
            "colorbar": {
             "outlinewidth": 0,
             "ticks": ""
            },
            "colorscale": [
             [
              0,
              "#0d0887"
             ],
             [
              0.1111111111111111,
              "#46039f"
             ],
             [
              0.2222222222222222,
              "#7201a8"
             ],
             [
              0.3333333333333333,
              "#9c179e"
             ],
             [
              0.4444444444444444,
              "#bd3786"
             ],
             [
              0.5555555555555556,
              "#d8576b"
             ],
             [
              0.6666666666666666,
              "#ed7953"
             ],
             [
              0.7777777777777778,
              "#fb9f3a"
             ],
             [
              0.8888888888888888,
              "#fdca26"
             ],
             [
              1,
              "#f0f921"
             ]
            ],
            "type": "heatmapgl"
           }
          ],
          "histogram": [
           {
            "marker": {
             "pattern": {
              "fillmode": "overlay",
              "size": 10,
              "solidity": 0.2
             }
            },
            "type": "histogram"
           }
          ],
          "histogram2d": [
           {
            "colorbar": {
             "outlinewidth": 0,
             "ticks": ""
            },
            "colorscale": [
             [
              0,
              "#0d0887"
             ],
             [
              0.1111111111111111,
              "#46039f"
             ],
             [
              0.2222222222222222,
              "#7201a8"
             ],
             [
              0.3333333333333333,
              "#9c179e"
             ],
             [
              0.4444444444444444,
              "#bd3786"
             ],
             [
              0.5555555555555556,
              "#d8576b"
             ],
             [
              0.6666666666666666,
              "#ed7953"
             ],
             [
              0.7777777777777778,
              "#fb9f3a"
             ],
             [
              0.8888888888888888,
              "#fdca26"
             ],
             [
              1,
              "#f0f921"
             ]
            ],
            "type": "histogram2d"
           }
          ],
          "histogram2dcontour": [
           {
            "colorbar": {
             "outlinewidth": 0,
             "ticks": ""
            },
            "colorscale": [
             [
              0,
              "#0d0887"
             ],
             [
              0.1111111111111111,
              "#46039f"
             ],
             [
              0.2222222222222222,
              "#7201a8"
             ],
             [
              0.3333333333333333,
              "#9c179e"
             ],
             [
              0.4444444444444444,
              "#bd3786"
             ],
             [
              0.5555555555555556,
              "#d8576b"
             ],
             [
              0.6666666666666666,
              "#ed7953"
             ],
             [
              0.7777777777777778,
              "#fb9f3a"
             ],
             [
              0.8888888888888888,
              "#fdca26"
             ],
             [
              1,
              "#f0f921"
             ]
            ],
            "type": "histogram2dcontour"
           }
          ],
          "mesh3d": [
           {
            "colorbar": {
             "outlinewidth": 0,
             "ticks": ""
            },
            "type": "mesh3d"
           }
          ],
          "parcoords": [
           {
            "line": {
             "colorbar": {
              "outlinewidth": 0,
              "ticks": ""
             }
            },
            "type": "parcoords"
           }
          ],
          "pie": [
           {
            "automargin": true,
            "type": "pie"
           }
          ],
          "scatter": [
           {
            "marker": {
             "colorbar": {
              "outlinewidth": 0,
              "ticks": ""
             }
            },
            "type": "scatter"
           }
          ],
          "scatter3d": [
           {
            "line": {
             "colorbar": {
              "outlinewidth": 0,
              "ticks": ""
             }
            },
            "marker": {
             "colorbar": {
              "outlinewidth": 0,
              "ticks": ""
             }
            },
            "type": "scatter3d"
           }
          ],
          "scattercarpet": [
           {
            "marker": {
             "colorbar": {
              "outlinewidth": 0,
              "ticks": ""
             }
            },
            "type": "scattercarpet"
           }
          ],
          "scattergeo": [
           {
            "marker": {
             "colorbar": {
              "outlinewidth": 0,
              "ticks": ""
             }
            },
            "type": "scattergeo"
           }
          ],
          "scattergl": [
           {
            "marker": {
             "colorbar": {
              "outlinewidth": 0,
              "ticks": ""
             }
            },
            "type": "scattergl"
           }
          ],
          "scattermapbox": [
           {
            "marker": {
             "colorbar": {
              "outlinewidth": 0,
              "ticks": ""
             }
            },
            "type": "scattermapbox"
           }
          ],
          "scatterpolar": [
           {
            "marker": {
             "colorbar": {
              "outlinewidth": 0,
              "ticks": ""
             }
            },
            "type": "scatterpolar"
           }
          ],
          "scatterpolargl": [
           {
            "marker": {
             "colorbar": {
              "outlinewidth": 0,
              "ticks": ""
             }
            },
            "type": "scatterpolargl"
           }
          ],
          "scatterternary": [
           {
            "marker": {
             "colorbar": {
              "outlinewidth": 0,
              "ticks": ""
             }
            },
            "type": "scatterternary"
           }
          ],
          "surface": [
           {
            "colorbar": {
             "outlinewidth": 0,
             "ticks": ""
            },
            "colorscale": [
             [
              0,
              "#0d0887"
             ],
             [
              0.1111111111111111,
              "#46039f"
             ],
             [
              0.2222222222222222,
              "#7201a8"
             ],
             [
              0.3333333333333333,
              "#9c179e"
             ],
             [
              0.4444444444444444,
              "#bd3786"
             ],
             [
              0.5555555555555556,
              "#d8576b"
             ],
             [
              0.6666666666666666,
              "#ed7953"
             ],
             [
              0.7777777777777778,
              "#fb9f3a"
             ],
             [
              0.8888888888888888,
              "#fdca26"
             ],
             [
              1,
              "#f0f921"
             ]
            ],
            "type": "surface"
           }
          ],
          "table": [
           {
            "cells": {
             "fill": {
              "color": "#EBF0F8"
             },
             "line": {
              "color": "white"
             }
            },
            "header": {
             "fill": {
              "color": "#C8D4E3"
             },
             "line": {
              "color": "white"
             }
            },
            "type": "table"
           }
          ]
         },
         "layout": {
          "annotationdefaults": {
           "arrowcolor": "#2a3f5f",
           "arrowhead": 0,
           "arrowwidth": 1
          },
          "autotypenumbers": "strict",
          "coloraxis": {
           "colorbar": {
            "outlinewidth": 0,
            "ticks": ""
           }
          },
          "colorscale": {
           "diverging": [
            [
             0,
             "#8e0152"
            ],
            [
             0.1,
             "#c51b7d"
            ],
            [
             0.2,
             "#de77ae"
            ],
            [
             0.3,
             "#f1b6da"
            ],
            [
             0.4,
             "#fde0ef"
            ],
            [
             0.5,
             "#f7f7f7"
            ],
            [
             0.6,
             "#e6f5d0"
            ],
            [
             0.7,
             "#b8e186"
            ],
            [
             0.8,
             "#7fbc41"
            ],
            [
             0.9,
             "#4d9221"
            ],
            [
             1,
             "#276419"
            ]
           ],
           "sequential": [
            [
             0,
             "#0d0887"
            ],
            [
             0.1111111111111111,
             "#46039f"
            ],
            [
             0.2222222222222222,
             "#7201a8"
            ],
            [
             0.3333333333333333,
             "#9c179e"
            ],
            [
             0.4444444444444444,
             "#bd3786"
            ],
            [
             0.5555555555555556,
             "#d8576b"
            ],
            [
             0.6666666666666666,
             "#ed7953"
            ],
            [
             0.7777777777777778,
             "#fb9f3a"
            ],
            [
             0.8888888888888888,
             "#fdca26"
            ],
            [
             1,
             "#f0f921"
            ]
           ],
           "sequentialminus": [
            [
             0,
             "#0d0887"
            ],
            [
             0.1111111111111111,
             "#46039f"
            ],
            [
             0.2222222222222222,
             "#7201a8"
            ],
            [
             0.3333333333333333,
             "#9c179e"
            ],
            [
             0.4444444444444444,
             "#bd3786"
            ],
            [
             0.5555555555555556,
             "#d8576b"
            ],
            [
             0.6666666666666666,
             "#ed7953"
            ],
            [
             0.7777777777777778,
             "#fb9f3a"
            ],
            [
             0.8888888888888888,
             "#fdca26"
            ],
            [
             1,
             "#f0f921"
            ]
           ]
          },
          "colorway": [
           "#636efa",
           "#EF553B",
           "#00cc96",
           "#ab63fa",
           "#FFA15A",
           "#19d3f3",
           "#FF6692",
           "#B6E880",
           "#FF97FF",
           "#FECB52"
          ],
          "font": {
           "color": "#2a3f5f"
          },
          "geo": {
           "bgcolor": "white",
           "lakecolor": "white",
           "landcolor": "#E5ECF6",
           "showlakes": true,
           "showland": true,
           "subunitcolor": "white"
          },
          "hoverlabel": {
           "align": "left"
          },
          "hovermode": "closest",
          "mapbox": {
           "style": "light"
          },
          "paper_bgcolor": "white",
          "plot_bgcolor": "#E5ECF6",
          "polar": {
           "angularaxis": {
            "gridcolor": "white",
            "linecolor": "white",
            "ticks": ""
           },
           "bgcolor": "#E5ECF6",
           "radialaxis": {
            "gridcolor": "white",
            "linecolor": "white",
            "ticks": ""
           }
          },
          "scene": {
           "xaxis": {
            "backgroundcolor": "#E5ECF6",
            "gridcolor": "white",
            "gridwidth": 2,
            "linecolor": "white",
            "showbackground": true,
            "ticks": "",
            "zerolinecolor": "white"
           },
           "yaxis": {
            "backgroundcolor": "#E5ECF6",
            "gridcolor": "white",
            "gridwidth": 2,
            "linecolor": "white",
            "showbackground": true,
            "ticks": "",
            "zerolinecolor": "white"
           },
           "zaxis": {
            "backgroundcolor": "#E5ECF6",
            "gridcolor": "white",
            "gridwidth": 2,
            "linecolor": "white",
            "showbackground": true,
            "ticks": "",
            "zerolinecolor": "white"
           }
          },
          "shapedefaults": {
           "line": {
            "color": "#2a3f5f"
           }
          },
          "ternary": {
           "aaxis": {
            "gridcolor": "white",
            "linecolor": "white",
            "ticks": ""
           },
           "baxis": {
            "gridcolor": "white",
            "linecolor": "white",
            "ticks": ""
           },
           "bgcolor": "#E5ECF6",
           "caxis": {
            "gridcolor": "white",
            "linecolor": "white",
            "ticks": ""
           }
          },
          "title": {
           "x": 0.05
          },
          "xaxis": {
           "automargin": true,
           "gridcolor": "white",
           "linecolor": "white",
           "ticks": "",
           "title": {
            "standoff": 15
           },
           "zerolinecolor": "white",
           "zerolinewidth": 2
          },
          "yaxis": {
           "automargin": true,
           "gridcolor": "white",
           "linecolor": "white",
           "ticks": "",
           "title": {
            "standoff": 15
           },
           "zerolinecolor": "white",
           "zerolinewidth": 2
          }
         }
        },
        "xaxis": {
         "anchor": "y",
         "autorange": true,
         "domain": [
          0,
          0.2888888888888889
         ],
         "range": [
          -0.5,
          1.5
         ],
         "type": "category"
        },
        "xaxis2": {
         "anchor": "y2",
         "autorange": true,
         "domain": [
          0.35555555555555557,
          0.6444444444444445
         ],
         "range": [
          -0.5,
          1.5
         ],
         "type": "category"
        },
        "xaxis3": {
         "anchor": "y3",
         "autorange": true,
         "domain": [
          0.7111111111111111,
          1
         ],
         "range": [
          -0.5,
          1.5
         ],
         "type": "category"
        },
        "xaxis4": {
         "anchor": "y4",
         "autorange": true,
         "domain": [
          0,
          0.2888888888888889
         ],
         "range": [
          -0.5,
          1.5
         ],
         "type": "category"
        },
        "xaxis5": {
         "anchor": "y5",
         "autorange": true,
         "domain": [
          0.35555555555555557,
          0.6444444444444445
         ],
         "range": [
          -0.5,
          1.5
         ],
         "type": "category"
        },
        "xaxis6": {
         "anchor": "y6",
         "autorange": true,
         "domain": [
          0.7111111111111111,
          1
         ],
         "range": [
          -0.5,
          1.5
         ],
         "type": "category"
        },
        "xaxis7": {
         "anchor": "y7",
         "autorange": true,
         "domain": [
          0,
          0.2888888888888889
         ],
         "range": [
          -0.5,
          1.5
         ],
         "type": "category"
        },
        "xaxis8": {
         "anchor": "y8",
         "autorange": true,
         "domain": [
          0.35555555555555557,
          0.6444444444444445
         ],
         "range": [
          -0.5,
          1.5
         ],
         "type": "category"
        },
        "xaxis9": {
         "anchor": "y9",
         "autorange": true,
         "domain": [
          0.7111111111111111,
          1
         ],
         "range": [
          -0.5,
          1.5
         ],
         "type": "category"
        },
        "yaxis": {
         "anchor": "x",
         "autorange": true,
         "domain": [
          0.8666666666666667,
          1
         ],
         "range": [
          0,
          63.1578947368421
         ],
         "type": "linear"
        },
        "yaxis2": {
         "anchor": "x2",
         "autorange": true,
         "domain": [
          0.8666666666666667,
          1
         ],
         "range": [
          0,
          14.736842105263158
         ],
         "type": "linear"
        },
        "yaxis3": {
         "anchor": "x3",
         "autorange": true,
         "domain": [
          0.8666666666666667,
          1
         ],
         "range": [
          0,
          9.473684210526315
         ],
         "type": "linear"
        },
        "yaxis4": {
         "anchor": "x4",
         "autorange": true,
         "domain": [
          0.43333333333333335,
          0.5666666666666667
         ],
         "range": [
          0,
          16.842105263157894
         ],
         "type": "linear"
        },
        "yaxis5": {
         "anchor": "x5",
         "autorange": true,
         "domain": [
          0.43333333333333335,
          0.5666666666666667
         ],
         "range": [
          0,
          8.421052631578947
         ],
         "type": "linear"
        },
        "yaxis6": {
         "anchor": "x6",
         "autorange": true,
         "domain": [
          0.43333333333333335,
          0.5666666666666667
         ],
         "range": [
          0,
          16.842105263157894
         ],
         "type": "linear"
        },
        "yaxis7": {
         "anchor": "x7",
         "autorange": true,
         "domain": [
          0,
          0.13333333333333333
         ],
         "range": [
          0,
          1.0526315789473684
         ],
         "type": "linear"
        },
        "yaxis8": {
         "anchor": "x8",
         "autorange": true,
         "domain": [
          0,
          0.13333333333333333
         ],
         "range": [
          0,
          8.421052631578947
         ],
         "type": "linear"
        },
        "yaxis9": {
         "anchor": "x9",
         "autorange": true,
         "domain": [
          0,
          0.13333333333333333
         ],
         "range": [
          0,
          13.68421052631579
         ],
         "type": "linear"
        }
       }
      },
      "image/png": "[encoded data removed]",
      "text/html": [
       "<div>                            <div id=\"f537400e-61cc-4a97-af56-1ff1ff4a1ce4\" class=\"plotly-graph-div\" style=\"height:525px; width:100%;\"></div>            <script type=\"text/javascript\">                require([\"plotly\"], function(Plotly) {                    window.PLOTLYENV=window.PLOTLYENV || {};                                    if (document.getElementById(\"f537400e-61cc-4a97-af56-1ff1ff4a1ce4\")) {                    Plotly.newPlot(                        \"f537400e-61cc-4a97-af56-1ff1ff4a1ce4\",                        [{\"x\":[\"Yes\",\"No\"],\"y\":[60,47],\"type\":\"bar\",\"xaxis\":\"x\",\"yaxis\":\"y\"},{\"x\":[\"Yes\",\"No\"],\"y\":[2,14],\"type\":\"bar\",\"xaxis\":\"x2\",\"yaxis\":\"y2\"},{\"x\":[\"Yes\",\"No\"],\"y\":[0,9],\"type\":\"bar\",\"xaxis\":\"x3\",\"yaxis\":\"y3\"},{\"x\":[\"Yes\",\"No\"],\"y\":[4,16],\"type\":\"bar\",\"xaxis\":\"x4\",\"yaxis\":\"y4\"},{\"x\":[\"Yes\",\"No\"],\"y\":[1,8],\"type\":\"bar\",\"xaxis\":\"x5\",\"yaxis\":\"y5\"},{\"x\":[\"Yes\",\"No\"],\"y\":[3,16],\"type\":\"bar\",\"xaxis\":\"x6\",\"yaxis\":\"y6\"},{\"x\":[\"Yes\",\"No\"],\"y\":[0,1],\"type\":\"bar\",\"xaxis\":\"x7\",\"yaxis\":\"y7\"},{\"x\":[\"Yes\",\"No\"],\"y\":[1,8],\"type\":\"bar\",\"xaxis\":\"x8\",\"yaxis\":\"y8\"},{\"x\":[\"Yes\",\"No\"],\"y\":[3,13],\"type\":\"bar\",\"xaxis\":\"x9\",\"yaxis\":\"y9\"}],                        {\"template\":{\"data\":{\"bar\":[{\"error_x\":{\"color\":\"#2a3f5f\"},\"error_y\":{\"color\":\"#2a3f5f\"},\"marker\":{\"line\":{\"color\":\"#E5ECF6\",\"width\":0.5},\"pattern\":{\"fillmode\":\"overlay\",\"size\":10,\"solidity\":0.2}},\"type\":\"bar\"}],\"barpolar\":[{\"marker\":{\"line\":{\"color\":\"#E5ECF6\",\"width\":0.5},\"pattern\":{\"fillmode\":\"overlay\",\"size\":10,\"solidity\":0.2}},\"type\":\"barpolar\"}],\"carpet\":[{\"aaxis\":{\"endlinecolor\":\"#2a3f5f\",\"gridcolor\":\"white\",\"linecolor\":\"white\",\"minorgridcolor\":\"white\",\"startlinecolor\":\"#2a3f5f\"},\"baxis\":{\"endlinecolor\":\"#2a3f5f\",\"gridcolor\":\"white\",\"linecolor\":\"white\",\"minorgridcolor\":\"white\",\"startlinecolor\":\"#2a3f5f\"},\"type\":\"carpet\"}],\"choropleth\":[{\"colorbar\":{\"outlinewidth\":0,\"ticks\":\"\"},\"type\":\"choropleth\"}],\"contour\":[{\"colorbar\":{\"outlinewidth\":0,\"ticks\":\"\"},\"colorscale\":[[0.0,\"#0d0887\"],[0.1111111111111111,\"#46039f\"],[0.2222222222222222,\"#7201a8\"],[0.3333333333333333,\"#9c179e\"],[0.4444444444444444,\"#bd3786\"],[0.5555555555555556,\"#d8576b\"],[0.6666666666666666,\"#ed7953\"],[0.7777777777777778,\"#fb9f3a\"],[0.8888888888888888,\"#fdca26\"],[1.0,\"#f0f921\"]],\"type\":\"contour\"}],\"contourcarpet\":[{\"colorbar\":{\"outlinewidth\":0,\"ticks\":\"\"},\"type\":\"contourcarpet\"}],\"heatmap\":[{\"colorbar\":{\"outlinewidth\":0,\"ticks\":\"\"},\"colorscale\":[[0.0,\"#0d0887\"],[0.1111111111111111,\"#46039f\"],[0.2222222222222222,\"#7201a8\"],[0.3333333333333333,\"#9c179e\"],[0.4444444444444444,\"#bd3786\"],[0.5555555555555556,\"#d8576b\"],[0.6666666666666666,\"#ed7953\"],[0.7777777777777778,\"#fb9f3a\"],[0.8888888888888888,\"#fdca26\"],[1.0,\"#f0f921\"]],\"type\":\"heatmap\"}],\"heatmapgl\":[{\"colorbar\":{\"outlinewidth\":0,\"ticks\":\"\"},\"colorscale\":[[0.0,\"#0d0887\"],[0.1111111111111111,\"#46039f\"],[0.2222222222222222,\"#7201a8\"],[0.3333333333333333,\"#9c179e\"],[0.4444444444444444,\"#bd3786\"],[0.5555555555555556,\"#d8576b\"],[0.6666666666666666,\"#ed7953\"],[0.7777777777777778,\"#fb9f3a\"],[0.8888888888888888,\"#fdca26\"],[1.0,\"#f0f921\"]],\"type\":\"heatmapgl\"}],\"histogram\":[{\"marker\":{\"pattern\":{\"fillmode\":\"overlay\",\"size\":10,\"solidity\":0.2}},\"type\":\"histogram\"}],\"histogram2d\":[{\"colorbar\":{\"outlinewidth\":0,\"ticks\":\"\"},\"colorscale\":[[0.0,\"#0d0887\"],[0.1111111111111111,\"#46039f\"],[0.2222222222222222,\"#7201a8\"],[0.3333333333333333,\"#9c179e\"],[0.4444444444444444,\"#bd3786\"],[0.5555555555555556,\"#d8576b\"],[0.6666666666666666,\"#ed7953\"],[0.7777777777777778,\"#fb9f3a\"],[0.8888888888888888,\"#fdca26\"],[1.0,\"#f0f921\"]],\"type\":\"histogram2d\"}],\"histogram2dcontour\":[{\"colorbar\":{\"outlinewidth\":0,\"ticks\":\"\"},\"colorscale\":[[0.0,\"#0d0887\"],[0.1111111111111111,\"#46039f\"],[0.2222222222222222,\"#7201a8\"],[0.3333333333333333,\"#9c179e\"],[0.4444444444444444,\"#bd3786\"],[0.5555555555555556,\"#d8576b\"],[0.6666666666666666,\"#ed7953\"],[0.7777777777777778,\"#fb9f3a\"],[0.8888888888888888,\"#fdca26\"],[1.0,\"#f0f921\"]],\"type\":\"histogram2dcontour\"}],\"mesh3d\":[{\"colorbar\":{\"outlinewidth\":0,\"ticks\":\"\"},\"type\":\"mesh3d\"}],\"parcoords\":[{\"line\":{\"colorbar\":{\"outlinewidth\":0,\"ticks\":\"\"}},\"type\":\"parcoords\"}],\"pie\":[{\"automargin\":true,\"type\":\"pie\"}],\"scatter\":[{\"marker\":{\"colorbar\":{\"outlinewidth\":0,\"ticks\":\"\"}},\"type\":\"scatter\"}],\"scatter3d\":[{\"line\":{\"colorbar\":{\"outlinewidth\":0,\"ticks\":\"\"}},\"marker\":{\"colorbar\":{\"outlinewidth\":0,\"ticks\":\"\"}},\"type\":\"scatter3d\"}],\"scattercarpet\":[{\"marker\":{\"colorbar\":{\"outlinewidth\":0,\"ticks\":\"\"}},\"type\":\"scattercarpet\"}],\"scattergeo\":[{\"marker\":{\"colorbar\":{\"outlinewidth\":0,\"ticks\":\"\"}},\"type\":\"scattergeo\"}],\"scattergl\":[{\"marker\":{\"colorbar\":{\"outlinewidth\":0,\"ticks\":\"\"}},\"type\":\"scattergl\"}],\"scattermapbox\":[{\"marker\":{\"colorbar\":{\"outlinewidth\":0,\"ticks\":\"\"}},\"type\":\"scattermapbox\"}],\"scatterpolar\":[{\"marker\":{\"colorbar\":{\"outlinewidth\":0,\"ticks\":\"\"}},\"type\":\"scatterpolar\"}],\"scatterpolargl\":[{\"marker\":{\"colorbar\":{\"outlinewidth\":0,\"ticks\":\"\"}},\"type\":\"scatterpolargl\"}],\"scatterternary\":[{\"marker\":{\"colorbar\":{\"outlinewidth\":0,\"ticks\":\"\"}},\"type\":\"scatterternary\"}],\"surface\":[{\"colorbar\":{\"outlinewidth\":0,\"ticks\":\"\"},\"colorscale\":[[0.0,\"#0d0887\"],[0.1111111111111111,\"#46039f\"],[0.2222222222222222,\"#7201a8\"],[0.3333333333333333,\"#9c179e\"],[0.4444444444444444,\"#bd3786\"],[0.5555555555555556,\"#d8576b\"],[0.6666666666666666,\"#ed7953\"],[0.7777777777777778,\"#fb9f3a\"],[0.8888888888888888,\"#fdca26\"],[1.0,\"#f0f921\"]],\"type\":\"surface\"}],\"table\":[{\"cells\":{\"fill\":{\"color\":\"#EBF0F8\"},\"line\":{\"color\":\"white\"}},\"header\":{\"fill\":{\"color\":\"#C8D4E3\"},\"line\":{\"color\":\"white\"}},\"type\":\"table\"}]},\"layout\":{\"annotationdefaults\":{\"arrowcolor\":\"#2a3f5f\",\"arrowhead\":0,\"arrowwidth\":1},\"autotypenumbers\":\"strict\",\"coloraxis\":{\"colorbar\":{\"outlinewidth\":0,\"ticks\":\"\"}},\"colorscale\":{\"diverging\":[[0,\"#8e0152\"],[0.1,\"#c51b7d\"],[0.2,\"#de77ae\"],[0.3,\"#f1b6da\"],[0.4,\"#fde0ef\"],[0.5,\"#f7f7f7\"],[0.6,\"#e6f5d0\"],[0.7,\"#b8e186\"],[0.8,\"#7fbc41\"],[0.9,\"#4d9221\"],[1,\"#276419\"]],\"sequential\":[[0.0,\"#0d0887\"],[0.1111111111111111,\"#46039f\"],[0.2222222222222222,\"#7201a8\"],[0.3333333333333333,\"#9c179e\"],[0.4444444444444444,\"#bd3786\"],[0.5555555555555556,\"#d8576b\"],[0.6666666666666666,\"#ed7953\"],[0.7777777777777778,\"#fb9f3a\"],[0.8888888888888888,\"#fdca26\"],[1.0,\"#f0f921\"]],\"sequentialminus\":[[0.0,\"#0d0887\"],[0.1111111111111111,\"#46039f\"],[0.2222222222222222,\"#7201a8\"],[0.3333333333333333,\"#9c179e\"],[0.4444444444444444,\"#bd3786\"],[0.5555555555555556,\"#d8576b\"],[0.6666666666666666,\"#ed7953\"],[0.7777777777777778,\"#fb9f3a\"],[0.8888888888888888,\"#fdca26\"],[1.0,\"#f0f921\"]]},\"colorway\":[\"#636efa\",\"#EF553B\",\"#00cc96\",\"#ab63fa\",\"#FFA15A\",\"#19d3f3\",\"#FF6692\",\"#B6E880\",\"#FF97FF\",\"#FECB52\"],\"font\":{\"color\":\"#2a3f5f\"},\"geo\":{\"bgcolor\":\"white\",\"lakecolor\":\"white\",\"landcolor\":\"#E5ECF6\",\"showlakes\":true,\"showland\":true,\"subunitcolor\":\"white\"},\"hoverlabel\":{\"align\":\"left\"},\"hovermode\":\"closest\",\"mapbox\":{\"style\":\"light\"},\"paper_bgcolor\":\"white\",\"plot_bgcolor\":\"#E5ECF6\",\"polar\":{\"angularaxis\":{\"gridcolor\":\"white\",\"linecolor\":\"white\",\"ticks\":\"\"},\"bgcolor\":\"#E5ECF6\",\"radialaxis\":{\"gridcolor\":\"white\",\"linecolor\":\"white\",\"ticks\":\"\"}},\"scene\":{\"xaxis\":{\"backgroundcolor\":\"#E5ECF6\",\"gridcolor\":\"white\",\"gridwidth\":2,\"linecolor\":\"white\",\"showbackground\":true,\"ticks\":\"\",\"zerolinecolor\":\"white\"},\"yaxis\":{\"backgroundcolor\":\"#E5ECF6\",\"gridcolor\":\"white\",\"gridwidth\":2,\"linecolor\":\"white\",\"showbackground\":true,\"ticks\":\"\",\"zerolinecolor\":\"white\"},\"zaxis\":{\"backgroundcolor\":\"#E5ECF6\",\"gridcolor\":\"white\",\"gridwidth\":2,\"linecolor\":\"white\",\"showbackground\":true,\"ticks\":\"\",\"zerolinecolor\":\"white\"}},\"shapedefaults\":{\"line\":{\"color\":\"#2a3f5f\"}},\"ternary\":{\"aaxis\":{\"gridcolor\":\"white\",\"linecolor\":\"white\",\"ticks\":\"\"},\"baxis\":{\"gridcolor\":\"white\",\"linecolor\":\"white\",\"ticks\":\"\"},\"bgcolor\":\"#E5ECF6\",\"caxis\":{\"gridcolor\":\"white\",\"linecolor\":\"white\",\"ticks\":\"\"}},\"title\":{\"x\":0.05},\"xaxis\":{\"automargin\":true,\"gridcolor\":\"white\",\"linecolor\":\"white\",\"ticks\":\"\",\"title\":{\"standoff\":15},\"zerolinecolor\":\"white\",\"zerolinewidth\":2},\"yaxis\":{\"automargin\":true,\"gridcolor\":\"white\",\"linecolor\":\"white\",\"ticks\":\"\",\"title\":{\"standoff\":15},\"zerolinecolor\":\"white\",\"zerolinewidth\":2}}},\"xaxis\":{\"anchor\":\"y\",\"domain\":[0.0,0.2888888888888889]},\"yaxis\":{\"anchor\":\"x\",\"domain\":[0.8666666666666667,1.0]},\"xaxis2\":{\"anchor\":\"y2\",\"domain\":[0.35555555555555557,0.6444444444444445]},\"yaxis2\":{\"anchor\":\"x2\",\"domain\":[0.8666666666666667,1.0]},\"xaxis3\":{\"anchor\":\"y3\",\"domain\":[0.7111111111111111,1.0]},\"yaxis3\":{\"anchor\":\"x3\",\"domain\":[0.8666666666666667,1.0]},\"xaxis4\":{\"anchor\":\"y4\",\"domain\":[0.0,0.2888888888888889]},\"yaxis4\":{\"anchor\":\"x4\",\"domain\":[0.43333333333333335,0.5666666666666667]},\"xaxis5\":{\"anchor\":\"y5\",\"domain\":[0.35555555555555557,0.6444444444444445]},\"yaxis5\":{\"anchor\":\"x5\",\"domain\":[0.43333333333333335,0.5666666666666667]},\"xaxis6\":{\"anchor\":\"y6\",\"domain\":[0.7111111111111111,1.0]},\"yaxis6\":{\"anchor\":\"x6\",\"domain\":[0.43333333333333335,0.5666666666666667]},\"xaxis7\":{\"anchor\":\"y7\",\"domain\":[0.0,0.2888888888888889]},\"yaxis7\":{\"anchor\":\"x7\",\"domain\":[0.0,0.13333333333333333]},\"xaxis8\":{\"anchor\":\"y8\",\"domain\":[0.35555555555555557,0.6444444444444445]},\"yaxis8\":{\"anchor\":\"x8\",\"domain\":[0.0,0.13333333333333333]},\"xaxis9\":{\"anchor\":\"y9\",\"domain\":[0.7111111111111111,1.0]},\"yaxis9\":{\"anchor\":\"x9\",\"domain\":[0.0,0.13333333333333333]},\"annotations\":[{\"font\":{\"size\":16},\"showarrow\":false,\"text\":\"Dataset\",\"x\":0.14444444444444446,\"xanchor\":\"center\",\"xref\":\"paper\",\"y\":1.0,\"yanchor\":\"bottom\",\"yref\":\"paper\"},{\"font\":{\"size\":16},\"showarrow\":false,\"text\":\"revers_player_1 = 1 AND <br> revers_player_2 = 0\",\"x\":0.5,\"xanchor\":\"center\",\"xref\":\"paper\",\"y\":1.0,\"yanchor\":\"bottom\",\"yref\":\"paper\"},{\"font\":{\"size\":16},\"showarrow\":false,\"text\":\"M2_envoie = 1 AND <br> controle_player_2 = 0\",\"x\":0.8555555555555556,\"xanchor\":\"center\",\"xref\":\"paper\",\"y\":1.0,\"yanchor\":\"bottom\",\"yref\":\"paper\"},{\"font\":{\"size\":16},\"showarrow\":false,\"text\":\"Gagnant_ou_pas = < AND <br> M1_reception = 0\",\"x\":0.14444444444444446,\"xanchor\":\"center\",\"xref\":\"paper\",\"y\":0.5666666666666667,\"yanchor\":\"bottom\",\"yref\":\"paper\"},{\"font\":{\"size\":16},\"showarrow\":false,\"text\":\"controle_player_1 = 2 AND <br> M1_envoie = 0\",\"x\":0.5,\"xanchor\":\"center\",\"xref\":\"paper\",\"y\":0.5666666666666667,\"yanchor\":\"bottom\",\"yref\":\"paper\"},{\"font\":{\"size\":16},\"showarrow\":false,\"text\":\"revers_player_1 = 1 AND D3_envoie = <br> 0\",\"x\":0.8555555555555556,\"xanchor\":\"center\",\"xref\":\"paper\",\"y\":0.5666666666666667,\"yanchor\":\"bottom\",\"yref\":\"paper\"},{\"font\":{\"size\":16},\"showarrow\":false,\"text\":\"revers_player_1 = 4\",\"x\":0.14444444444444446,\"xanchor\":\"center\",\"xref\":\"paper\",\"y\":0.13333333333333333,\"yanchor\":\"bottom\",\"yref\":\"paper\"},{\"font\":{\"size\":16},\"showarrow\":false,\"text\":\"M2_envoie = 1 AND <br> coup_droit_player_1 = 2\",\"x\":0.5,\"xanchor\":\"center\",\"xref\":\"paper\",\"y\":0.13333333333333333,\"yanchor\":\"bottom\",\"yref\":\"paper\"},{\"font\":{\"size\":16},\"showarrow\":false,\"text\":\"revers_player_1 = 1 AND <br> controle_player_2 = 0\",\"x\":0.8555555555555556,\"xanchor\":\"center\",\"xref\":\"paper\",\"y\":0.13333333333333333,\"yanchor\":\"bottom\",\"yref\":\"paper\"},{\"showarrow\":false,\"text\":\"Gagnant\",\"x\":0.5,\"xref\":\"paper\",\"y\":-0.15,\"yref\":\"paper\"},{\"showarrow\":false,\"text\":\"Frequency count\",\"textangle\":-90,\"x\":-0.07,\"xref\":\"paper\",\"y\":0.5,\"yref\":\"paper\"}],\"showlegend\":false},                        {\"responsive\": true}                    ).then(function(){\n",
       "                            \n",
       "var gd = document.getElementById('f537400e-61cc-4a97-af56-1ff1ff4a1ce4');\n",
       "var x = new MutationObserver(function (mutations, observer) {{\n",
       "        var display = window.getComputedStyle(gd).display;\n",
       "        if (!display || display === 'none') {{\n",
       "            console.log([gd, 'removed!']);\n",
       "            Plotly.purge(gd);\n",
       "            observer.disconnect();\n",
       "        }}\n",
       "}});\n",
       "\n",
       "// Listen for the removal of the full notebook cells\n",
       "var notebookContainer = gd.closest('#notebook-container');\n",
       "if (notebookContainer) {{\n",
       "    x.observe(notebookContainer, {childList: true});\n",
       "}}\n",
       "\n",
       "// Listen for the clearing of the current output cell\n",
       "var outputEl = gd.closest('.output');\n",
       "if (outputEl) {{\n",
       "    x.observe(outputEl, {childList: true});\n",
       "}}\n",
       "\n",
       "                        })                };                });            </script>        </div>"
      ]
     },
     "metadata": {},
     "output_type": "display_data"
    }
   ],
   "source": [
    "target_columns = ['Gagnant']\n",
    "clf = emm.EMM(width=10, depth=2, evaluation_metric='distribution_cosine')\n",
    "clf.search(ft_data, target_cols=target_columns)\n",
    "clf.visualise(subgroups=8, cols=3)"
   ]
  },
  {
   "cell_type": "markdown",
   "metadata": {},
   "source": [
    "#### En cas d'absence des plots (raison inconnue) les voir au lien suivant : https://drive.google.com/drive/folders/1-dbeIrw8IB_7k0rzqxPlRlqS412ePRaw?usp=sharing\n"
   ]
  },
  {
   "cell_type": "markdown",
   "metadata": {},
   "source": [
    "Sur __107__ points joués, le joueur __F__ en gagne __60__.\n",
    "\n",
    "1. Si __F__ joue de revers et que l'adversaire ne répond pas avec un revers, il a très peu de chances de remporter le point (14 points perdus sur 16);\n",
    "2. Si pendant le point, __F__ joue sur la zone __M2__ et que l'adversaire pendant le même point ne joue jamais des coup de type \"contrôle\", le jouer __F__ n'a pas de chance de remporter le point (9 points perdus sur 9);\n",
    "3. Si __F__ est en train de perdre le set et qu'il ne reçoit jamais la balle en __M1__, il a peu de chances de remporter le point (16 points perdus sur 20);\n",
    "4. Si __F__ joue un coup de type \"contrôle\" deux fois mais qu'il envoie jamais sur __M1__, il a peu de chances de remporter le point (8 points perdus sur 9);\n",
    "5. Si pendant le point __F__ joue un coup de \"revers\" mais qu'il envoie jamais sur __D3__, il a peu de chances de remporter le point (16 points perdus sur 19);\n",
    "\n",
    "\n",
    "#### <u>Pour le joueur B.T.</u>"
   ]
  },
  {
   "cell_type": "code",
   "execution_count": 11,
   "metadata": {},
   "outputs": [],
   "source": [
    "bt_data = df_player(\"B\", data)"
   ]
  },
  {
   "cell_type": "code",
   "execution_count": 12,
   "metadata": {},
   "outputs": [
    {
     "data": {
      "text/html": [
       "<div>\n",
       "<style scoped>\n",
       "    .dataframe tbody tr th:only-of-type {\n",
       "        vertical-align: middle;\n",
       "    }\n",
       "\n",
       "    .dataframe tbody tr th {\n",
       "        vertical-align: top;\n",
       "    }\n",
       "\n",
       "    .dataframe thead th {\n",
       "        text-align: right;\n",
       "    }\n",
       "</style>\n",
       "<table border=\"1\" class=\"dataframe\">\n",
       "  <thead>\n",
       "    <tr style=\"text-align: right;\">\n",
       "      <th></th>\n",
       "      <th>Duree</th>\n",
       "      <th>coup_droit_player_1</th>\n",
       "      <th>coup_droit_player_2</th>\n",
       "      <th>revers_player_1</th>\n",
       "      <th>revers_player_2</th>\n",
       "      <th>Nb_coups</th>\n",
       "      <th>Set</th>\n",
       "      <th>Gagnant_ou_pas</th>\n",
       "      <th>Service</th>\n",
       "      <th>controle_player_1</th>\n",
       "      <th>...</th>\n",
       "      <th>D2_reception</th>\n",
       "      <th>D3_envoie</th>\n",
       "      <th>D3_reception</th>\n",
       "      <th>G1_envoie</th>\n",
       "      <th>G1_reception</th>\n",
       "      <th>G2_envoie</th>\n",
       "      <th>G2_reception</th>\n",
       "      <th>G3_envoie</th>\n",
       "      <th>G3_reception</th>\n",
       "      <th>Gagnant</th>\n",
       "    </tr>\n",
       "  </thead>\n",
       "  <tbody>\n",
       "    <tr>\n",
       "      <th>0</th>\n",
       "      <td>long</td>\n",
       "      <td>1</td>\n",
       "      <td>1</td>\n",
       "      <td>2</td>\n",
       "      <td>3</td>\n",
       "      <td>8</td>\n",
       "      <td>1</td>\n",
       "      <td>&gt;</td>\n",
       "      <td>player2 - Latéral droit</td>\n",
       "      <td>2</td>\n",
       "      <td>...</td>\n",
       "      <td>0</td>\n",
       "      <td>0</td>\n",
       "      <td>0</td>\n",
       "      <td>0</td>\n",
       "      <td>0</td>\n",
       "      <td>0</td>\n",
       "      <td>0</td>\n",
       "      <td>1</td>\n",
       "      <td>1</td>\n",
       "      <td>Yes</td>\n",
       "    </tr>\n",
       "    <tr>\n",
       "      <th>1</th>\n",
       "      <td>short</td>\n",
       "      <td>2</td>\n",
       "      <td>2</td>\n",
       "      <td>0</td>\n",
       "      <td>1</td>\n",
       "      <td>5</td>\n",
       "      <td>1</td>\n",
       "      <td>&gt;</td>\n",
       "      <td>player2 - Latéral droit</td>\n",
       "      <td>1</td>\n",
       "      <td>...</td>\n",
       "      <td>0</td>\n",
       "      <td>1</td>\n",
       "      <td>0</td>\n",
       "      <td>0</td>\n",
       "      <td>0</td>\n",
       "      <td>0</td>\n",
       "      <td>0</td>\n",
       "      <td>1</td>\n",
       "      <td>0</td>\n",
       "      <td>Yes</td>\n",
       "    </tr>\n",
       "    <tr>\n",
       "      <th>2</th>\n",
       "      <td>middle</td>\n",
       "      <td>3</td>\n",
       "      <td>0</td>\n",
       "      <td>0</td>\n",
       "      <td>2</td>\n",
       "      <td>5</td>\n",
       "      <td>1</td>\n",
       "      <td>&gt;</td>\n",
       "      <td>player1 - Latéral gauche</td>\n",
       "      <td>1</td>\n",
       "      <td>...</td>\n",
       "      <td>0</td>\n",
       "      <td>0</td>\n",
       "      <td>0</td>\n",
       "      <td>0</td>\n",
       "      <td>0</td>\n",
       "      <td>0</td>\n",
       "      <td>0</td>\n",
       "      <td>1</td>\n",
       "      <td>1</td>\n",
       "      <td>No</td>\n",
       "    </tr>\n",
       "    <tr>\n",
       "      <th>3</th>\n",
       "      <td>middle</td>\n",
       "      <td>1</td>\n",
       "      <td>1</td>\n",
       "      <td>1</td>\n",
       "      <td>0</td>\n",
       "      <td>3</td>\n",
       "      <td>1</td>\n",
       "      <td>=</td>\n",
       "      <td>player1 - Latéral droit</td>\n",
       "      <td>1</td>\n",
       "      <td>...</td>\n",
       "      <td>1</td>\n",
       "      <td>0</td>\n",
       "      <td>0</td>\n",
       "      <td>0</td>\n",
       "      <td>0</td>\n",
       "      <td>0</td>\n",
       "      <td>0</td>\n",
       "      <td>0</td>\n",
       "      <td>0</td>\n",
       "      <td>No</td>\n",
       "    </tr>\n",
       "    <tr>\n",
       "      <th>4</th>\n",
       "      <td>short</td>\n",
       "      <td>1</td>\n",
       "      <td>1</td>\n",
       "      <td>0</td>\n",
       "      <td>1</td>\n",
       "      <td>3</td>\n",
       "      <td>1</td>\n",
       "      <td>&gt;</td>\n",
       "      <td>player2 - Latéral droit</td>\n",
       "      <td>0</td>\n",
       "      <td>...</td>\n",
       "      <td>0</td>\n",
       "      <td>0</td>\n",
       "      <td>0</td>\n",
       "      <td>0</td>\n",
       "      <td>0</td>\n",
       "      <td>0</td>\n",
       "      <td>0</td>\n",
       "      <td>1</td>\n",
       "      <td>0</td>\n",
       "      <td>Yes</td>\n",
       "    </tr>\n",
       "    <tr>\n",
       "      <th>...</th>\n",
       "      <td>...</td>\n",
       "      <td>...</td>\n",
       "      <td>...</td>\n",
       "      <td>...</td>\n",
       "      <td>...</td>\n",
       "      <td>...</td>\n",
       "      <td>...</td>\n",
       "      <td>...</td>\n",
       "      <td>...</td>\n",
       "      <td>...</td>\n",
       "      <td>...</td>\n",
       "      <td>...</td>\n",
       "      <td>...</td>\n",
       "      <td>...</td>\n",
       "      <td>...</td>\n",
       "      <td>...</td>\n",
       "      <td>...</td>\n",
       "      <td>...</td>\n",
       "      <td>...</td>\n",
       "      <td>...</td>\n",
       "      <td>...</td>\n",
       "    </tr>\n",
       "    <tr>\n",
       "      <th>102</th>\n",
       "      <td>middle</td>\n",
       "      <td>0</td>\n",
       "      <td>1</td>\n",
       "      <td>2</td>\n",
       "      <td>1</td>\n",
       "      <td>4</td>\n",
       "      <td>5</td>\n",
       "      <td>&lt;</td>\n",
       "      <td>player2 - Latéral droit</td>\n",
       "      <td>0</td>\n",
       "      <td>...</td>\n",
       "      <td>0</td>\n",
       "      <td>0</td>\n",
       "      <td>1</td>\n",
       "      <td>0</td>\n",
       "      <td>1</td>\n",
       "      <td>0</td>\n",
       "      <td>0</td>\n",
       "      <td>1</td>\n",
       "      <td>0</td>\n",
       "      <td>No</td>\n",
       "    </tr>\n",
       "    <tr>\n",
       "      <th>103</th>\n",
       "      <td>middle</td>\n",
       "      <td>1</td>\n",
       "      <td>2</td>\n",
       "      <td>1</td>\n",
       "      <td>0</td>\n",
       "      <td>4</td>\n",
       "      <td>5</td>\n",
       "      <td>&lt;</td>\n",
       "      <td>player1 - Latéral droit</td>\n",
       "      <td>0</td>\n",
       "      <td>...</td>\n",
       "      <td>0</td>\n",
       "      <td>1</td>\n",
       "      <td>0</td>\n",
       "      <td>0</td>\n",
       "      <td>0</td>\n",
       "      <td>0</td>\n",
       "      <td>0</td>\n",
       "      <td>0</td>\n",
       "      <td>0</td>\n",
       "      <td>Yes</td>\n",
       "    </tr>\n",
       "    <tr>\n",
       "      <th>104</th>\n",
       "      <td>middle</td>\n",
       "      <td>3</td>\n",
       "      <td>1</td>\n",
       "      <td>0</td>\n",
       "      <td>1</td>\n",
       "      <td>5</td>\n",
       "      <td>5</td>\n",
       "      <td>&lt;</td>\n",
       "      <td>player1 - Latéral droit</td>\n",
       "      <td>0</td>\n",
       "      <td>...</td>\n",
       "      <td>1</td>\n",
       "      <td>0</td>\n",
       "      <td>0</td>\n",
       "      <td>0</td>\n",
       "      <td>0</td>\n",
       "      <td>0</td>\n",
       "      <td>0</td>\n",
       "      <td>0</td>\n",
       "      <td>0</td>\n",
       "      <td>Yes</td>\n",
       "    </tr>\n",
       "    <tr>\n",
       "      <th>105</th>\n",
       "      <td>middle</td>\n",
       "      <td>1</td>\n",
       "      <td>2</td>\n",
       "      <td>0</td>\n",
       "      <td>1</td>\n",
       "      <td>4</td>\n",
       "      <td>5</td>\n",
       "      <td>&lt;</td>\n",
       "      <td>player2 - Latéral droit</td>\n",
       "      <td>0</td>\n",
       "      <td>...</td>\n",
       "      <td>0</td>\n",
       "      <td>0</td>\n",
       "      <td>0</td>\n",
       "      <td>0</td>\n",
       "      <td>0</td>\n",
       "      <td>0</td>\n",
       "      <td>0</td>\n",
       "      <td>1</td>\n",
       "      <td>0</td>\n",
       "      <td>Yes</td>\n",
       "    </tr>\n",
       "    <tr>\n",
       "      <th>106</th>\n",
       "      <td>long</td>\n",
       "      <td>1</td>\n",
       "      <td>2</td>\n",
       "      <td>1</td>\n",
       "      <td>0</td>\n",
       "      <td>4</td>\n",
       "      <td>5</td>\n",
       "      <td>&lt;</td>\n",
       "      <td>player2 - Latéral droit</td>\n",
       "      <td>1</td>\n",
       "      <td>...</td>\n",
       "      <td>0</td>\n",
       "      <td>1</td>\n",
       "      <td>0</td>\n",
       "      <td>0</td>\n",
       "      <td>0</td>\n",
       "      <td>0</td>\n",
       "      <td>0</td>\n",
       "      <td>0</td>\n",
       "      <td>0</td>\n",
       "      <td>No</td>\n",
       "    </tr>\n",
       "  </tbody>\n",
       "</table>\n",
       "<p>107 rows × 34 columns</p>\n",
       "</div>"
      ],
      "text/plain": [
       "      Duree coup_droit_player_1 coup_droit_player_2 revers_player_1  \\\n",
       "0      long                   1                   1               2   \n",
       "1     short                   2                   2               0   \n",
       "2    middle                   3                   0               0   \n",
       "3    middle                   1                   1               1   \n",
       "4     short                   1                   1               0   \n",
       "..      ...                 ...                 ...             ...   \n",
       "102  middle                   0                   1               2   \n",
       "103  middle                   1                   2               1   \n",
       "104  middle                   3                   1               0   \n",
       "105  middle                   1                   2               0   \n",
       "106    long                   1                   2               1   \n",
       "\n",
       "    revers_player_2 Nb_coups Set Gagnant_ou_pas                   Service  \\\n",
       "0                 3        8   1              >   player2 - Latéral droit   \n",
       "1                 1        5   1              >   player2 - Latéral droit   \n",
       "2                 2        5   1              >  player1 - Latéral gauche   \n",
       "3                 0        3   1              =   player1 - Latéral droit   \n",
       "4                 1        3   1              >   player2 - Latéral droit   \n",
       "..              ...      ...  ..            ...                       ...   \n",
       "102               1        4   5              <   player2 - Latéral droit   \n",
       "103               0        4   5              <   player1 - Latéral droit   \n",
       "104               1        5   5              <   player1 - Latéral droit   \n",
       "105               1        4   5              <   player2 - Latéral droit   \n",
       "106               0        4   5              <   player2 - Latéral droit   \n",
       "\n",
       "    controle_player_1  ... D2_reception D3_envoie D3_reception G1_envoie  \\\n",
       "0                   2  ...            0         0            0         0   \n",
       "1                   1  ...            0         1            0         0   \n",
       "2                   1  ...            0         0            0         0   \n",
       "3                   1  ...            1         0            0         0   \n",
       "4                   0  ...            0         0            0         0   \n",
       "..                ...  ...          ...       ...          ...       ...   \n",
       "102                 0  ...            0         0            1         0   \n",
       "103                 0  ...            0         1            0         0   \n",
       "104                 0  ...            1         0            0         0   \n",
       "105                 0  ...            0         0            0         0   \n",
       "106                 1  ...            0         1            0         0   \n",
       "\n",
       "    G1_reception G2_envoie G2_reception G3_envoie G3_reception Gagnant  \n",
       "0              0         0            0         1            1     Yes  \n",
       "1              0         0            0         1            0     Yes  \n",
       "2              0         0            0         1            1      No  \n",
       "3              0         0            0         0            0      No  \n",
       "4              0         0            0         1            0     Yes  \n",
       "..           ...       ...          ...       ...          ...     ...  \n",
       "102            1         0            0         1            0      No  \n",
       "103            0         0            0         0            0     Yes  \n",
       "104            0         0            0         0            0     Yes  \n",
       "105            0         0            0         1            0     Yes  \n",
       "106            0         0            0         0            0      No  \n",
       "\n",
       "[107 rows x 34 columns]"
      ]
     },
     "execution_count": 12,
     "metadata": {},
     "output_type": "execute_result"
    }
   ],
   "source": [
    "bt_data"
   ]
  },
  {
   "cell_type": "code",
   "execution_count": 14,
   "metadata": {},
   "outputs": [
    {
     "data": {
      "application/vnd.plotly.v1+json": {
       "config": {
        "plotlyServerURL": "https://plot.ly"
       },
       "data": [
        {
         "type": "bar",
         "x": [
          "No",
          "Yes"
         ],
         "xaxis": "x",
         "y": [
          61,
          46
         ],
         "yaxis": "y"
        },
        {
         "type": "bar",
         "x": [
          "No",
          "Yes"
         ],
         "xaxis": "x2",
         "y": [
          2,
          14
         ],
         "yaxis": "y2"
        },
        {
         "type": "bar",
         "x": [
          "No",
          "Yes"
         ],
         "xaxis": "x3",
         "y": [
          0,
          9
         ],
         "yaxis": "y3"
        },
        {
         "type": "bar",
         "x": [
          "No",
          "Yes"
         ],
         "xaxis": "x4",
         "y": [
          4,
          16
         ],
         "yaxis": "y4"
        },
        {
         "type": "bar",
         "x": [
          "No",
          "Yes"
         ],
         "xaxis": "x5",
         "y": [
          3,
          16
         ],
         "yaxis": "y5"
        },
        {
         "type": "bar",
         "x": [
          "No",
          "Yes"
         ],
         "xaxis": "x6",
         "y": [
          8,
          21
         ],
         "yaxis": "y6"
        },
        {
         "type": "bar",
         "x": [
          "No",
          "Yes"
         ],
         "xaxis": "x7",
         "y": [
          21,
          26
         ],
         "yaxis": "y7"
        },
        {
         "type": "bar",
         "x": [
          "No",
          "Yes"
         ],
         "xaxis": "x8",
         "y": [
          32,
          14
         ],
         "yaxis": "y8"
        },
        {
         "type": "bar",
         "x": [
          "No",
          "Yes"
         ],
         "xaxis": "x9",
         "y": [
          3,
          13
         ],
         "yaxis": "y9"
        }
       ],
       "layout": {
        "annotations": [
         {
          "font": {
           "size": 16
          },
          "showarrow": false,
          "text": "Dataset",
          "x": 0.14444444444444446,
          "xanchor": "center",
          "xref": "paper",
          "y": 1,
          "yanchor": "bottom",
          "yref": "paper"
         },
         {
          "font": {
           "size": 16
          },
          "showarrow": false,
          "text": "revers_player_2 = 1 AND <br> revers_player_1 = 0",
          "x": 0.5,
          "xanchor": "center",
          "xref": "paper",
          "y": 1,
          "yanchor": "bottom",
          "yref": "paper"
         },
         {
          "font": {
           "size": 16
          },
          "showarrow": false,
          "text": "M2_reception = 1 AND <br> controle_player_1 = 0",
          "x": 0.8555555555555556,
          "xanchor": "center",
          "xref": "paper",
          "y": 1,
          "yanchor": "bottom",
          "yref": "paper"
         },
         {
          "font": {
           "size": 16
          },
          "showarrow": false,
          "text": "Gagnant_ou_pas = > AND M1_envoie = 0",
          "x": 0.14444444444444446,
          "xanchor": "center",
          "xref": "paper",
          "y": 0.5666666666666667,
          "yanchor": "bottom",
          "yref": "paper"
         },
         {
          "font": {
           "size": 16
          },
          "showarrow": false,
          "text": "revers_player_2 = 1 AND <br> D3_reception = 0",
          "x": 0.5,
          "xanchor": "center",
          "xref": "paper",
          "y": 0.5666666666666667,
          "yanchor": "bottom",
          "yref": "paper"
         },
         {
          "font": {
           "size": 16
          },
          "showarrow": false,
          "text": "revers_player_2 = 1 AND <br> poussette_player_1 = 0",
          "x": 0.8555555555555556,
          "xanchor": "center",
          "xref": "paper",
          "y": 0.5666666666666667,
          "yanchor": "bottom",
          "yref": "paper"
         },
         {
          "font": {
           "size": 16
          },
          "showarrow": false,
          "text": "controle_player_1 = 0",
          "x": 0.14444444444444446,
          "xanchor": "center",
          "xref": "paper",
          "y": 0.13333333333333333,
          "yanchor": "bottom",
          "yref": "paper"
         },
         {
          "font": {
           "size": 16
          },
          "showarrow": false,
          "text": "coup_droit_player_2 = 1",
          "x": 0.5,
          "xanchor": "center",
          "xref": "paper",
          "y": 0.13333333333333333,
          "yanchor": "bottom",
          "yref": "paper"
         },
         {
          "font": {
           "size": 16
          },
          "showarrow": false,
          "text": "revers_player_2 = 1 AND <br> controle_player_1 = 0",
          "x": 0.8555555555555556,
          "xanchor": "center",
          "xref": "paper",
          "y": 0.13333333333333333,
          "yanchor": "bottom",
          "yref": "paper"
         },
         {
          "showarrow": false,
          "text": "Gagnant",
          "x": 0.5,
          "xref": "paper",
          "y": -0.15,
          "yref": "paper"
         },
         {
          "showarrow": false,
          "text": "Frequency count",
          "textangle": -90,
          "x": -0.07,
          "xref": "paper",
          "y": 0.5,
          "yref": "paper"
         }
        ],
        "showlegend": false,
        "template": {
         "data": {
          "bar": [
           {
            "error_x": {
             "color": "#2a3f5f"
            },
            "error_y": {
             "color": "#2a3f5f"
            },
            "marker": {
             "line": {
              "color": "#E5ECF6",
              "width": 0.5
             },
             "pattern": {
              "fillmode": "overlay",
              "size": 10,
              "solidity": 0.2
             }
            },
            "type": "bar"
           }
          ],
          "barpolar": [
           {
            "marker": {
             "line": {
              "color": "#E5ECF6",
              "width": 0.5
             },
             "pattern": {
              "fillmode": "overlay",
              "size": 10,
              "solidity": 0.2
             }
            },
            "type": "barpolar"
           }
          ],
          "carpet": [
           {
            "aaxis": {
             "endlinecolor": "#2a3f5f",
             "gridcolor": "white",
             "linecolor": "white",
             "minorgridcolor": "white",
             "startlinecolor": "#2a3f5f"
            },
            "baxis": {
             "endlinecolor": "#2a3f5f",
             "gridcolor": "white",
             "linecolor": "white",
             "minorgridcolor": "white",
             "startlinecolor": "#2a3f5f"
            },
            "type": "carpet"
           }
          ],
          "choropleth": [
           {
            "colorbar": {
             "outlinewidth": 0,
             "ticks": ""
            },
            "type": "choropleth"
           }
          ],
          "contour": [
           {
            "colorbar": {
             "outlinewidth": 0,
             "ticks": ""
            },
            "colorscale": [
             [
              0,
              "#0d0887"
             ],
             [
              0.1111111111111111,
              "#46039f"
             ],
             [
              0.2222222222222222,
              "#7201a8"
             ],
             [
              0.3333333333333333,
              "#9c179e"
             ],
             [
              0.4444444444444444,
              "#bd3786"
             ],
             [
              0.5555555555555556,
              "#d8576b"
             ],
             [
              0.6666666666666666,
              "#ed7953"
             ],
             [
              0.7777777777777778,
              "#fb9f3a"
             ],
             [
              0.8888888888888888,
              "#fdca26"
             ],
             [
              1,
              "#f0f921"
             ]
            ],
            "type": "contour"
           }
          ],
          "contourcarpet": [
           {
            "colorbar": {
             "outlinewidth": 0,
             "ticks": ""
            },
            "type": "contourcarpet"
           }
          ],
          "heatmap": [
           {
            "colorbar": {
             "outlinewidth": 0,
             "ticks": ""
            },
            "colorscale": [
             [
              0,
              "#0d0887"
             ],
             [
              0.1111111111111111,
              "#46039f"
             ],
             [
              0.2222222222222222,
              "#7201a8"
             ],
             [
              0.3333333333333333,
              "#9c179e"
             ],
             [
              0.4444444444444444,
              "#bd3786"
             ],
             [
              0.5555555555555556,
              "#d8576b"
             ],
             [
              0.6666666666666666,
              "#ed7953"
             ],
             [
              0.7777777777777778,
              "#fb9f3a"
             ],
             [
              0.8888888888888888,
              "#fdca26"
             ],
             [
              1,
              "#f0f921"
             ]
            ],
            "type": "heatmap"
           }
          ],
          "heatmapgl": [
           {
            "colorbar": {
             "outlinewidth": 0,
             "ticks": ""
            },
            "colorscale": [
             [
              0,
              "#0d0887"
             ],
             [
              0.1111111111111111,
              "#46039f"
             ],
             [
              0.2222222222222222,
              "#7201a8"
             ],
             [
              0.3333333333333333,
              "#9c179e"
             ],
             [
              0.4444444444444444,
              "#bd3786"
             ],
             [
              0.5555555555555556,
              "#d8576b"
             ],
             [
              0.6666666666666666,
              "#ed7953"
             ],
             [
              0.7777777777777778,
              "#fb9f3a"
             ],
             [
              0.8888888888888888,
              "#fdca26"
             ],
             [
              1,
              "#f0f921"
             ]
            ],
            "type": "heatmapgl"
           }
          ],
          "histogram": [
           {
            "marker": {
             "pattern": {
              "fillmode": "overlay",
              "size": 10,
              "solidity": 0.2
             }
            },
            "type": "histogram"
           }
          ],
          "histogram2d": [
           {
            "colorbar": {
             "outlinewidth": 0,
             "ticks": ""
            },
            "colorscale": [
             [
              0,
              "#0d0887"
             ],
             [
              0.1111111111111111,
              "#46039f"
             ],
             [
              0.2222222222222222,
              "#7201a8"
             ],
             [
              0.3333333333333333,
              "#9c179e"
             ],
             [
              0.4444444444444444,
              "#bd3786"
             ],
             [
              0.5555555555555556,
              "#d8576b"
             ],
             [
              0.6666666666666666,
              "#ed7953"
             ],
             [
              0.7777777777777778,
              "#fb9f3a"
             ],
             [
              0.8888888888888888,
              "#fdca26"
             ],
             [
              1,
              "#f0f921"
             ]
            ],
            "type": "histogram2d"
           }
          ],
          "histogram2dcontour": [
           {
            "colorbar": {
             "outlinewidth": 0,
             "ticks": ""
            },
            "colorscale": [
             [
              0,
              "#0d0887"
             ],
             [
              0.1111111111111111,
              "#46039f"
             ],
             [
              0.2222222222222222,
              "#7201a8"
             ],
             [
              0.3333333333333333,
              "#9c179e"
             ],
             [
              0.4444444444444444,
              "#bd3786"
             ],
             [
              0.5555555555555556,
              "#d8576b"
             ],
             [
              0.6666666666666666,
              "#ed7953"
             ],
             [
              0.7777777777777778,
              "#fb9f3a"
             ],
             [
              0.8888888888888888,
              "#fdca26"
             ],
             [
              1,
              "#f0f921"
             ]
            ],
            "type": "histogram2dcontour"
           }
          ],
          "mesh3d": [
           {
            "colorbar": {
             "outlinewidth": 0,
             "ticks": ""
            },
            "type": "mesh3d"
           }
          ],
          "parcoords": [
           {
            "line": {
             "colorbar": {
              "outlinewidth": 0,
              "ticks": ""
             }
            },
            "type": "parcoords"
           }
          ],
          "pie": [
           {
            "automargin": true,
            "type": "pie"
           }
          ],
          "scatter": [
           {
            "marker": {
             "colorbar": {
              "outlinewidth": 0,
              "ticks": ""
             }
            },
            "type": "scatter"
           }
          ],
          "scatter3d": [
           {
            "line": {
             "colorbar": {
              "outlinewidth": 0,
              "ticks": ""
             }
            },
            "marker": {
             "colorbar": {
              "outlinewidth": 0,
              "ticks": ""
             }
            },
            "type": "scatter3d"
           }
          ],
          "scattercarpet": [
           {
            "marker": {
             "colorbar": {
              "outlinewidth": 0,
              "ticks": ""
             }
            },
            "type": "scattercarpet"
           }
          ],
          "scattergeo": [
           {
            "marker": {
             "colorbar": {
              "outlinewidth": 0,
              "ticks": ""
             }
            },
            "type": "scattergeo"
           }
          ],
          "scattergl": [
           {
            "marker": {
             "colorbar": {
              "outlinewidth": 0,
              "ticks": ""
             }
            },
            "type": "scattergl"
           }
          ],
          "scattermapbox": [
           {
            "marker": {
             "colorbar": {
              "outlinewidth": 0,
              "ticks": ""
             }
            },
            "type": "scattermapbox"
           }
          ],
          "scatterpolar": [
           {
            "marker": {
             "colorbar": {
              "outlinewidth": 0,
              "ticks": ""
             }
            },
            "type": "scatterpolar"
           }
          ],
          "scatterpolargl": [
           {
            "marker": {
             "colorbar": {
              "outlinewidth": 0,
              "ticks": ""
             }
            },
            "type": "scatterpolargl"
           }
          ],
          "scatterternary": [
           {
            "marker": {
             "colorbar": {
              "outlinewidth": 0,
              "ticks": ""
             }
            },
            "type": "scatterternary"
           }
          ],
          "surface": [
           {
            "colorbar": {
             "outlinewidth": 0,
             "ticks": ""
            },
            "colorscale": [
             [
              0,
              "#0d0887"
             ],
             [
              0.1111111111111111,
              "#46039f"
             ],
             [
              0.2222222222222222,
              "#7201a8"
             ],
             [
              0.3333333333333333,
              "#9c179e"
             ],
             [
              0.4444444444444444,
              "#bd3786"
             ],
             [
              0.5555555555555556,
              "#d8576b"
             ],
             [
              0.6666666666666666,
              "#ed7953"
             ],
             [
              0.7777777777777778,
              "#fb9f3a"
             ],
             [
              0.8888888888888888,
              "#fdca26"
             ],
             [
              1,
              "#f0f921"
             ]
            ],
            "type": "surface"
           }
          ],
          "table": [
           {
            "cells": {
             "fill": {
              "color": "#EBF0F8"
             },
             "line": {
              "color": "white"
             }
            },
            "header": {
             "fill": {
              "color": "#C8D4E3"
             },
             "line": {
              "color": "white"
             }
            },
            "type": "table"
           }
          ]
         },
         "layout": {
          "annotationdefaults": {
           "arrowcolor": "#2a3f5f",
           "arrowhead": 0,
           "arrowwidth": 1
          },
          "autotypenumbers": "strict",
          "coloraxis": {
           "colorbar": {
            "outlinewidth": 0,
            "ticks": ""
           }
          },
          "colorscale": {
           "diverging": [
            [
             0,
             "#8e0152"
            ],
            [
             0.1,
             "#c51b7d"
            ],
            [
             0.2,
             "#de77ae"
            ],
            [
             0.3,
             "#f1b6da"
            ],
            [
             0.4,
             "#fde0ef"
            ],
            [
             0.5,
             "#f7f7f7"
            ],
            [
             0.6,
             "#e6f5d0"
            ],
            [
             0.7,
             "#b8e186"
            ],
            [
             0.8,
             "#7fbc41"
            ],
            [
             0.9,
             "#4d9221"
            ],
            [
             1,
             "#276419"
            ]
           ],
           "sequential": [
            [
             0,
             "#0d0887"
            ],
            [
             0.1111111111111111,
             "#46039f"
            ],
            [
             0.2222222222222222,
             "#7201a8"
            ],
            [
             0.3333333333333333,
             "#9c179e"
            ],
            [
             0.4444444444444444,
             "#bd3786"
            ],
            [
             0.5555555555555556,
             "#d8576b"
            ],
            [
             0.6666666666666666,
             "#ed7953"
            ],
            [
             0.7777777777777778,
             "#fb9f3a"
            ],
            [
             0.8888888888888888,
             "#fdca26"
            ],
            [
             1,
             "#f0f921"
            ]
           ],
           "sequentialminus": [
            [
             0,
             "#0d0887"
            ],
            [
             0.1111111111111111,
             "#46039f"
            ],
            [
             0.2222222222222222,
             "#7201a8"
            ],
            [
             0.3333333333333333,
             "#9c179e"
            ],
            [
             0.4444444444444444,
             "#bd3786"
            ],
            [
             0.5555555555555556,
             "#d8576b"
            ],
            [
             0.6666666666666666,
             "#ed7953"
            ],
            [
             0.7777777777777778,
             "#fb9f3a"
            ],
            [
             0.8888888888888888,
             "#fdca26"
            ],
            [
             1,
             "#f0f921"
            ]
           ]
          },
          "colorway": [
           "#636efa",
           "#EF553B",
           "#00cc96",
           "#ab63fa",
           "#FFA15A",
           "#19d3f3",
           "#FF6692",
           "#B6E880",
           "#FF97FF",
           "#FECB52"
          ],
          "font": {
           "color": "#2a3f5f"
          },
          "geo": {
           "bgcolor": "white",
           "lakecolor": "white",
           "landcolor": "#E5ECF6",
           "showlakes": true,
           "showland": true,
           "subunitcolor": "white"
          },
          "hoverlabel": {
           "align": "left"
          },
          "hovermode": "closest",
          "mapbox": {
           "style": "light"
          },
          "paper_bgcolor": "white",
          "plot_bgcolor": "#E5ECF6",
          "polar": {
           "angularaxis": {
            "gridcolor": "white",
            "linecolor": "white",
            "ticks": ""
           },
           "bgcolor": "#E5ECF6",
           "radialaxis": {
            "gridcolor": "white",
            "linecolor": "white",
            "ticks": ""
           }
          },
          "scene": {
           "xaxis": {
            "backgroundcolor": "#E5ECF6",
            "gridcolor": "white",
            "gridwidth": 2,
            "linecolor": "white",
            "showbackground": true,
            "ticks": "",
            "zerolinecolor": "white"
           },
           "yaxis": {
            "backgroundcolor": "#E5ECF6",
            "gridcolor": "white",
            "gridwidth": 2,
            "linecolor": "white",
            "showbackground": true,
            "ticks": "",
            "zerolinecolor": "white"
           },
           "zaxis": {
            "backgroundcolor": "#E5ECF6",
            "gridcolor": "white",
            "gridwidth": 2,
            "linecolor": "white",
            "showbackground": true,
            "ticks": "",
            "zerolinecolor": "white"
           }
          },
          "shapedefaults": {
           "line": {
            "color": "#2a3f5f"
           }
          },
          "ternary": {
           "aaxis": {
            "gridcolor": "white",
            "linecolor": "white",
            "ticks": ""
           },
           "baxis": {
            "gridcolor": "white",
            "linecolor": "white",
            "ticks": ""
           },
           "bgcolor": "#E5ECF6",
           "caxis": {
            "gridcolor": "white",
            "linecolor": "white",
            "ticks": ""
           }
          },
          "title": {
           "x": 0.05
          },
          "xaxis": {
           "automargin": true,
           "gridcolor": "white",
           "linecolor": "white",
           "ticks": "",
           "title": {
            "standoff": 15
           },
           "zerolinecolor": "white",
           "zerolinewidth": 2
          },
          "yaxis": {
           "automargin": true,
           "gridcolor": "white",
           "linecolor": "white",
           "ticks": "",
           "title": {
            "standoff": 15
           },
           "zerolinecolor": "white",
           "zerolinewidth": 2
          }
         }
        },
        "xaxis": {
         "anchor": "y",
         "autorange": true,
         "domain": [
          0,
          0.2888888888888889
         ],
         "range": [
          -0.5,
          1.5
         ],
         "type": "category"
        },
        "xaxis2": {
         "anchor": "y2",
         "autorange": true,
         "domain": [
          0.35555555555555557,
          0.6444444444444445
         ],
         "range": [
          -0.5,
          1.5
         ],
         "type": "category"
        },
        "xaxis3": {
         "anchor": "y3",
         "autorange": true,
         "domain": [
          0.7111111111111111,
          1
         ],
         "range": [
          -0.5,
          1.5
         ],
         "type": "category"
        },
        "xaxis4": {
         "anchor": "y4",
         "autorange": true,
         "domain": [
          0,
          0.2888888888888889
         ],
         "range": [
          -0.5,
          1.5
         ],
         "type": "category"
        },
        "xaxis5": {
         "anchor": "y5",
         "autorange": true,
         "domain": [
          0.35555555555555557,
          0.6444444444444445
         ],
         "range": [
          -0.5,
          1.5
         ],
         "type": "category"
        },
        "xaxis6": {
         "anchor": "y6",
         "autorange": true,
         "domain": [
          0.7111111111111111,
          1
         ],
         "range": [
          -0.5,
          1.5
         ],
         "type": "category"
        },
        "xaxis7": {
         "anchor": "y7",
         "autorange": true,
         "domain": [
          0,
          0.2888888888888889
         ],
         "range": [
          -0.5,
          1.5
         ],
         "type": "category"
        },
        "xaxis8": {
         "anchor": "y8",
         "autorange": true,
         "domain": [
          0.35555555555555557,
          0.6444444444444445
         ],
         "range": [
          -0.5,
          1.5
         ],
         "type": "category"
        },
        "xaxis9": {
         "anchor": "y9",
         "autorange": true,
         "domain": [
          0.7111111111111111,
          1
         ],
         "range": [
          -0.5,
          1.5
         ],
         "type": "category"
        },
        "yaxis": {
         "anchor": "x",
         "autorange": true,
         "domain": [
          0.8666666666666667,
          1
         ],
         "range": [
          0,
          64.21052631578948
         ],
         "type": "linear"
        },
        "yaxis2": {
         "anchor": "x2",
         "autorange": true,
         "domain": [
          0.8666666666666667,
          1
         ],
         "range": [
          0,
          14.736842105263158
         ],
         "type": "linear"
        },
        "yaxis3": {
         "anchor": "x3",
         "autorange": true,
         "domain": [
          0.8666666666666667,
          1
         ],
         "range": [
          0,
          9.473684210526315
         ],
         "type": "linear"
        },
        "yaxis4": {
         "anchor": "x4",
         "autorange": true,
         "domain": [
          0.43333333333333335,
          0.5666666666666667
         ],
         "range": [
          0,
          16.842105263157894
         ],
         "type": "linear"
        },
        "yaxis5": {
         "anchor": "x5",
         "autorange": true,
         "domain": [
          0.43333333333333335,
          0.5666666666666667
         ],
         "range": [
          0,
          16.842105263157894
         ],
         "type": "linear"
        },
        "yaxis6": {
         "anchor": "x6",
         "autorange": true,
         "domain": [
          0.43333333333333335,
          0.5666666666666667
         ],
         "range": [
          0,
          22.105263157894736
         ],
         "type": "linear"
        },
        "yaxis7": {
         "anchor": "x7",
         "autorange": true,
         "domain": [
          0,
          0.13333333333333333
         ],
         "range": [
          0,
          27.36842105263158
         ],
         "type": "linear"
        },
        "yaxis8": {
         "anchor": "x8",
         "autorange": true,
         "domain": [
          0,
          0.13333333333333333
         ],
         "range": [
          0,
          33.68421052631579
         ],
         "type": "linear"
        },
        "yaxis9": {
         "anchor": "x9",
         "autorange": true,
         "domain": [
          0,
          0.13333333333333333
         ],
         "range": [
          0,
          13.68421052631579
         ],
         "type": "linear"
        }
       }
      },
      "text/html": [
       "<div>                            <div id=\"23346d5e-b33d-4c1e-ad24-d297b1ea9521\" class=\"plotly-graph-div\" style=\"height:525px; width:100%;\"></div>            <script type=\"text/javascript\">                require([\"plotly\"], function(Plotly) {                    window.PLOTLYENV=window.PLOTLYENV || {};                                    if (document.getElementById(\"23346d5e-b33d-4c1e-ad24-d297b1ea9521\")) {                    Plotly.newPlot(                        \"23346d5e-b33d-4c1e-ad24-d297b1ea9521\",                        [{\"x\":[\"No\",\"Yes\"],\"y\":[61,46],\"type\":\"bar\",\"xaxis\":\"x\",\"yaxis\":\"y\"},{\"x\":[\"No\",\"Yes\"],\"y\":[2,14],\"type\":\"bar\",\"xaxis\":\"x2\",\"yaxis\":\"y2\"},{\"x\":[\"No\",\"Yes\"],\"y\":[0,9],\"type\":\"bar\",\"xaxis\":\"x3\",\"yaxis\":\"y3\"},{\"x\":[\"No\",\"Yes\"],\"y\":[4,16],\"type\":\"bar\",\"xaxis\":\"x4\",\"yaxis\":\"y4\"},{\"x\":[\"No\",\"Yes\"],\"y\":[3,16],\"type\":\"bar\",\"xaxis\":\"x5\",\"yaxis\":\"y5\"},{\"x\":[\"No\",\"Yes\"],\"y\":[8,21],\"type\":\"bar\",\"xaxis\":\"x6\",\"yaxis\":\"y6\"},{\"x\":[\"No\",\"Yes\"],\"y\":[21,26],\"type\":\"bar\",\"xaxis\":\"x7\",\"yaxis\":\"y7\"},{\"x\":[\"No\",\"Yes\"],\"y\":[32,14],\"type\":\"bar\",\"xaxis\":\"x8\",\"yaxis\":\"y8\"},{\"x\":[\"No\",\"Yes\"],\"y\":[3,13],\"type\":\"bar\",\"xaxis\":\"x9\",\"yaxis\":\"y9\"}],                        {\"template\":{\"data\":{\"bar\":[{\"error_x\":{\"color\":\"#2a3f5f\"},\"error_y\":{\"color\":\"#2a3f5f\"},\"marker\":{\"line\":{\"color\":\"#E5ECF6\",\"width\":0.5},\"pattern\":{\"fillmode\":\"overlay\",\"size\":10,\"solidity\":0.2}},\"type\":\"bar\"}],\"barpolar\":[{\"marker\":{\"line\":{\"color\":\"#E5ECF6\",\"width\":0.5},\"pattern\":{\"fillmode\":\"overlay\",\"size\":10,\"solidity\":0.2}},\"type\":\"barpolar\"}],\"carpet\":[{\"aaxis\":{\"endlinecolor\":\"#2a3f5f\",\"gridcolor\":\"white\",\"linecolor\":\"white\",\"minorgridcolor\":\"white\",\"startlinecolor\":\"#2a3f5f\"},\"baxis\":{\"endlinecolor\":\"#2a3f5f\",\"gridcolor\":\"white\",\"linecolor\":\"white\",\"minorgridcolor\":\"white\",\"startlinecolor\":\"#2a3f5f\"},\"type\":\"carpet\"}],\"choropleth\":[{\"colorbar\":{\"outlinewidth\":0,\"ticks\":\"\"},\"type\":\"choropleth\"}],\"contour\":[{\"colorbar\":{\"outlinewidth\":0,\"ticks\":\"\"},\"colorscale\":[[0.0,\"#0d0887\"],[0.1111111111111111,\"#46039f\"],[0.2222222222222222,\"#7201a8\"],[0.3333333333333333,\"#9c179e\"],[0.4444444444444444,\"#bd3786\"],[0.5555555555555556,\"#d8576b\"],[0.6666666666666666,\"#ed7953\"],[0.7777777777777778,\"#fb9f3a\"],[0.8888888888888888,\"#fdca26\"],[1.0,\"#f0f921\"]],\"type\":\"contour\"}],\"contourcarpet\":[{\"colorbar\":{\"outlinewidth\":0,\"ticks\":\"\"},\"type\":\"contourcarpet\"}],\"heatmap\":[{\"colorbar\":{\"outlinewidth\":0,\"ticks\":\"\"},\"colorscale\":[[0.0,\"#0d0887\"],[0.1111111111111111,\"#46039f\"],[0.2222222222222222,\"#7201a8\"],[0.3333333333333333,\"#9c179e\"],[0.4444444444444444,\"#bd3786\"],[0.5555555555555556,\"#d8576b\"],[0.6666666666666666,\"#ed7953\"],[0.7777777777777778,\"#fb9f3a\"],[0.8888888888888888,\"#fdca26\"],[1.0,\"#f0f921\"]],\"type\":\"heatmap\"}],\"heatmapgl\":[{\"colorbar\":{\"outlinewidth\":0,\"ticks\":\"\"},\"colorscale\":[[0.0,\"#0d0887\"],[0.1111111111111111,\"#46039f\"],[0.2222222222222222,\"#7201a8\"],[0.3333333333333333,\"#9c179e\"],[0.4444444444444444,\"#bd3786\"],[0.5555555555555556,\"#d8576b\"],[0.6666666666666666,\"#ed7953\"],[0.7777777777777778,\"#fb9f3a\"],[0.8888888888888888,\"#fdca26\"],[1.0,\"#f0f921\"]],\"type\":\"heatmapgl\"}],\"histogram\":[{\"marker\":{\"pattern\":{\"fillmode\":\"overlay\",\"size\":10,\"solidity\":0.2}},\"type\":\"histogram\"}],\"histogram2d\":[{\"colorbar\":{\"outlinewidth\":0,\"ticks\":\"\"},\"colorscale\":[[0.0,\"#0d0887\"],[0.1111111111111111,\"#46039f\"],[0.2222222222222222,\"#7201a8\"],[0.3333333333333333,\"#9c179e\"],[0.4444444444444444,\"#bd3786\"],[0.5555555555555556,\"#d8576b\"],[0.6666666666666666,\"#ed7953\"],[0.7777777777777778,\"#fb9f3a\"],[0.8888888888888888,\"#fdca26\"],[1.0,\"#f0f921\"]],\"type\":\"histogram2d\"}],\"histogram2dcontour\":[{\"colorbar\":{\"outlinewidth\":0,\"ticks\":\"\"},\"colorscale\":[[0.0,\"#0d0887\"],[0.1111111111111111,\"#46039f\"],[0.2222222222222222,\"#7201a8\"],[0.3333333333333333,\"#9c179e\"],[0.4444444444444444,\"#bd3786\"],[0.5555555555555556,\"#d8576b\"],[0.6666666666666666,\"#ed7953\"],[0.7777777777777778,\"#fb9f3a\"],[0.8888888888888888,\"#fdca26\"],[1.0,\"#f0f921\"]],\"type\":\"histogram2dcontour\"}],\"mesh3d\":[{\"colorbar\":{\"outlinewidth\":0,\"ticks\":\"\"},\"type\":\"mesh3d\"}],\"parcoords\":[{\"line\":{\"colorbar\":{\"outlinewidth\":0,\"ticks\":\"\"}},\"type\":\"parcoords\"}],\"pie\":[{\"automargin\":true,\"type\":\"pie\"}],\"scatter\":[{\"marker\":{\"colorbar\":{\"outlinewidth\":0,\"ticks\":\"\"}},\"type\":\"scatter\"}],\"scatter3d\":[{\"line\":{\"colorbar\":{\"outlinewidth\":0,\"ticks\":\"\"}},\"marker\":{\"colorbar\":{\"outlinewidth\":0,\"ticks\":\"\"}},\"type\":\"scatter3d\"}],\"scattercarpet\":[{\"marker\":{\"colorbar\":{\"outlinewidth\":0,\"ticks\":\"\"}},\"type\":\"scattercarpet\"}],\"scattergeo\":[{\"marker\":{\"colorbar\":{\"outlinewidth\":0,\"ticks\":\"\"}},\"type\":\"scattergeo\"}],\"scattergl\":[{\"marker\":{\"colorbar\":{\"outlinewidth\":0,\"ticks\":\"\"}},\"type\":\"scattergl\"}],\"scattermapbox\":[{\"marker\":{\"colorbar\":{\"outlinewidth\":0,\"ticks\":\"\"}},\"type\":\"scattermapbox\"}],\"scatterpolar\":[{\"marker\":{\"colorbar\":{\"outlinewidth\":0,\"ticks\":\"\"}},\"type\":\"scatterpolar\"}],\"scatterpolargl\":[{\"marker\":{\"colorbar\":{\"outlinewidth\":0,\"ticks\":\"\"}},\"type\":\"scatterpolargl\"}],\"scatterternary\":[{\"marker\":{\"colorbar\":{\"outlinewidth\":0,\"ticks\":\"\"}},\"type\":\"scatterternary\"}],\"surface\":[{\"colorbar\":{\"outlinewidth\":0,\"ticks\":\"\"},\"colorscale\":[[0.0,\"#0d0887\"],[0.1111111111111111,\"#46039f\"],[0.2222222222222222,\"#7201a8\"],[0.3333333333333333,\"#9c179e\"],[0.4444444444444444,\"#bd3786\"],[0.5555555555555556,\"#d8576b\"],[0.6666666666666666,\"#ed7953\"],[0.7777777777777778,\"#fb9f3a\"],[0.8888888888888888,\"#fdca26\"],[1.0,\"#f0f921\"]],\"type\":\"surface\"}],\"table\":[{\"cells\":{\"fill\":{\"color\":\"#EBF0F8\"},\"line\":{\"color\":\"white\"}},\"header\":{\"fill\":{\"color\":\"#C8D4E3\"},\"line\":{\"color\":\"white\"}},\"type\":\"table\"}]},\"layout\":{\"annotationdefaults\":{\"arrowcolor\":\"#2a3f5f\",\"arrowhead\":0,\"arrowwidth\":1},\"autotypenumbers\":\"strict\",\"coloraxis\":{\"colorbar\":{\"outlinewidth\":0,\"ticks\":\"\"}},\"colorscale\":{\"diverging\":[[0,\"#8e0152\"],[0.1,\"#c51b7d\"],[0.2,\"#de77ae\"],[0.3,\"#f1b6da\"],[0.4,\"#fde0ef\"],[0.5,\"#f7f7f7\"],[0.6,\"#e6f5d0\"],[0.7,\"#b8e186\"],[0.8,\"#7fbc41\"],[0.9,\"#4d9221\"],[1,\"#276419\"]],\"sequential\":[[0.0,\"#0d0887\"],[0.1111111111111111,\"#46039f\"],[0.2222222222222222,\"#7201a8\"],[0.3333333333333333,\"#9c179e\"],[0.4444444444444444,\"#bd3786\"],[0.5555555555555556,\"#d8576b\"],[0.6666666666666666,\"#ed7953\"],[0.7777777777777778,\"#fb9f3a\"],[0.8888888888888888,\"#fdca26\"],[1.0,\"#f0f921\"]],\"sequentialminus\":[[0.0,\"#0d0887\"],[0.1111111111111111,\"#46039f\"],[0.2222222222222222,\"#7201a8\"],[0.3333333333333333,\"#9c179e\"],[0.4444444444444444,\"#bd3786\"],[0.5555555555555556,\"#d8576b\"],[0.6666666666666666,\"#ed7953\"],[0.7777777777777778,\"#fb9f3a\"],[0.8888888888888888,\"#fdca26\"],[1.0,\"#f0f921\"]]},\"colorway\":[\"#636efa\",\"#EF553B\",\"#00cc96\",\"#ab63fa\",\"#FFA15A\",\"#19d3f3\",\"#FF6692\",\"#B6E880\",\"#FF97FF\",\"#FECB52\"],\"font\":{\"color\":\"#2a3f5f\"},\"geo\":{\"bgcolor\":\"white\",\"lakecolor\":\"white\",\"landcolor\":\"#E5ECF6\",\"showlakes\":true,\"showland\":true,\"subunitcolor\":\"white\"},\"hoverlabel\":{\"align\":\"left\"},\"hovermode\":\"closest\",\"mapbox\":{\"style\":\"light\"},\"paper_bgcolor\":\"white\",\"plot_bgcolor\":\"#E5ECF6\",\"polar\":{\"angularaxis\":{\"gridcolor\":\"white\",\"linecolor\":\"white\",\"ticks\":\"\"},\"bgcolor\":\"#E5ECF6\",\"radialaxis\":{\"gridcolor\":\"white\",\"linecolor\":\"white\",\"ticks\":\"\"}},\"scene\":{\"xaxis\":{\"backgroundcolor\":\"#E5ECF6\",\"gridcolor\":\"white\",\"gridwidth\":2,\"linecolor\":\"white\",\"showbackground\":true,\"ticks\":\"\",\"zerolinecolor\":\"white\"},\"yaxis\":{\"backgroundcolor\":\"#E5ECF6\",\"gridcolor\":\"white\",\"gridwidth\":2,\"linecolor\":\"white\",\"showbackground\":true,\"ticks\":\"\",\"zerolinecolor\":\"white\"},\"zaxis\":{\"backgroundcolor\":\"#E5ECF6\",\"gridcolor\":\"white\",\"gridwidth\":2,\"linecolor\":\"white\",\"showbackground\":true,\"ticks\":\"\",\"zerolinecolor\":\"white\"}},\"shapedefaults\":{\"line\":{\"color\":\"#2a3f5f\"}},\"ternary\":{\"aaxis\":{\"gridcolor\":\"white\",\"linecolor\":\"white\",\"ticks\":\"\"},\"baxis\":{\"gridcolor\":\"white\",\"linecolor\":\"white\",\"ticks\":\"\"},\"bgcolor\":\"#E5ECF6\",\"caxis\":{\"gridcolor\":\"white\",\"linecolor\":\"white\",\"ticks\":\"\"}},\"title\":{\"x\":0.05},\"xaxis\":{\"automargin\":true,\"gridcolor\":\"white\",\"linecolor\":\"white\",\"ticks\":\"\",\"title\":{\"standoff\":15},\"zerolinecolor\":\"white\",\"zerolinewidth\":2},\"yaxis\":{\"automargin\":true,\"gridcolor\":\"white\",\"linecolor\":\"white\",\"ticks\":\"\",\"title\":{\"standoff\":15},\"zerolinecolor\":\"white\",\"zerolinewidth\":2}}},\"xaxis\":{\"anchor\":\"y\",\"domain\":[0.0,0.2888888888888889]},\"yaxis\":{\"anchor\":\"x\",\"domain\":[0.8666666666666667,1.0]},\"xaxis2\":{\"anchor\":\"y2\",\"domain\":[0.35555555555555557,0.6444444444444445]},\"yaxis2\":{\"anchor\":\"x2\",\"domain\":[0.8666666666666667,1.0]},\"xaxis3\":{\"anchor\":\"y3\",\"domain\":[0.7111111111111111,1.0]},\"yaxis3\":{\"anchor\":\"x3\",\"domain\":[0.8666666666666667,1.0]},\"xaxis4\":{\"anchor\":\"y4\",\"domain\":[0.0,0.2888888888888889]},\"yaxis4\":{\"anchor\":\"x4\",\"domain\":[0.43333333333333335,0.5666666666666667]},\"xaxis5\":{\"anchor\":\"y5\",\"domain\":[0.35555555555555557,0.6444444444444445]},\"yaxis5\":{\"anchor\":\"x5\",\"domain\":[0.43333333333333335,0.5666666666666667]},\"xaxis6\":{\"anchor\":\"y6\",\"domain\":[0.7111111111111111,1.0]},\"yaxis6\":{\"anchor\":\"x6\",\"domain\":[0.43333333333333335,0.5666666666666667]},\"xaxis7\":{\"anchor\":\"y7\",\"domain\":[0.0,0.2888888888888889]},\"yaxis7\":{\"anchor\":\"x7\",\"domain\":[0.0,0.13333333333333333]},\"xaxis8\":{\"anchor\":\"y8\",\"domain\":[0.35555555555555557,0.6444444444444445]},\"yaxis8\":{\"anchor\":\"x8\",\"domain\":[0.0,0.13333333333333333]},\"xaxis9\":{\"anchor\":\"y9\",\"domain\":[0.7111111111111111,1.0]},\"yaxis9\":{\"anchor\":\"x9\",\"domain\":[0.0,0.13333333333333333]},\"annotations\":[{\"font\":{\"size\":16},\"showarrow\":false,\"text\":\"Dataset\",\"x\":0.14444444444444446,\"xanchor\":\"center\",\"xref\":\"paper\",\"y\":1.0,\"yanchor\":\"bottom\",\"yref\":\"paper\"},{\"font\":{\"size\":16},\"showarrow\":false,\"text\":\"revers_player_2 = 1 AND <br> revers_player_1 = 0\",\"x\":0.5,\"xanchor\":\"center\",\"xref\":\"paper\",\"y\":1.0,\"yanchor\":\"bottom\",\"yref\":\"paper\"},{\"font\":{\"size\":16},\"showarrow\":false,\"text\":\"M2_reception = 1 AND <br> controle_player_1 = 0\",\"x\":0.8555555555555556,\"xanchor\":\"center\",\"xref\":\"paper\",\"y\":1.0,\"yanchor\":\"bottom\",\"yref\":\"paper\"},{\"font\":{\"size\":16},\"showarrow\":false,\"text\":\"Gagnant_ou_pas = > AND M1_envoie = 0\",\"x\":0.14444444444444446,\"xanchor\":\"center\",\"xref\":\"paper\",\"y\":0.5666666666666667,\"yanchor\":\"bottom\",\"yref\":\"paper\"},{\"font\":{\"size\":16},\"showarrow\":false,\"text\":\"revers_player_2 = 1 AND <br> D3_reception = 0\",\"x\":0.5,\"xanchor\":\"center\",\"xref\":\"paper\",\"y\":0.5666666666666667,\"yanchor\":\"bottom\",\"yref\":\"paper\"},{\"font\":{\"size\":16},\"showarrow\":false,\"text\":\"revers_player_2 = 1 AND <br> poussette_player_1 = 0\",\"x\":0.8555555555555556,\"xanchor\":\"center\",\"xref\":\"paper\",\"y\":0.5666666666666667,\"yanchor\":\"bottom\",\"yref\":\"paper\"},{\"font\":{\"size\":16},\"showarrow\":false,\"text\":\"controle_player_1 = 0\",\"x\":0.14444444444444446,\"xanchor\":\"center\",\"xref\":\"paper\",\"y\":0.13333333333333333,\"yanchor\":\"bottom\",\"yref\":\"paper\"},{\"font\":{\"size\":16},\"showarrow\":false,\"text\":\"coup_droit_player_2 = 1\",\"x\":0.5,\"xanchor\":\"center\",\"xref\":\"paper\",\"y\":0.13333333333333333,\"yanchor\":\"bottom\",\"yref\":\"paper\"},{\"font\":{\"size\":16},\"showarrow\":false,\"text\":\"revers_player_2 = 1 AND <br> controle_player_1 = 0\",\"x\":0.8555555555555556,\"xanchor\":\"center\",\"xref\":\"paper\",\"y\":0.13333333333333333,\"yanchor\":\"bottom\",\"yref\":\"paper\"},{\"showarrow\":false,\"text\":\"Gagnant\",\"x\":0.5,\"xref\":\"paper\",\"y\":-0.15,\"yref\":\"paper\"},{\"showarrow\":false,\"text\":\"Frequency count\",\"textangle\":-90,\"x\":-0.07,\"xref\":\"paper\",\"y\":0.5,\"yref\":\"paper\"}],\"showlegend\":false},                        {\"responsive\": true}                    ).then(function(){\n",
       "                            \n",
       "var gd = document.getElementById('23346d5e-b33d-4c1e-ad24-d297b1ea9521');\n",
       "var x = new MutationObserver(function (mutations, observer) {{\n",
       "        var display = window.getComputedStyle(gd).display;\n",
       "        if (!display || display === 'none') {{\n",
       "            console.log([gd, 'removed!']);\n",
       "            Plotly.purge(gd);\n",
       "            observer.disconnect();\n",
       "        }}\n",
       "}});\n",
       "\n",
       "// Listen for the removal of the full notebook cells\n",
       "var notebookContainer = gd.closest('#notebook-container');\n",
       "if (notebookContainer) {{\n",
       "    x.observe(notebookContainer, {childList: true});\n",
       "}}\n",
       "\n",
       "// Listen for the clearing of the current output cell\n",
       "var outputEl = gd.closest('.output');\n",
       "if (outputEl) {{\n",
       "    x.observe(outputEl, {childList: true});\n",
       "}}\n",
       "\n",
       "                        })                };                });            </script>        </div>"
      ]
     },
     "metadata": {},
     "output_type": "display_data"
    }
   ],
   "source": [
    "target_columns = ['Gagnant']\n",
    "clf = emm.EMM(width=10, depth=2, evaluation_metric='distribution_cosine')\n",
    "clf.search(bt_data, target_cols=target_columns)\n",
    "clf.visualise(subgroups=8, cols=3)"
   ]
  },
  {
   "cell_type": "markdown",
   "metadata": {},
   "source": [
    "#### En cas d'absence des plots (raison inconnue) les voir au lien suivant : https://drive.google.com/drive/folders/1-dbeIrw8IB_7k0rzqxPlRlqS412ePRaw?usp=sharing\n"
   ]
  },
  {
   "cell_type": "markdown",
   "metadata": {},
   "source": [
    "Le joueur __B__ a gagné __46__ points sur __107__ joués.\n",
    "\n",
    "1. Si l'adversaire a joué un coup de revers et que __B__ ne joue aucun coup de revers, __B__ a des fortes chances de gagner le point (14 points gagnés sur 16);\n",
    "2. Si __B__ reçoie sur __M2__ une fois lors du point et qu'il effectue jamais un coup de type \"contrôle\", il a des fortes chances de gagner le point (9 points gagnés sur 9);\n",
    "3. Si __B__ est en train de gagner le set et que il envoie jamais sur __M1__, il a des fortes chances de gagner le point (16 points gagnés sur 20);\n",
    "4. Si l'adversaire joue une fois de revers et qu'il envoie jamais sur __D3__ pendant le point, __B__ a des fortes chances de gagner le point (16 points gagnés sur 19);\n",
    "5. Si pendant un point l'adversaire joue un seul coup de revers et que __B__ ne joue jamais avec un coup de type \"poussette\",le joueur __B__ a des bonnes chances de remporter le point (21 points gagnés sur 29);\n",
    "\n",
    "\n",
    "#### Considérations sur l'algoritmhe _EMM_\n",
    "\n",
    "D'un point de vue technique, l'implémentation n'est pas facile, le package étant pauvre en documentation. Pour en comprendre certains aspects, nous avons dû aller regarder le code source, notamment pour savoir le nombre de targets nécessaire par chaque métrique (important pour appliquer une stratégie plutôt qu'une autre) ou encore le type que les colonnes sont censées avoir (type: <u>object</u>).\n",
    "\n",
    "En dehors de ça, on peut vraiment remarquer que, comme l'algorithme fait une _recherche excpetionnelle de motifs_; pour le joueur __F__ il nous propose uniquement des motifs dans lesquels il perd des points, alors qu'on sait _a priori_ qu'il est le joueur qui a remporté le plus de points et qui a gagné la partie. Viceversa, en considérant le joueur __B__, il nous retourne que des motifs pour lesquels il gagne des points.\n",
    "\n",
    "La métrique utilisée, _distribution cosine_ permet d'évaluer la similarité d'objets en regardant leur taille."
   ]
  },
  {
   "cell_type": "markdown",
   "metadata": {},
   "source": [
    "## 3 Analyse des points gagné par les joueurs B et F séparemment, avec Pysubgroup."
   ]
  },
  {
   "cell_type": "markdown",
   "metadata": {},
   "source": [
    "## Chargement des données :\n"
   ]
  },
  {
   "cell_type": "code",
   "execution_count": 16,
   "metadata": {},
   "outputs": [],
   "source": [
    "import pandas as pd\n",
    "import numpy as np\n",
    "import pysubgroup as ps"
   ]
  },
  {
   "cell_type": "code",
   "execution_count": 24,
   "metadata": {},
   "outputs": [
    {
     "data": {
      "text/html": [
       "<div>\n",
       "<style scoped>\n",
       "    .dataframe tbody tr th:only-of-type {\n",
       "        vertical-align: middle;\n",
       "    }\n",
       "\n",
       "    .dataframe tbody tr th {\n",
       "        vertical-align: top;\n",
       "    }\n",
       "\n",
       "    .dataframe thead th {\n",
       "        text-align: right;\n",
       "    }\n",
       "</style>\n",
       "<table border=\"1\" class=\"dataframe\">\n",
       "  <thead>\n",
       "    <tr style=\"text-align: right;\">\n",
       "      <th></th>\n",
       "      <th>Nom</th>\n",
       "      <th>Position</th>\n",
       "      <th>Durée</th>\n",
       "      <th>Genre</th>\n",
       "      <th>Latéralité</th>\n",
       "      <th>Set</th>\n",
       "      <th>Système</th>\n",
       "      <th>Coup</th>\n",
       "      <th>Nbre de coups par point</th>\n",
       "      <th>Durée du point</th>\n",
       "      <th>Score</th>\n",
       "      <th>Points F</th>\n",
       "      <th>Points B</th>\n",
       "      <th>Type de service</th>\n",
       "      <th>Type Coup TK</th>\n",
       "      <th>Zone de jeu</th>\n",
       "    </tr>\n",
       "  </thead>\n",
       "  <tbody>\n",
       "    <tr>\n",
       "      <th>0</th>\n",
       "      <td>SET (1)</td>\n",
       "      <td>0:00:00.000</td>\n",
       "      <td>0:00:00.000</td>\n",
       "      <td>Garçons</td>\n",
       "      <td>Droitier/gaucher</td>\n",
       "      <td>1</td>\n",
       "      <td>Att/att</td>\n",
       "      <td>NaN</td>\n",
       "      <td>NaN</td>\n",
       "      <td>NaN</td>\n",
       "      <td>NaN</td>\n",
       "      <td>NaN</td>\n",
       "      <td>NaN</td>\n",
       "      <td>NaN</td>\n",
       "      <td>NaN</td>\n",
       "      <td>NaN</td>\n",
       "    </tr>\n",
       "    <tr>\n",
       "      <th>1</th>\n",
       "      <td>F.T. (1)</td>\n",
       "      <td>0:00:00.000</td>\n",
       "      <td>0:00:00.000</td>\n",
       "      <td>Garçons</td>\n",
       "      <td>Coup droit</td>\n",
       "      <td>SET</td>\n",
       "      <td>Att/att</td>\n",
       "      <td>F.T.</td>\n",
       "      <td>NaN</td>\n",
       "      <td>NaN</td>\n",
       "      <td>NaN</td>\n",
       "      <td>NaN</td>\n",
       "      <td>NaN</td>\n",
       "      <td>Latéral droit</td>\n",
       "      <td>NaN</td>\n",
       "      <td>NaN</td>\n",
       "    </tr>\n",
       "    <tr>\n",
       "      <th>2</th>\n",
       "      <td>B.T. (1)</td>\n",
       "      <td>0:00:00.266</td>\n",
       "      <td>0:00:00.417</td>\n",
       "      <td>Garçons</td>\n",
       "      <td>Revers</td>\n",
       "      <td>SET</td>\n",
       "      <td>Att/att</td>\n",
       "      <td>B.T.</td>\n",
       "      <td>NaN</td>\n",
       "      <td>NaN</td>\n",
       "      <td>NaN</td>\n",
       "      <td>NaN</td>\n",
       "      <td>NaN</td>\n",
       "      <td>NaN</td>\n",
       "      <td>Controle / Résistance</td>\n",
       "      <td>M2</td>\n",
       "    </tr>\n",
       "    <tr>\n",
       "      <th>3</th>\n",
       "      <td>F.T. (2)</td>\n",
       "      <td>0:00:00.684</td>\n",
       "      <td>0:00:00.350</td>\n",
       "      <td>Garçons</td>\n",
       "      <td>Revers</td>\n",
       "      <td>SET</td>\n",
       "      <td>Att/att</td>\n",
       "      <td>F.T.</td>\n",
       "      <td>NaN</td>\n",
       "      <td>NaN</td>\n",
       "      <td>NaN</td>\n",
       "      <td>NaN</td>\n",
       "      <td>NaN</td>\n",
       "      <td>NaN</td>\n",
       "      <td>Attaque / Offensif</td>\n",
       "      <td>M3</td>\n",
       "    </tr>\n",
       "    <tr>\n",
       "      <th>4</th>\n",
       "      <td>B.T. (2)</td>\n",
       "      <td>0:00:01.034</td>\n",
       "      <td>0:00:00.333</td>\n",
       "      <td>Garçons</td>\n",
       "      <td>Revers</td>\n",
       "      <td>SET</td>\n",
       "      <td>Att/att</td>\n",
       "      <td>B.T.</td>\n",
       "      <td>NaN</td>\n",
       "      <td>NaN</td>\n",
       "      <td>NaN</td>\n",
       "      <td>NaN</td>\n",
       "      <td>NaN</td>\n",
       "      <td>NaN</td>\n",
       "      <td>Controle / Résistance</td>\n",
       "      <td>M3</td>\n",
       "    </tr>\n",
       "  </tbody>\n",
       "</table>\n",
       "</div>"
      ],
      "text/plain": [
       "        Nom     Position        Durée    Genre        Latéralité  Set  \\\n",
       "0   SET (1)  0:00:00.000  0:00:00.000  Garçons  Droitier/gaucher    1   \n",
       "1  F.T. (1)  0:00:00.000  0:00:00.000  Garçons        Coup droit  SET   \n",
       "2  B.T. (1)  0:00:00.266  0:00:00.417  Garçons            Revers  SET   \n",
       "3  F.T. (2)  0:00:00.684  0:00:00.350  Garçons            Revers  SET   \n",
       "4  B.T. (2)  0:00:01.034  0:00:00.333  Garçons            Revers  SET   \n",
       "\n",
       "   Système  Coup  Nbre de coups par point  Durée du point Score  Points F  \\\n",
       "0  Att/att   NaN                      NaN             NaN   NaN       NaN   \n",
       "1  Att/att  F.T.                      NaN             NaN   NaN       NaN   \n",
       "2  Att/att  B.T.                      NaN             NaN   NaN       NaN   \n",
       "3  Att/att  F.T.                      NaN             NaN   NaN       NaN   \n",
       "4  Att/att  B.T.                      NaN             NaN   NaN       NaN   \n",
       "\n",
       "   Points B Type de service           Type Coup TK Zone de jeu  \n",
       "0       NaN             NaN                    NaN         NaN  \n",
       "1       NaN   Latéral droit                    NaN         NaN  \n",
       "2       NaN             NaN  Controle / Résistance          M2  \n",
       "3       NaN             NaN     Attaque / Offensif          M3  \n",
       "4       NaN             NaN  Controle / Résistance          M3  "
      ]
     },
     "execution_count": 24,
     "metadata": {},
     "output_type": "execute_result"
    }
   ],
   "source": [
    "data = pd.read_csv(\"TT_game.csv\", sep = \",\")\n",
    "data.head()"
   ]
  },
  {
   "cell_type": "code",
   "execution_count": 25,
   "metadata": {},
   "outputs": [],
   "source": [
    "### On enlève les colonnes qui sont inutiles car ayant la même valeur pour tous les coups : Genre et système\n",
    "\n",
    "data = data.drop(columns = [\"Genre\", \"Système\"])\n",
    "\n",
    "### On met le numéro du set dans toutes les lignes :\n",
    "\n",
    "for index, row in data.iterrows():\n",
    "    val = row[\"Nom\"]\n",
    "    if val.startswith(\"SET\"):\n",
    "        set_nb = val.split(\"(\")[1][:1]\n",
    "    data.at[index, \"Set\"] = set_nb\n",
    "\n",
    "### On complète les cases vides pour les types de services, de coup, et les zones de jeu :\n",
    "\n",
    "data.loc[data[\"Type de service\"].isnull(), \"Type de service\"] = \"non\"\n",
    "data.loc[data[\"Type Coup TK\"].isnull(), \"Type Coup TK\"] = \"service\"\n",
    "data.loc[data[\"Zone de jeu\"].isnull(), \"Zone de jeu\"] = \"aucune\"\n",
    "\n",
    "### On complète les données des scores individuels des joueurs :¶\n",
    "\n",
    "Na_or_Not = data[\"Points B\"].isna()\n",
    "set_nb = 0\n",
    "for index in range(data.shape[0]):\n",
    "    if Na_or_Not[index] :\n",
    "        data.at[index, \"Points B\"] = set_nb\n",
    "    else : \n",
    "        set_nb = data.at[index, \"Points B\"]\n",
    "        \n",
    "Na_or_Not = data[\"Points F\"].isna()\n",
    "set_nb = 0\n",
    "for index in range(data.shape[0]):\n",
    "    if Na_or_Not[index] :\n",
    "        data.at[index, \"Points F\"] = set_nb\n",
    "    else : \n",
    "        set_nb = data.at[index, \"Points F\"]\n",
    "        \n",
    "### On encode les valeurs de scores :¶\n",
    "        \n",
    "Na_or_Not = data[\"Score\"].isna()\n",
    "set_score = \"0 - 0\"\n",
    "for index in range(data.shape[0]):\n",
    "    if Na_or_Not[index] :\n",
    "        data.at[index, \"Score\"] = set_score\n",
    "    else : \n",
    "        set_score = f\"{data['Points F'][index]} - {data['Points B'][index]}\"\n",
    "        \n",
    "### On compte les coups des échanges :\n",
    "\n",
    "c = 0\n",
    "for index, row in data.iterrows():\n",
    "    if (row[\"Coup\"] != \"F.T.\") and (row[\"Coup\"] != \"B.T.\"):\n",
    "        c = 0\n",
    "        data.at[index, \"Nbre de coups par point\"] = c\n",
    "    else:\n",
    "        c += 1\n",
    "        data.at[index, \"Nbre de coups par point\"] = c\n",
    "data[\"Nbre de coups par point\"] = pd.to_numeric(data[\"Nbre de coups par point\"]).astype(int) \n",
    "\n",
    "### Correction des valeurs temporelles :\n",
    "\n",
    "data['Position'] = pd.to_timedelta(data['Position'])\n",
    "data['Durée'] = pd.to_timedelta(data['Durée'])\n",
    "data['Durée du point'] = pd.to_timedelta(data['Durée du point'])\n",
    "\n",
    "data[\"Position\"] = (data[\"Position\"] / np.timedelta64(10**9,'ns')).astype(float)\n",
    "data[\"Durée\"] = (data[\"Durée\"] / np.timedelta64(10**9,'ns')).astype(float)\n",
    "data.drop(columns = [\"Durée du point\"])\n",
    "data.head()\n",
    "\n",
    "### On enlève les SET (X) qui sont inintéressant car ne sont pas des coups : \n",
    "\n",
    "data.replace(to_replace = r\"^SET.*$\", value = \"nan\", inplace = True, regex = True)\n",
    "rem = []\n",
    "for index, row in data.iterrows() :\n",
    "    if row[\"Nom\"] == \"nan\" :\n",
    "        rem.append(index)\n",
    "\n",
    "data.drop(index = rem, axis = 0, inplace = True)\n",
    "data.reset_index(inplace = True, drop = True)\n",
    "\n",
    "### On enlève encode la victoire ou défaite de chaque joueur par des 1 et 0 respectivements pour tous les sets :\n",
    "\n",
    "victory_F = []\n",
    "victory_B = []\n",
    "iter_cond = [\"Serveur Point -\", \"Serveur Point +\"]\n",
    "\n",
    "for index, row in data.iterrows():\n",
    "    if row[\"Type Coup TK\"] == \"service\" :\n",
    "        service = row[\"Nom\"]\n",
    "    if row[\"Coup\"] in iter_cond :\n",
    "        if service.startswith(\"F\") and row[\"Coup\"] == \"Serveur Point +\":\n",
    "            victory_F += np.repeat(1, data.at[index-1, \"Nbre de coups par point\"] + 1).tolist()\n",
    "            victory_B += np.repeat(0, data.at[index-1, \"Nbre de coups par point\"] + 1).tolist()\n",
    "        elif service.startswith(\"B\") and row[\"Coup\"] == \"Serveur Point -\":\n",
    "            victory_F += np.repeat(1, data.at[index-1, \"Nbre de coups par point\"] + 1).tolist()\n",
    "            victory_B += np.repeat(0, data.at[index-1, \"Nbre de coups par point\"] + 1).tolist()\n",
    "        else :\n",
    "            victory_F += np.repeat(0, data.at[index-1, \"Nbre de coups par point\"] + 1).tolist()\n",
    "            victory_B += np.repeat(1, data.at[index-1, \"Nbre de coups par point\"] + 1).tolist()\n",
    "            \n",
    "data[\"Victory F\"] = victory_F\n",
    "data[\"Victory B\"] = victory_B\n",
    "\n",
    "df = data\n",
    "\n",
    "df.drop(columns = [\"Nom\", \"Durée\", \"Position\", \"Durée du point\", \"Set\"], inplace = True)"
   ]
  },
  {
   "cell_type": "code",
   "execution_count": 26,
   "metadata": {},
   "outputs": [
    {
     "data": {
      "text/html": [
       "<div>\n",
       "<style scoped>\n",
       "    .dataframe tbody tr th:only-of-type {\n",
       "        vertical-align: middle;\n",
       "    }\n",
       "\n",
       "    .dataframe tbody tr th {\n",
       "        vertical-align: top;\n",
       "    }\n",
       "\n",
       "    .dataframe thead th {\n",
       "        text-align: right;\n",
       "    }\n",
       "</style>\n",
       "<table border=\"1\" class=\"dataframe\">\n",
       "  <thead>\n",
       "    <tr style=\"text-align: right;\">\n",
       "      <th></th>\n",
       "      <th>Latéralité</th>\n",
       "      <th>Coup</th>\n",
       "      <th>Nbre de coups par point</th>\n",
       "      <th>Score</th>\n",
       "      <th>Points F</th>\n",
       "      <th>Points B</th>\n",
       "      <th>Type de service</th>\n",
       "      <th>Type Coup TK</th>\n",
       "      <th>Zone de jeu</th>\n",
       "      <th>Victory F</th>\n",
       "      <th>Victory B</th>\n",
       "    </tr>\n",
       "  </thead>\n",
       "  <tbody>\n",
       "    <tr>\n",
       "      <th>0</th>\n",
       "      <td>Coup droit</td>\n",
       "      <td>F.T.</td>\n",
       "      <td>1</td>\n",
       "      <td>0 - 0</td>\n",
       "      <td>0.0</td>\n",
       "      <td>0.0</td>\n",
       "      <td>Latéral droit</td>\n",
       "      <td>service</td>\n",
       "      <td>aucune</td>\n",
       "      <td>0</td>\n",
       "      <td>1</td>\n",
       "    </tr>\n",
       "    <tr>\n",
       "      <th>1</th>\n",
       "      <td>Revers</td>\n",
       "      <td>B.T.</td>\n",
       "      <td>2</td>\n",
       "      <td>0 - 0</td>\n",
       "      <td>0.0</td>\n",
       "      <td>0.0</td>\n",
       "      <td>non</td>\n",
       "      <td>Controle / Résistance</td>\n",
       "      <td>M2</td>\n",
       "      <td>0</td>\n",
       "      <td>1</td>\n",
       "    </tr>\n",
       "    <tr>\n",
       "      <th>2</th>\n",
       "      <td>Revers</td>\n",
       "      <td>F.T.</td>\n",
       "      <td>3</td>\n",
       "      <td>0 - 0</td>\n",
       "      <td>0.0</td>\n",
       "      <td>0.0</td>\n",
       "      <td>non</td>\n",
       "      <td>Attaque / Offensif</td>\n",
       "      <td>M3</td>\n",
       "      <td>0</td>\n",
       "      <td>1</td>\n",
       "    </tr>\n",
       "    <tr>\n",
       "      <th>3</th>\n",
       "      <td>Revers</td>\n",
       "      <td>B.T.</td>\n",
       "      <td>4</td>\n",
       "      <td>0 - 0</td>\n",
       "      <td>0.0</td>\n",
       "      <td>0.0</td>\n",
       "      <td>non</td>\n",
       "      <td>Controle / Résistance</td>\n",
       "      <td>M3</td>\n",
       "      <td>0</td>\n",
       "      <td>1</td>\n",
       "    </tr>\n",
       "    <tr>\n",
       "      <th>4</th>\n",
       "      <td>Revers</td>\n",
       "      <td>F.T.</td>\n",
       "      <td>5</td>\n",
       "      <td>0 - 0</td>\n",
       "      <td>0.0</td>\n",
       "      <td>0.0</td>\n",
       "      <td>non</td>\n",
       "      <td>Attaque / Offensif</td>\n",
       "      <td>M3</td>\n",
       "      <td>0</td>\n",
       "      <td>1</td>\n",
       "    </tr>\n",
       "  </tbody>\n",
       "</table>\n",
       "</div>"
      ],
      "text/plain": [
       "   Latéralité  Coup  Nbre de coups par point  Score  Points F  Points B  \\\n",
       "0  Coup droit  F.T.                        1  0 - 0       0.0       0.0   \n",
       "1      Revers  B.T.                        2  0 - 0       0.0       0.0   \n",
       "2      Revers  F.T.                        3  0 - 0       0.0       0.0   \n",
       "3      Revers  B.T.                        4  0 - 0       0.0       0.0   \n",
       "4      Revers  F.T.                        5  0 - 0       0.0       0.0   \n",
       "\n",
       "  Type de service           Type Coup TK Zone de jeu  Victory F  Victory B  \n",
       "0   Latéral droit                service      aucune          0          1  \n",
       "1             non  Controle / Résistance          M2          0          1  \n",
       "2             non     Attaque / Offensif          M3          0          1  \n",
       "3             non  Controle / Résistance          M3          0          1  \n",
       "4             non     Attaque / Offensif          M3          0          1  "
      ]
     },
     "execution_count": 26,
     "metadata": {},
     "output_type": "execute_result"
    }
   ],
   "source": [
    "df.head()"
   ]
  },
  {
   "cell_type": "code",
   "execution_count": 27,
   "metadata": {},
   "outputs": [],
   "source": [
    "df.to_csv(\"data.txt\", sep = \" \", index = False) ### tentative d'utiliser PrefixSpan, mais docu absente, pas de commentaire de code"
   ]
  },
  {
   "cell_type": "markdown",
   "metadata": {},
   "source": [
    "Notes sur le jeu de données : il n'y a pas de zone de jeu pour le service jusque ligne 171 (avec index commançant à 0). Chaque joueur sert 2 fois d'affilées qu'il ait gagné le point ou non. La colonne Nom indique le nom du joueur et le numéro de son coup dans la partie : ce numéro se décale au fur et à mesure au fil des services et coups gagnants. "
   ]
  },
  {
   "cell_type": "markdown",
   "metadata": {},
   "source": [
    "#### On analyse les stratégies individuelles des joueurs pour gagner un point :"
   ]
  },
  {
   "cell_type": "code",
   "execution_count": 28,
   "metadata": {},
   "outputs": [
    {
     "data": {
      "text/html": [
       "<div>\n",
       "<style scoped>\n",
       "    .dataframe tbody tr th:only-of-type {\n",
       "        vertical-align: middle;\n",
       "    }\n",
       "\n",
       "    .dataframe tbody tr th {\n",
       "        vertical-align: top;\n",
       "    }\n",
       "\n",
       "    .dataframe thead th {\n",
       "        text-align: right;\n",
       "    }\n",
       "</style>\n",
       "<table border=\"1\" class=\"dataframe\">\n",
       "  <thead>\n",
       "    <tr style=\"text-align: right;\">\n",
       "      <th></th>\n",
       "      <th>Latéralité</th>\n",
       "      <th>Coup</th>\n",
       "      <th>Nbre de coups par point</th>\n",
       "      <th>Score</th>\n",
       "      <th>Points F</th>\n",
       "      <th>Points B</th>\n",
       "      <th>Type de service</th>\n",
       "      <th>Type Coup TK</th>\n",
       "      <th>Zone de jeu</th>\n",
       "      <th>Victory F</th>\n",
       "      <th>Victory B</th>\n",
       "    </tr>\n",
       "  </thead>\n",
       "  <tbody>\n",
       "    <tr>\n",
       "      <th>0</th>\n",
       "      <td>Coup droit</td>\n",
       "      <td>F.T.</td>\n",
       "      <td>1</td>\n",
       "      <td>0 - 0</td>\n",
       "      <td>0.0</td>\n",
       "      <td>0.0</td>\n",
       "      <td>Latéral droit</td>\n",
       "      <td>service</td>\n",
       "      <td>aucune</td>\n",
       "      <td>0</td>\n",
       "      <td>1</td>\n",
       "    </tr>\n",
       "    <tr>\n",
       "      <th>1</th>\n",
       "      <td>Revers</td>\n",
       "      <td>B.T.</td>\n",
       "      <td>2</td>\n",
       "      <td>0 - 0</td>\n",
       "      <td>0.0</td>\n",
       "      <td>0.0</td>\n",
       "      <td>non</td>\n",
       "      <td>Controle / Résistance</td>\n",
       "      <td>M2</td>\n",
       "      <td>0</td>\n",
       "      <td>1</td>\n",
       "    </tr>\n",
       "    <tr>\n",
       "      <th>2</th>\n",
       "      <td>Revers</td>\n",
       "      <td>F.T.</td>\n",
       "      <td>3</td>\n",
       "      <td>0 - 0</td>\n",
       "      <td>0.0</td>\n",
       "      <td>0.0</td>\n",
       "      <td>non</td>\n",
       "      <td>Attaque / Offensif</td>\n",
       "      <td>M3</td>\n",
       "      <td>0</td>\n",
       "      <td>1</td>\n",
       "    </tr>\n",
       "    <tr>\n",
       "      <th>3</th>\n",
       "      <td>Revers</td>\n",
       "      <td>B.T.</td>\n",
       "      <td>4</td>\n",
       "      <td>0 - 0</td>\n",
       "      <td>0.0</td>\n",
       "      <td>0.0</td>\n",
       "      <td>non</td>\n",
       "      <td>Controle / Résistance</td>\n",
       "      <td>M3</td>\n",
       "      <td>0</td>\n",
       "      <td>1</td>\n",
       "    </tr>\n",
       "    <tr>\n",
       "      <th>4</th>\n",
       "      <td>Revers</td>\n",
       "      <td>F.T.</td>\n",
       "      <td>5</td>\n",
       "      <td>0 - 0</td>\n",
       "      <td>0.0</td>\n",
       "      <td>0.0</td>\n",
       "      <td>non</td>\n",
       "      <td>Attaque / Offensif</td>\n",
       "      <td>M3</td>\n",
       "      <td>0</td>\n",
       "      <td>1</td>\n",
       "    </tr>\n",
       "  </tbody>\n",
       "</table>\n",
       "</div>"
      ],
      "text/plain": [
       "   Latéralité  Coup  Nbre de coups par point  Score  Points F  Points B  \\\n",
       "0  Coup droit  F.T.                        1  0 - 0       0.0       0.0   \n",
       "1      Revers  B.T.                        2  0 - 0       0.0       0.0   \n",
       "2      Revers  F.T.                        3  0 - 0       0.0       0.0   \n",
       "3      Revers  B.T.                        4  0 - 0       0.0       0.0   \n",
       "4      Revers  F.T.                        5  0 - 0       0.0       0.0   \n",
       "\n",
       "  Type de service           Type Coup TK Zone de jeu  Victory F  Victory B  \n",
       "0   Latéral droit                service      aucune          0          1  \n",
       "1             non  Controle / Résistance          M2          0          1  \n",
       "2             non     Attaque / Offensif          M3          0          1  \n",
       "3             non  Controle / Résistance          M3          0          1  \n",
       "4             non     Attaque / Offensif          M3          0          1  "
      ]
     },
     "execution_count": 28,
     "metadata": {},
     "output_type": "execute_result"
    }
   ],
   "source": [
    "data.head()"
   ]
  },
  {
   "cell_type": "code",
   "execution_count": 35,
   "metadata": {},
   "outputs": [
    {
     "data": {
      "text/html": [
       "<div>\n",
       "<style scoped>\n",
       "    .dataframe tbody tr th:only-of-type {\n",
       "        vertical-align: middle;\n",
       "    }\n",
       "\n",
       "    .dataframe tbody tr th {\n",
       "        vertical-align: top;\n",
       "    }\n",
       "\n",
       "    .dataframe thead th {\n",
       "        text-align: right;\n",
       "    }\n",
       "</style>\n",
       "<table border=\"1\" class=\"dataframe\">\n",
       "  <thead>\n",
       "    <tr style=\"text-align: right;\">\n",
       "      <th></th>\n",
       "      <th>quality</th>\n",
       "      <th>subgroup</th>\n",
       "    </tr>\n",
       "  </thead>\n",
       "  <tbody>\n",
       "    <tr>\n",
       "      <th>0</th>\n",
       "      <td>0.037033</td>\n",
       "      <td>Points F: [5.0:9.0[</td>\n",
       "    </tr>\n",
       "    <tr>\n",
       "      <th>1</th>\n",
       "      <td>0.025571</td>\n",
       "      <td>Latéralité=='Coup droit' AND Points F: [5.0:9.0[</td>\n",
       "    </tr>\n",
       "    <tr>\n",
       "      <th>2</th>\n",
       "      <td>0.022566</td>\n",
       "      <td>Points B: [4.0:5.0[</td>\n",
       "    </tr>\n",
       "    <tr>\n",
       "      <th>3</th>\n",
       "      <td>0.022200</td>\n",
       "      <td>Points B: [2.0:4.0[</td>\n",
       "    </tr>\n",
       "    <tr>\n",
       "      <th>4</th>\n",
       "      <td>0.022053</td>\n",
       "      <td>Latéralité=='Coup droit' AND Nbre de coups par...</td>\n",
       "    </tr>\n",
       "    <tr>\n",
       "      <th>5</th>\n",
       "      <td>0.021702</td>\n",
       "      <td>Points B: [5.0:9.0[ AND Points F: [5.0:9.0[</td>\n",
       "    </tr>\n",
       "    <tr>\n",
       "      <th>6</th>\n",
       "      <td>0.021695</td>\n",
       "      <td>Type de service=='non' AND Zone de jeu=='M1'</td>\n",
       "    </tr>\n",
       "    <tr>\n",
       "      <th>7</th>\n",
       "      <td>0.021521</td>\n",
       "      <td>Nbre de coups par point: [1:3[ AND Points F: [...</td>\n",
       "    </tr>\n",
       "    <tr>\n",
       "      <th>8</th>\n",
       "      <td>0.020801</td>\n",
       "      <td>Points F: [5.0:9.0[ AND Type de service=='non'</td>\n",
       "    </tr>\n",
       "    <tr>\n",
       "      <th>9</th>\n",
       "      <td>0.019399</td>\n",
       "      <td>Zone de jeu=='M1'</td>\n",
       "    </tr>\n",
       "  </tbody>\n",
       "</table>\n",
       "</div>"
      ],
      "text/plain": [
       "    quality                                           subgroup\n",
       "0  0.037033                                Points F: [5.0:9.0[\n",
       "1  0.025571   Latéralité=='Coup droit' AND Points F: [5.0:9.0[\n",
       "2  0.022566                                Points B: [4.0:5.0[\n",
       "3  0.022200                                Points B: [2.0:4.0[\n",
       "4  0.022053  Latéralité=='Coup droit' AND Nbre de coups par...\n",
       "5  0.021702        Points B: [5.0:9.0[ AND Points F: [5.0:9.0[\n",
       "6  0.021695       Type de service=='non' AND Zone de jeu=='M1'\n",
       "7  0.021521  Nbre de coups par point: [1:3[ AND Points F: [...\n",
       "8  0.020801     Points F: [5.0:9.0[ AND Type de service=='non'\n",
       "9  0.019399                                  Zone de jeu=='M1'"
      ]
     },
     "execution_count": 35,
     "metadata": {},
     "output_type": "execute_result"
    }
   ],
   "source": [
    "target = ps.BinaryTarget('Victory F', True)\n",
    "searchspace = ps.create_selectors(data, ignore=['Victory B', 'Victory F', 'Coup'])\n",
    "task = ps.SubgroupDiscoveryTask(\n",
    "    data, \n",
    "    target, \n",
    "    searchspace, \n",
    "    result_set_size=10, \n",
    "    depth=3, \n",
    "    qf=ps.WRAccQF())\n",
    "result = ps.BeamSearch().execute(task)\n",
    "\n",
    "result.to_dataframe()[[\"quality\", \"subgroup\"]]"
   ]
  },
  {
   "cell_type": "markdown",
   "metadata": {},
   "source": [
    "Il semble que le joueur F gagne les sets quand il a entre 5 et 9 points. F favorise les coups droits. On trouve aussi 2 fois la mention du nombre de coups entre 1 et 3 : il semble que le joueur F gagne plus souvent lorsque les points sont rapides. Le fait que F gagne quand il ne sert pas revient aussi 2 fois."
   ]
  },
  {
   "cell_type": "code",
   "execution_count": 36,
   "metadata": {},
   "outputs": [
    {
     "data": {
      "text/html": [
       "<div>\n",
       "<style scoped>\n",
       "    .dataframe tbody tr th:only-of-type {\n",
       "        vertical-align: middle;\n",
       "    }\n",
       "\n",
       "    .dataframe tbody tr th {\n",
       "        vertical-align: top;\n",
       "    }\n",
       "\n",
       "    .dataframe thead th {\n",
       "        text-align: right;\n",
       "    }\n",
       "</style>\n",
       "<table border=\"1\" class=\"dataframe\">\n",
       "  <thead>\n",
       "    <tr style=\"text-align: right;\">\n",
       "      <th></th>\n",
       "      <th>quality</th>\n",
       "      <th>subgroup</th>\n",
       "    </tr>\n",
       "  </thead>\n",
       "  <tbody>\n",
       "    <tr>\n",
       "      <th>0</th>\n",
       "      <td>0.029858</td>\n",
       "      <td>Points F: [9.0:10.0[</td>\n",
       "    </tr>\n",
       "    <tr>\n",
       "      <th>1</th>\n",
       "      <td>0.025620</td>\n",
       "      <td>Latéralité=='Coup droit' AND Type Coup TK=='Co...</td>\n",
       "    </tr>\n",
       "    <tr>\n",
       "      <th>2</th>\n",
       "      <td>0.025620</td>\n",
       "      <td>Latéralité=='Coup droit' AND Type Coup TK=='Co...</td>\n",
       "    </tr>\n",
       "    <tr>\n",
       "      <th>3</th>\n",
       "      <td>0.022792</td>\n",
       "      <td>Points F: [9.0:10.0[ AND Type de service=='non'</td>\n",
       "    </tr>\n",
       "    <tr>\n",
       "      <th>4</th>\n",
       "      <td>0.022781</td>\n",
       "      <td>Points B&lt;2.0 AND Points F: [3.0:5.0[</td>\n",
       "    </tr>\n",
       "    <tr>\n",
       "      <th>5</th>\n",
       "      <td>0.022611</td>\n",
       "      <td>Latéralité=='Coup droit' AND Points F: [9.0:10.0[</td>\n",
       "    </tr>\n",
       "    <tr>\n",
       "      <th>6</th>\n",
       "      <td>0.019248</td>\n",
       "      <td>Points B&gt;=9.0 AND Points F: [9.0:10.0[</td>\n",
       "    </tr>\n",
       "    <tr>\n",
       "      <th>7</th>\n",
       "      <td>0.018543</td>\n",
       "      <td>Points B&lt;2.0 AND Points F: [3.0:5.0[ AND Type ...</td>\n",
       "    </tr>\n",
       "    <tr>\n",
       "      <th>8</th>\n",
       "      <td>0.018366</td>\n",
       "      <td>Latéralité=='Coup droit' AND Points B&lt;2.0 AND ...</td>\n",
       "    </tr>\n",
       "    <tr>\n",
       "      <th>9</th>\n",
       "      <td>0.018011</td>\n",
       "      <td>Score=='3.0 - 1.0'</td>\n",
       "    </tr>\n",
       "  </tbody>\n",
       "</table>\n",
       "</div>"
      ],
      "text/plain": [
       "    quality                                           subgroup\n",
       "0  0.029858                               Points F: [9.0:10.0[\n",
       "1  0.025620  Latéralité=='Coup droit' AND Type Coup TK=='Co...\n",
       "2  0.025620  Latéralité=='Coup droit' AND Type Coup TK=='Co...\n",
       "3  0.022792    Points F: [9.0:10.0[ AND Type de service=='non'\n",
       "4  0.022781               Points B<2.0 AND Points F: [3.0:5.0[\n",
       "5  0.022611  Latéralité=='Coup droit' AND Points F: [9.0:10.0[\n",
       "6  0.019248             Points B>=9.0 AND Points F: [9.0:10.0[\n",
       "7  0.018543  Points B<2.0 AND Points F: [3.0:5.0[ AND Type ...\n",
       "8  0.018366  Latéralité=='Coup droit' AND Points B<2.0 AND ...\n",
       "9  0.018011                                 Score=='3.0 - 1.0'"
      ]
     },
     "execution_count": 36,
     "metadata": {},
     "output_type": "execute_result"
    }
   ],
   "source": [
    "target = ps.BinaryTarget('Victory B', True)\n",
    "searchspace = ps.create_selectors(data, ignore=['Victory B', 'Victory F', 'Coup'])\n",
    "task = ps.SubgroupDiscoveryTask(\n",
    "    data, \n",
    "    target, \n",
    "    searchspace, \n",
    "    result_set_size=10, \n",
    "    depth=3, \n",
    "    qf=ps.WRAccQF())\n",
    "result = ps.BeamSearch().execute(task)\n",
    "\n",
    "result.to_dataframe()[[\"quality\", \"subgroup\"]]"
   ]
  },
  {
   "cell_type": "markdown",
   "metadata": {},
   "source": [
    "Le joueur B gagne quand F est à 9 points, et lorsque F est entre 3 et 5 points. Il favorise les coups droits et a visiblement un préférence pour les coups de contrôle plutôt que pour les coups agressifs."
   ]
  },
  {
   "cell_type": "markdown",
   "metadata": {},
   "source": [
    "En joignant les informations, on peut supposer que F joue plus agressivement, gagnant les points entre le 5ème et le 9ème. Au contraire, B gagne plus en début de set, et lorsque F atteint les 10 points, soit les 2/3, fin du set. Les deux joueurs utilisent les coups droits. Concernant le nombre de coups par points, F gagne lorsque les échangent sont cours (ce qui correspond a une stratégie agressive) et B gagne lorsque les échanges durent, ce qui correspond à un stratégie de contrôle. Les zones de jeux ne font qu'une seule apparition dans les tableaux, il faudra donc ignorer plus de colonnes pour trouver des informations à ce sujet : cependant, n'étant pas apparues avant, l'information qu'on en tirerait serait probablement moins fiable/intéressante."
   ]
  },
  {
   "cell_type": "markdown",
   "metadata": {},
   "source": [
    "## 4 Analyse des séquences de jeu par joueur gagnant un point avec mlxtend"
   ]
  },
  {
   "cell_type": "markdown",
   "metadata": {},
   "source": [
    "#### Import des librairies"
   ]
  },
  {
   "cell_type": "code",
   "execution_count": 23,
   "metadata": {},
   "outputs": [],
   "source": [
    "import pandas as pd\n",
    "import numpy as np\n",
    "from mlxtend.preprocessing import TransactionEncoder\n",
    "from mlxtend.frequent_patterns import apriori\n",
    "from mlxtend.frequent_patterns import association_rules"
   ]
  },
  {
   "cell_type": "markdown",
   "metadata": {},
   "source": [
    "#### Import du jeu de données"
   ]
  },
  {
   "cell_type": "code",
   "execution_count": 2,
   "metadata": {},
   "outputs": [],
   "source": [
    "data = pd.read_csv('TT_game.csv',sep=';')"
   ]
  },
  {
   "cell_type": "markdown",
   "metadata": {},
   "source": [
    "#### Définition des séquences de jeu par point\n",
    "Pour chaque point on enregistre le premier et le dernier échange dans seq"
   ]
  },
  {
   "cell_type": "code",
   "execution_count": 4,
   "metadata": {},
   "outputs": [],
   "source": [
    "seq = []\n",
    "seq.append(0)\n",
    "for i in range(522):\n",
    "    if data[\"Coup\"][i]=='Serveur Point -'or data[\"Coup\"][i]=='Serveur Point +':\n",
    "        seq.append(i)\n",
    "#seq"
   ]
  },
  {
   "cell_type": "markdown",
   "metadata": {},
   "source": [
    "#### On crée une liste d'échanges par joueur qui a gagné le point\n",
    "Le jouer qui gagne un point est celui qui sert et avec Serveur Point + ou celui qui ne sert pas et avec Serveur Point -"
   ]
  },
  {
   "cell_type": "code",
   "execution_count": 5,
   "metadata": {},
   "outputs": [],
   "source": [
    "echangeB = []\n",
    "echangeF = []\n",
    "for i in range(len(seq)-1):\n",
    "    if data[\"Coup\"][seq[i+1]] == 'Serveur Point -' and data[\"Coup\"][seq[i]+1]=='F.T.':\n",
    "        echangeB.append(data.iloc[seq[i]+1:(seq[i+1]+1)])\n",
    "    elif data[\"Coup\"][seq[i+1]] == 'Serveur Point +' and data[\"Coup\"][seq[i]+1]=='B.T.':\n",
    "        echangeB.append(data.iloc[seq[i]+1:(seq[i+1]+1)])\n",
    "    elif data[\"Coup\"][seq[i+1]] == 'Serveur Point +' and data[\"Coup\"][seq[i]+1]=='F.T.':\n",
    "        echangeF.append(data.iloc[seq[i]+1:(seq[i+1]+1)])\n",
    "    elif data[\"Coup\"][seq[i+1]] == 'Serveur Point -' and data[\"Coup\"][seq[i]+1]=='B.T.':\n",
    "        echangeF.append(data.iloc[seq[i]+1:(seq[i+1]+1)])\n"
   ]
  },
  {
   "cell_type": "markdown",
   "metadata": {},
   "source": [
    "Parmi les échanges qui ont amené le joueur B à gagner le point, on extrait les coups du joueur B."
   ]
  },
  {
   "cell_type": "code",
   "execution_count": 7,
   "metadata": {},
   "outputs": [],
   "source": [
    "lstCoupB = []\n",
    "for i in range(len(echangeB)):\n",
    "    lstCoupB.append(echangeB[i][echangeB[i]['Nom'].str.startswith('B.T.')])"
   ]
  },
  {
   "cell_type": "markdown",
   "metadata": {},
   "source": [
    "Parmi les échanges qui ont amené le joueur F à gagner le point, on extrait les coups du joueur F."
   ]
  },
  {
   "cell_type": "code",
   "execution_count": 9,
   "metadata": {},
   "outputs": [],
   "source": [
    "lstCoupF = []\n",
    "for i in range(len(echangeF)):\n",
    "    lstCoupF.append(echangeF[i][echangeF[i]['Nom'].str.startswith('F.T.')])"
   ]
  },
  {
   "cell_type": "markdown",
   "metadata": {},
   "source": [
    "On extrait les zones de jeu par point gagné du joueur B."
   ]
  },
  {
   "cell_type": "code",
   "execution_count": 13,
   "metadata": {},
   "outputs": [],
   "source": [
    "lstZoneB = []\n",
    "for i in range(len(lstCoupB)):\n",
    "    lstZoneB.append(list(lstCoupB[i]['Zone de jeu'].dropna()))"
   ]
  },
  {
   "cell_type": "markdown",
   "metadata": {},
   "source": [
    "On extrait les zones de jeu par point gagné du joueur F."
   ]
  },
  {
   "cell_type": "code",
   "execution_count": 14,
   "metadata": {},
   "outputs": [],
   "source": [
    "lstZoneF = []\n",
    "for i in range(len(lstCoupF)):\n",
    "    lstZoneF.append(list(lstCoupF[i]['Zone de jeu'].dropna()))"
   ]
  },
  {
   "cell_type": "markdown",
   "metadata": {},
   "source": [
    "On extrait les latéralités par point gagné du joueur B."
   ]
  },
  {
   "cell_type": "code",
   "execution_count": 15,
   "metadata": {},
   "outputs": [],
   "source": [
    "lstLateraliteB = []\n",
    "for i in range(len(lstCoupB)):\n",
    "    lstLateraliteB.append(list(lstCoupB[i]['Latéralité'].dropna()))"
   ]
  },
  {
   "cell_type": "markdown",
   "metadata": {},
   "source": [
    "On extrait les latéralités par point gagné du joueur F."
   ]
  },
  {
   "cell_type": "code",
   "execution_count": 16,
   "metadata": {},
   "outputs": [],
   "source": [
    "lstLateraliteF = []\n",
    "for i in range(len(lstCoupF)):\n",
    "    lstLateraliteF.append(list(lstCoupF[i]['Latéralité'].dropna()))"
   ]
  },
  {
   "cell_type": "markdown",
   "metadata": {},
   "source": [
    "On extrait les types de coup par point gagné du joueur B."
   ]
  },
  {
   "cell_type": "code",
   "execution_count": 18,
   "metadata": {},
   "outputs": [],
   "source": [
    "lstAttaqueB = []\n",
    "for i in range(len(lstCoupB)):\n",
    "    lstAttaqueB.append(list(lstCoupB[i]['Type Coup TK'].dropna()))"
   ]
  },
  {
   "cell_type": "markdown",
   "metadata": {},
   "source": [
    "On extrait les types de coup par point gagné du joueur F."
   ]
  },
  {
   "cell_type": "code",
   "execution_count": 19,
   "metadata": {},
   "outputs": [],
   "source": [
    "lstAttaqueF = []\n",
    "for i in range(len(lstCoupF)):\n",
    "    lstAttaqueF.append(list(lstCoupF[i]['Type Coup TK'].dropna()))"
   ]
  },
  {
   "cell_type": "markdown",
   "metadata": {},
   "source": [
    "### Utilisation de mlxtend pour connaître les zones de jeu du joueur B avec les supports maximaux"
   ]
  },
  {
   "cell_type": "code",
   "execution_count": 22,
   "metadata": {},
   "outputs": [
    {
     "data": {
      "text/html": [
       "<div>\n",
       "<style scoped>\n",
       "    .dataframe tbody tr th:only-of-type {\n",
       "        vertical-align: middle;\n",
       "    }\n",
       "\n",
       "    .dataframe tbody tr th {\n",
       "        vertical-align: top;\n",
       "    }\n",
       "\n",
       "    .dataframe thead th {\n",
       "        text-align: right;\n",
       "    }\n",
       "</style>\n",
       "<table border=\"1\" class=\"dataframe\">\n",
       "  <thead>\n",
       "    <tr style=\"text-align: right;\">\n",
       "      <th></th>\n",
       "      <th>support</th>\n",
       "      <th>itemsets</th>\n",
       "    </tr>\n",
       "  </thead>\n",
       "  <tbody>\n",
       "    <tr>\n",
       "      <th>4</th>\n",
       "      <td>0.409091</td>\n",
       "      <td>(M3)</td>\n",
       "    </tr>\n",
       "    <tr>\n",
       "      <th>1</th>\n",
       "      <td>0.386364</td>\n",
       "      <td>(G3)</td>\n",
       "    </tr>\n",
       "    <tr>\n",
       "      <th>0</th>\n",
       "      <td>0.318182</td>\n",
       "      <td>(D3)</td>\n",
       "    </tr>\n",
       "    <tr>\n",
       "      <th>2</th>\n",
       "      <td>0.159091</td>\n",
       "      <td>(M1)</td>\n",
       "    </tr>\n",
       "    <tr>\n",
       "      <th>3</th>\n",
       "      <td>0.159091</td>\n",
       "      <td>(M2)</td>\n",
       "    </tr>\n",
       "    <tr>\n",
       "      <th>5</th>\n",
       "      <td>0.159091</td>\n",
       "      <td>(D3, M3)</td>\n",
       "    </tr>\n",
       "    <tr>\n",
       "      <th>6</th>\n",
       "      <td>0.113636</td>\n",
       "      <td>(G3, M3)</td>\n",
       "    </tr>\n",
       "  </tbody>\n",
       "</table>\n",
       "</div>"
      ],
      "text/plain": [
       "    support  itemsets\n",
       "4  0.409091      (M3)\n",
       "1  0.386364      (G3)\n",
       "0  0.318182      (D3)\n",
       "2  0.159091      (M1)\n",
       "3  0.159091      (M2)\n",
       "5  0.159091  (D3, M3)\n",
       "6  0.113636  (G3, M3)"
      ]
     },
     "execution_count": 22,
     "metadata": {},
     "output_type": "execute_result"
    }
   ],
   "source": [
    "te = TransactionEncoder()\n",
    "te_ary = te.fit(lstZoneB).transform(lstZoneB)\n",
    "df = pd.DataFrame(te_ary, columns=te.columns_)\n",
    "freq_item = apriori(df,0.1,use_colnames=True)\n",
    "freq_item.sort_values('support',ascending = False,inplace=True)\n",
    "freq_item"
   ]
  },
  {
   "cell_type": "markdown",
   "metadata": {},
   "source": [
    "On voit que les zones M3, G3 et D3 sont privilégiées pour la stratégie du joueur B lorsqu'il gagne un point."
   ]
  },
  {
   "cell_type": "markdown",
   "metadata": {},
   "source": [
    "#### Règles d'association pour les zones de jeu du joueur B"
   ]
  },
  {
   "cell_type": "code",
   "execution_count": 25,
   "metadata": {},
   "outputs": [
    {
     "data": {
      "text/html": [
       "<div>\n",
       "<style scoped>\n",
       "    .dataframe tbody tr th:only-of-type {\n",
       "        vertical-align: middle;\n",
       "    }\n",
       "\n",
       "    .dataframe tbody tr th {\n",
       "        vertical-align: top;\n",
       "    }\n",
       "\n",
       "    .dataframe thead th {\n",
       "        text-align: right;\n",
       "    }\n",
       "</style>\n",
       "<table border=\"1\" class=\"dataframe\">\n",
       "  <thead>\n",
       "    <tr style=\"text-align: right;\">\n",
       "      <th></th>\n",
       "      <th>antecedents</th>\n",
       "      <th>consequents</th>\n",
       "      <th>antecedent support</th>\n",
       "      <th>consequent support</th>\n",
       "      <th>support</th>\n",
       "      <th>confidence</th>\n",
       "      <th>lift</th>\n",
       "      <th>leverage</th>\n",
       "      <th>conviction</th>\n",
       "    </tr>\n",
       "  </thead>\n",
       "  <tbody>\n",
       "    <tr>\n",
       "      <th>0</th>\n",
       "      <td>(D3)</td>\n",
       "      <td>(M3)</td>\n",
       "      <td>0.318182</td>\n",
       "      <td>0.409091</td>\n",
       "      <td>0.159091</td>\n",
       "      <td>0.500000</td>\n",
       "      <td>1.222222</td>\n",
       "      <td>0.028926</td>\n",
       "      <td>1.181818</td>\n",
       "    </tr>\n",
       "    <tr>\n",
       "      <th>1</th>\n",
       "      <td>(M3)</td>\n",
       "      <td>(D3)</td>\n",
       "      <td>0.409091</td>\n",
       "      <td>0.318182</td>\n",
       "      <td>0.159091</td>\n",
       "      <td>0.388889</td>\n",
       "      <td>1.222222</td>\n",
       "      <td>0.028926</td>\n",
       "      <td>1.115702</td>\n",
       "    </tr>\n",
       "    <tr>\n",
       "      <th>2</th>\n",
       "      <td>(G3)</td>\n",
       "      <td>(M3)</td>\n",
       "      <td>0.386364</td>\n",
       "      <td>0.409091</td>\n",
       "      <td>0.113636</td>\n",
       "      <td>0.294118</td>\n",
       "      <td>0.718954</td>\n",
       "      <td>-0.044421</td>\n",
       "      <td>0.837121</td>\n",
       "    </tr>\n",
       "    <tr>\n",
       "      <th>3</th>\n",
       "      <td>(M3)</td>\n",
       "      <td>(G3)</td>\n",
       "      <td>0.409091</td>\n",
       "      <td>0.386364</td>\n",
       "      <td>0.113636</td>\n",
       "      <td>0.277778</td>\n",
       "      <td>0.718954</td>\n",
       "      <td>-0.044421</td>\n",
       "      <td>0.849650</td>\n",
       "    </tr>\n",
       "  </tbody>\n",
       "</table>\n",
       "</div>"
      ],
      "text/plain": [
       "  antecedents consequents  antecedent support  consequent support   support  \\\n",
       "0        (D3)        (M3)            0.318182            0.409091  0.159091   \n",
       "1        (M3)        (D3)            0.409091            0.318182  0.159091   \n",
       "2        (G3)        (M3)            0.386364            0.409091  0.113636   \n",
       "3        (M3)        (G3)            0.409091            0.386364  0.113636   \n",
       "\n",
       "   confidence      lift  leverage  conviction  \n",
       "0    0.500000  1.222222  0.028926    1.181818  \n",
       "1    0.388889  1.222222  0.028926    1.115702  \n",
       "2    0.294118  0.718954 -0.044421    0.837121  \n",
       "3    0.277778  0.718954 -0.044421    0.849650  "
      ]
     },
     "execution_count": 25,
     "metadata": {},
     "output_type": "execute_result"
    }
   ],
   "source": [
    "association_rules(freq_item, metric=\"confidence\", min_threshold=0.1)"
   ]
  },
  {
   "cell_type": "markdown",
   "metadata": {},
   "source": [
    "On voit que les enchainements des zones de jeu D3->M3, M3->D3, G3->M3 et M3->G3 sont privilégiés par le joueur B lorsqu'il gagne un point."
   ]
  },
  {
   "cell_type": "markdown",
   "metadata": {},
   "source": [
    "## Utilisation de mlxtend pour connaître les zones de jeu du joueur F avec les supports maximaux"
   ]
  },
  {
   "cell_type": "code",
   "execution_count": 27,
   "metadata": {},
   "outputs": [
    {
     "data": {
      "text/html": [
       "<div>\n",
       "<style scoped>\n",
       "    .dataframe tbody tr th:only-of-type {\n",
       "        vertical-align: middle;\n",
       "    }\n",
       "\n",
       "    .dataframe tbody tr th {\n",
       "        vertical-align: top;\n",
       "    }\n",
       "\n",
       "    .dataframe thead th {\n",
       "        text-align: right;\n",
       "    }\n",
       "</style>\n",
       "<table border=\"1\" class=\"dataframe\">\n",
       "  <thead>\n",
       "    <tr style=\"text-align: right;\">\n",
       "      <th></th>\n",
       "      <th>support</th>\n",
       "      <th>itemsets</th>\n",
       "    </tr>\n",
       "  </thead>\n",
       "  <tbody>\n",
       "    <tr>\n",
       "      <th>2</th>\n",
       "      <td>0.431034</td>\n",
       "      <td>(M1)</td>\n",
       "    </tr>\n",
       "    <tr>\n",
       "      <th>4</th>\n",
       "      <td>0.362069</td>\n",
       "      <td>(M3)</td>\n",
       "    </tr>\n",
       "    <tr>\n",
       "      <th>0</th>\n",
       "      <td>0.310345</td>\n",
       "      <td>(D3)</td>\n",
       "    </tr>\n",
       "    <tr>\n",
       "      <th>1</th>\n",
       "      <td>0.189655</td>\n",
       "      <td>(G3)</td>\n",
       "    </tr>\n",
       "    <tr>\n",
       "      <th>7</th>\n",
       "      <td>0.172414</td>\n",
       "      <td>(M3, M1)</td>\n",
       "    </tr>\n",
       "    <tr>\n",
       "      <th>5</th>\n",
       "      <td>0.137931</td>\n",
       "      <td>(D3, M1)</td>\n",
       "    </tr>\n",
       "    <tr>\n",
       "      <th>6</th>\n",
       "      <td>0.120690</td>\n",
       "      <td>(D3, M3)</td>\n",
       "    </tr>\n",
       "    <tr>\n",
       "      <th>3</th>\n",
       "      <td>0.103448</td>\n",
       "      <td>(M2)</td>\n",
       "    </tr>\n",
       "  </tbody>\n",
       "</table>\n",
       "</div>"
      ],
      "text/plain": [
       "    support  itemsets\n",
       "2  0.431034      (M1)\n",
       "4  0.362069      (M3)\n",
       "0  0.310345      (D3)\n",
       "1  0.189655      (G3)\n",
       "7  0.172414  (M3, M1)\n",
       "5  0.137931  (D3, M1)\n",
       "6  0.120690  (D3, M3)\n",
       "3  0.103448      (M2)"
      ]
     },
     "execution_count": 27,
     "metadata": {},
     "output_type": "execute_result"
    }
   ],
   "source": [
    "te = TransactionEncoder()\n",
    "te_ary = te.fit(lstZoneF).transform(lstZoneF)\n",
    "df = pd.DataFrame(te_ary, columns=te.columns_)\n",
    "freq_item = apriori(df,0.1,use_colnames=True)\n",
    "freq_item.sort_values('support',ascending = False,inplace=True)\n",
    "freq_item"
   ]
  },
  {
   "cell_type": "markdown",
   "metadata": {},
   "source": [
    "On voit que les zones M1, M3 et D3 sont privilégiées pour la stratégie du joueur F lorsqu'il gagne un point."
   ]
  },
  {
   "cell_type": "markdown",
   "metadata": {},
   "source": [
    "#### Règles d'association pour les zones de jeu du joueur F"
   ]
  },
  {
   "cell_type": "code",
   "execution_count": 28,
   "metadata": {},
   "outputs": [
    {
     "data": {
      "text/html": [
       "<div>\n",
       "<style scoped>\n",
       "    .dataframe tbody tr th:only-of-type {\n",
       "        vertical-align: middle;\n",
       "    }\n",
       "\n",
       "    .dataframe tbody tr th {\n",
       "        vertical-align: top;\n",
       "    }\n",
       "\n",
       "    .dataframe thead th {\n",
       "        text-align: right;\n",
       "    }\n",
       "</style>\n",
       "<table border=\"1\" class=\"dataframe\">\n",
       "  <thead>\n",
       "    <tr style=\"text-align: right;\">\n",
       "      <th></th>\n",
       "      <th>antecedents</th>\n",
       "      <th>consequents</th>\n",
       "      <th>antecedent support</th>\n",
       "      <th>consequent support</th>\n",
       "      <th>support</th>\n",
       "      <th>confidence</th>\n",
       "      <th>lift</th>\n",
       "      <th>leverage</th>\n",
       "      <th>conviction</th>\n",
       "    </tr>\n",
       "  </thead>\n",
       "  <tbody>\n",
       "    <tr>\n",
       "      <th>0</th>\n",
       "      <td>(M3)</td>\n",
       "      <td>(M1)</td>\n",
       "      <td>0.362069</td>\n",
       "      <td>0.431034</td>\n",
       "      <td>0.172414</td>\n",
       "      <td>0.476190</td>\n",
       "      <td>1.104762</td>\n",
       "      <td>0.016350</td>\n",
       "      <td>1.086207</td>\n",
       "    </tr>\n",
       "    <tr>\n",
       "      <th>1</th>\n",
       "      <td>(M1)</td>\n",
       "      <td>(M3)</td>\n",
       "      <td>0.431034</td>\n",
       "      <td>0.362069</td>\n",
       "      <td>0.172414</td>\n",
       "      <td>0.400000</td>\n",
       "      <td>1.104762</td>\n",
       "      <td>0.016350</td>\n",
       "      <td>1.063218</td>\n",
       "    </tr>\n",
       "    <tr>\n",
       "      <th>2</th>\n",
       "      <td>(D3)</td>\n",
       "      <td>(M1)</td>\n",
       "      <td>0.310345</td>\n",
       "      <td>0.431034</td>\n",
       "      <td>0.137931</td>\n",
       "      <td>0.444444</td>\n",
       "      <td>1.031111</td>\n",
       "      <td>0.004162</td>\n",
       "      <td>1.024138</td>\n",
       "    </tr>\n",
       "    <tr>\n",
       "      <th>3</th>\n",
       "      <td>(M1)</td>\n",
       "      <td>(D3)</td>\n",
       "      <td>0.431034</td>\n",
       "      <td>0.310345</td>\n",
       "      <td>0.137931</td>\n",
       "      <td>0.320000</td>\n",
       "      <td>1.031111</td>\n",
       "      <td>0.004162</td>\n",
       "      <td>1.014199</td>\n",
       "    </tr>\n",
       "    <tr>\n",
       "      <th>4</th>\n",
       "      <td>(D3)</td>\n",
       "      <td>(M3)</td>\n",
       "      <td>0.310345</td>\n",
       "      <td>0.362069</td>\n",
       "      <td>0.120690</td>\n",
       "      <td>0.388889</td>\n",
       "      <td>1.074074</td>\n",
       "      <td>0.008323</td>\n",
       "      <td>1.043887</td>\n",
       "    </tr>\n",
       "    <tr>\n",
       "      <th>5</th>\n",
       "      <td>(M3)</td>\n",
       "      <td>(D3)</td>\n",
       "      <td>0.362069</td>\n",
       "      <td>0.310345</td>\n",
       "      <td>0.120690</td>\n",
       "      <td>0.333333</td>\n",
       "      <td>1.074074</td>\n",
       "      <td>0.008323</td>\n",
       "      <td>1.034483</td>\n",
       "    </tr>\n",
       "  </tbody>\n",
       "</table>\n",
       "</div>"
      ],
      "text/plain": [
       "  antecedents consequents  antecedent support  consequent support   support  \\\n",
       "0        (M3)        (M1)            0.362069            0.431034  0.172414   \n",
       "1        (M1)        (M3)            0.431034            0.362069  0.172414   \n",
       "2        (D3)        (M1)            0.310345            0.431034  0.137931   \n",
       "3        (M1)        (D3)            0.431034            0.310345  0.137931   \n",
       "4        (D3)        (M3)            0.310345            0.362069  0.120690   \n",
       "5        (M3)        (D3)            0.362069            0.310345  0.120690   \n",
       "\n",
       "   confidence      lift  leverage  conviction  \n",
       "0    0.476190  1.104762  0.016350    1.086207  \n",
       "1    0.400000  1.104762  0.016350    1.063218  \n",
       "2    0.444444  1.031111  0.004162    1.024138  \n",
       "3    0.320000  1.031111  0.004162    1.014199  \n",
       "4    0.388889  1.074074  0.008323    1.043887  \n",
       "5    0.333333  1.074074  0.008323    1.034483  "
      ]
     },
     "execution_count": 28,
     "metadata": {},
     "output_type": "execute_result"
    }
   ],
   "source": [
    "association_rules(freq_item, metric=\"confidence\", min_threshold=0.1)"
   ]
  },
  {
   "cell_type": "markdown",
   "metadata": {},
   "source": [
    "On voit que les enchainements des zones de jeu M3->M1, M1->M3, D3->M1, M1->D3, D3->M3 et M3->D3 sont privilégiés par le joueur F lorsqu'il gagne un point."
   ]
  },
  {
   "cell_type": "markdown",
   "metadata": {},
   "source": [
    "### Utilisation de mlxtend pour connaître les types de coup du joueur B avec les supports maximaux"
   ]
  },
  {
   "cell_type": "code",
   "execution_count": 29,
   "metadata": {},
   "outputs": [
    {
     "data": {
      "text/html": [
       "<div>\n",
       "<style scoped>\n",
       "    .dataframe tbody tr th:only-of-type {\n",
       "        vertical-align: middle;\n",
       "    }\n",
       "\n",
       "    .dataframe tbody tr th {\n",
       "        vertical-align: top;\n",
       "    }\n",
       "\n",
       "    .dataframe thead th {\n",
       "        text-align: right;\n",
       "    }\n",
       "</style>\n",
       "<table border=\"1\" class=\"dataframe\">\n",
       "  <thead>\n",
       "    <tr style=\"text-align: right;\">\n",
       "      <th></th>\n",
       "      <th>support</th>\n",
       "      <th>itemsets</th>\n",
       "    </tr>\n",
       "  </thead>\n",
       "  <tbody>\n",
       "    <tr>\n",
       "      <th>0</th>\n",
       "      <td>0.500000</td>\n",
       "      <td>(Attaque / Offensif)</td>\n",
       "    </tr>\n",
       "    <tr>\n",
       "      <th>1</th>\n",
       "      <td>0.454545</td>\n",
       "      <td>(Controle / Résistance)</td>\n",
       "    </tr>\n",
       "    <tr>\n",
       "      <th>2</th>\n",
       "      <td>0.250000</td>\n",
       "      <td>(Poussette)</td>\n",
       "    </tr>\n",
       "    <tr>\n",
       "      <th>3</th>\n",
       "      <td>0.159091</td>\n",
       "      <td>(Controle / Résistance, Attaque / Offensif)</td>\n",
       "    </tr>\n",
       "  </tbody>\n",
       "</table>\n",
       "</div>"
      ],
      "text/plain": [
       "    support                                     itemsets\n",
       "0  0.500000                         (Attaque / Offensif)\n",
       "1  0.454545                      (Controle / Résistance)\n",
       "2  0.250000                                  (Poussette)\n",
       "3  0.159091  (Controle / Résistance, Attaque / Offensif)"
      ]
     },
     "execution_count": 29,
     "metadata": {},
     "output_type": "execute_result"
    }
   ],
   "source": [
    "te = TransactionEncoder()\n",
    "te_ary = te.fit(lstAttaqueB).transform(lstAttaqueB)\n",
    "df = pd.DataFrame(te_ary, columns=te.columns_)\n",
    "freq_item = apriori(df,0.1,use_colnames=True)\n",
    "freq_item.sort_values('support',ascending = False,inplace=True)\n",
    "freq_item"
   ]
  },
  {
   "cell_type": "markdown",
   "metadata": {},
   "source": [
    "Le joueur B joue plus fréquemment l'attaque et le contrôle lorsqu'il gagne un point."
   ]
  },
  {
   "cell_type": "markdown",
   "metadata": {},
   "source": [
    "#### Règles d'association pour les types de coup du joueur B"
   ]
  },
  {
   "cell_type": "code",
   "execution_count": 30,
   "metadata": {},
   "outputs": [
    {
     "data": {
      "text/html": [
       "<div>\n",
       "<style scoped>\n",
       "    .dataframe tbody tr th:only-of-type {\n",
       "        vertical-align: middle;\n",
       "    }\n",
       "\n",
       "    .dataframe tbody tr th {\n",
       "        vertical-align: top;\n",
       "    }\n",
       "\n",
       "    .dataframe thead th {\n",
       "        text-align: right;\n",
       "    }\n",
       "</style>\n",
       "<table border=\"1\" class=\"dataframe\">\n",
       "  <thead>\n",
       "    <tr style=\"text-align: right;\">\n",
       "      <th></th>\n",
       "      <th>antecedents</th>\n",
       "      <th>consequents</th>\n",
       "      <th>antecedent support</th>\n",
       "      <th>consequent support</th>\n",
       "      <th>support</th>\n",
       "      <th>confidence</th>\n",
       "      <th>lift</th>\n",
       "      <th>leverage</th>\n",
       "      <th>conviction</th>\n",
       "    </tr>\n",
       "  </thead>\n",
       "  <tbody>\n",
       "    <tr>\n",
       "      <th>0</th>\n",
       "      <td>(Controle / Résistance)</td>\n",
       "      <td>(Attaque / Offensif)</td>\n",
       "      <td>0.454545</td>\n",
       "      <td>0.500000</td>\n",
       "      <td>0.159091</td>\n",
       "      <td>0.350000</td>\n",
       "      <td>0.7</td>\n",
       "      <td>-0.068182</td>\n",
       "      <td>0.769231</td>\n",
       "    </tr>\n",
       "    <tr>\n",
       "      <th>1</th>\n",
       "      <td>(Attaque / Offensif)</td>\n",
       "      <td>(Controle / Résistance)</td>\n",
       "      <td>0.500000</td>\n",
       "      <td>0.454545</td>\n",
       "      <td>0.159091</td>\n",
       "      <td>0.318182</td>\n",
       "      <td>0.7</td>\n",
       "      <td>-0.068182</td>\n",
       "      <td>0.800000</td>\n",
       "    </tr>\n",
       "  </tbody>\n",
       "</table>\n",
       "</div>"
      ],
      "text/plain": [
       "               antecedents              consequents  antecedent support  \\\n",
       "0  (Controle / Résistance)     (Attaque / Offensif)            0.454545   \n",
       "1     (Attaque / Offensif)  (Controle / Résistance)            0.500000   \n",
       "\n",
       "   consequent support   support  confidence  lift  leverage  conviction  \n",
       "0            0.500000  0.159091    0.350000   0.7 -0.068182    0.769231  \n",
       "1            0.454545  0.159091    0.318182   0.7 -0.068182    0.800000  "
      ]
     },
     "execution_count": 30,
     "metadata": {},
     "output_type": "execute_result"
    }
   ],
   "source": [
    "association_rules(freq_item, metric=\"confidence\", min_threshold=0.1)"
   ]
  },
  {
   "cell_type": "markdown",
   "metadata": {},
   "source": [
    "Le joueur B aura tendance à faire des enchaînements Contrôle->Attaque, Attaque->Contrôle lorsqu'il gagne un point."
   ]
  },
  {
   "cell_type": "markdown",
   "metadata": {},
   "source": [
    "### Utilisation de mlxtend pour connaître les types de coup du joueur F avec les supports maximaux"
   ]
  },
  {
   "cell_type": "code",
   "execution_count": 31,
   "metadata": {},
   "outputs": [
    {
     "data": {
      "text/html": [
       "<div>\n",
       "<style scoped>\n",
       "    .dataframe tbody tr th:only-of-type {\n",
       "        vertical-align: middle;\n",
       "    }\n",
       "\n",
       "    .dataframe tbody tr th {\n",
       "        vertical-align: top;\n",
       "    }\n",
       "\n",
       "    .dataframe thead th {\n",
       "        text-align: right;\n",
       "    }\n",
       "</style>\n",
       "<table border=\"1\" class=\"dataframe\">\n",
       "  <thead>\n",
       "    <tr style=\"text-align: right;\">\n",
       "      <th></th>\n",
       "      <th>support</th>\n",
       "      <th>itemsets</th>\n",
       "    </tr>\n",
       "  </thead>\n",
       "  <tbody>\n",
       "    <tr>\n",
       "      <th>0</th>\n",
       "      <td>0.534483</td>\n",
       "      <td>(Attaque / Offensif)</td>\n",
       "    </tr>\n",
       "    <tr>\n",
       "      <th>2</th>\n",
       "      <td>0.327586</td>\n",
       "      <td>(Poussette)</td>\n",
       "    </tr>\n",
       "    <tr>\n",
       "      <th>1</th>\n",
       "      <td>0.293103</td>\n",
       "      <td>(Controle / Résistance)</td>\n",
       "    </tr>\n",
       "    <tr>\n",
       "      <th>4</th>\n",
       "      <td>0.172414</td>\n",
       "      <td>(Poussette, Attaque / Offensif)</td>\n",
       "    </tr>\n",
       "    <tr>\n",
       "      <th>3</th>\n",
       "      <td>0.137931</td>\n",
       "      <td>(Controle / Résistance, Attaque / Offensif)</td>\n",
       "    </tr>\n",
       "    <tr>\n",
       "      <th>5</th>\n",
       "      <td>0.103448</td>\n",
       "      <td>(Poussette, Controle / Résistance)</td>\n",
       "    </tr>\n",
       "  </tbody>\n",
       "</table>\n",
       "</div>"
      ],
      "text/plain": [
       "    support                                     itemsets\n",
       "0  0.534483                         (Attaque / Offensif)\n",
       "2  0.327586                                  (Poussette)\n",
       "1  0.293103                      (Controle / Résistance)\n",
       "4  0.172414              (Poussette, Attaque / Offensif)\n",
       "3  0.137931  (Controle / Résistance, Attaque / Offensif)\n",
       "5  0.103448           (Poussette, Controle / Résistance)"
      ]
     },
     "execution_count": 31,
     "metadata": {},
     "output_type": "execute_result"
    }
   ],
   "source": [
    "te = TransactionEncoder()\n",
    "te_ary = te.fit(lstAttaqueF).transform(lstAttaqueF)\n",
    "df = pd.DataFrame(te_ary, columns=te.columns_)\n",
    "freq_item = apriori(df,0.1,use_colnames=True)\n",
    "freq_item.sort_values('support',ascending = False,inplace=True)\n",
    "freq_item"
   ]
  },
  {
   "cell_type": "markdown",
   "metadata": {},
   "source": [
    "Le joueur F joue plus l'attaque et la poussette lorsqu'il gagne un point."
   ]
  },
  {
   "cell_type": "markdown",
   "metadata": {},
   "source": [
    "#### Règles d'association pour les types de coup du joueur F"
   ]
  },
  {
   "cell_type": "code",
   "execution_count": 32,
   "metadata": {},
   "outputs": [
    {
     "data": {
      "text/html": [
       "<div>\n",
       "<style scoped>\n",
       "    .dataframe tbody tr th:only-of-type {\n",
       "        vertical-align: middle;\n",
       "    }\n",
       "\n",
       "    .dataframe tbody tr th {\n",
       "        vertical-align: top;\n",
       "    }\n",
       "\n",
       "    .dataframe thead th {\n",
       "        text-align: right;\n",
       "    }\n",
       "</style>\n",
       "<table border=\"1\" class=\"dataframe\">\n",
       "  <thead>\n",
       "    <tr style=\"text-align: right;\">\n",
       "      <th></th>\n",
       "      <th>antecedents</th>\n",
       "      <th>consequents</th>\n",
       "      <th>antecedent support</th>\n",
       "      <th>consequent support</th>\n",
       "      <th>support</th>\n",
       "      <th>confidence</th>\n",
       "      <th>lift</th>\n",
       "      <th>leverage</th>\n",
       "      <th>conviction</th>\n",
       "    </tr>\n",
       "  </thead>\n",
       "  <tbody>\n",
       "    <tr>\n",
       "      <th>0</th>\n",
       "      <td>(Poussette)</td>\n",
       "      <td>(Attaque / Offensif)</td>\n",
       "      <td>0.327586</td>\n",
       "      <td>0.534483</td>\n",
       "      <td>0.172414</td>\n",
       "      <td>0.526316</td>\n",
       "      <td>0.984720</td>\n",
       "      <td>-0.002675</td>\n",
       "      <td>0.982759</td>\n",
       "    </tr>\n",
       "    <tr>\n",
       "      <th>1</th>\n",
       "      <td>(Attaque / Offensif)</td>\n",
       "      <td>(Poussette)</td>\n",
       "      <td>0.534483</td>\n",
       "      <td>0.327586</td>\n",
       "      <td>0.172414</td>\n",
       "      <td>0.322581</td>\n",
       "      <td>0.984720</td>\n",
       "      <td>-0.002675</td>\n",
       "      <td>0.992611</td>\n",
       "    </tr>\n",
       "    <tr>\n",
       "      <th>2</th>\n",
       "      <td>(Controle / Résistance)</td>\n",
       "      <td>(Attaque / Offensif)</td>\n",
       "      <td>0.293103</td>\n",
       "      <td>0.534483</td>\n",
       "      <td>0.137931</td>\n",
       "      <td>0.470588</td>\n",
       "      <td>0.880455</td>\n",
       "      <td>-0.018728</td>\n",
       "      <td>0.879310</td>\n",
       "    </tr>\n",
       "    <tr>\n",
       "      <th>3</th>\n",
       "      <td>(Attaque / Offensif)</td>\n",
       "      <td>(Controle / Résistance)</td>\n",
       "      <td>0.534483</td>\n",
       "      <td>0.293103</td>\n",
       "      <td>0.137931</td>\n",
       "      <td>0.258065</td>\n",
       "      <td>0.880455</td>\n",
       "      <td>-0.018728</td>\n",
       "      <td>0.952774</td>\n",
       "    </tr>\n",
       "    <tr>\n",
       "      <th>4</th>\n",
       "      <td>(Poussette)</td>\n",
       "      <td>(Controle / Résistance)</td>\n",
       "      <td>0.327586</td>\n",
       "      <td>0.293103</td>\n",
       "      <td>0.103448</td>\n",
       "      <td>0.315789</td>\n",
       "      <td>1.077399</td>\n",
       "      <td>0.007432</td>\n",
       "      <td>1.033156</td>\n",
       "    </tr>\n",
       "    <tr>\n",
       "      <th>5</th>\n",
       "      <td>(Controle / Résistance)</td>\n",
       "      <td>(Poussette)</td>\n",
       "      <td>0.293103</td>\n",
       "      <td>0.327586</td>\n",
       "      <td>0.103448</td>\n",
       "      <td>0.352941</td>\n",
       "      <td>1.077399</td>\n",
       "      <td>0.007432</td>\n",
       "      <td>1.039185</td>\n",
       "    </tr>\n",
       "  </tbody>\n",
       "</table>\n",
       "</div>"
      ],
      "text/plain": [
       "               antecedents              consequents  antecedent support  \\\n",
       "0              (Poussette)     (Attaque / Offensif)            0.327586   \n",
       "1     (Attaque / Offensif)              (Poussette)            0.534483   \n",
       "2  (Controle / Résistance)     (Attaque / Offensif)            0.293103   \n",
       "3     (Attaque / Offensif)  (Controle / Résistance)            0.534483   \n",
       "4              (Poussette)  (Controle / Résistance)            0.327586   \n",
       "5  (Controle / Résistance)              (Poussette)            0.293103   \n",
       "\n",
       "   consequent support   support  confidence      lift  leverage  conviction  \n",
       "0            0.534483  0.172414    0.526316  0.984720 -0.002675    0.982759  \n",
       "1            0.327586  0.172414    0.322581  0.984720 -0.002675    0.992611  \n",
       "2            0.534483  0.137931    0.470588  0.880455 -0.018728    0.879310  \n",
       "3            0.293103  0.137931    0.258065  0.880455 -0.018728    0.952774  \n",
       "4            0.293103  0.103448    0.315789  1.077399  0.007432    1.033156  \n",
       "5            0.327586  0.103448    0.352941  1.077399  0.007432    1.039185  "
      ]
     },
     "execution_count": 32,
     "metadata": {},
     "output_type": "execute_result"
    }
   ],
   "source": [
    "association_rules(freq_item, metric=\"confidence\", min_threshold=0.1)"
   ]
  },
  {
   "cell_type": "markdown",
   "metadata": {},
   "source": [
    "Le joueur F aura plus tendance à faire des enchainements Poussette->Attaque, Attaque->Poussette lorsqu'il gagne un point."
   ]
  },
  {
   "cell_type": "markdown",
   "metadata": {},
   "source": [
    "### Utilisation de mlxtend pour connaître les latéralités du joueur B avec les supports maximaux"
   ]
  },
  {
   "cell_type": "code",
   "execution_count": 34,
   "metadata": {},
   "outputs": [
    {
     "data": {
      "text/html": [
       "<div>\n",
       "<style scoped>\n",
       "    .dataframe tbody tr th:only-of-type {\n",
       "        vertical-align: middle;\n",
       "    }\n",
       "\n",
       "    .dataframe tbody tr th {\n",
       "        vertical-align: top;\n",
       "    }\n",
       "\n",
       "    .dataframe thead th {\n",
       "        text-align: right;\n",
       "    }\n",
       "</style>\n",
       "<table border=\"1\" class=\"dataframe\">\n",
       "  <thead>\n",
       "    <tr style=\"text-align: right;\">\n",
       "      <th></th>\n",
       "      <th>support</th>\n",
       "      <th>itemsets</th>\n",
       "    </tr>\n",
       "  </thead>\n",
       "  <tbody>\n",
       "    <tr>\n",
       "      <th>0</th>\n",
       "      <td>0.909091</td>\n",
       "      <td>(Coup droit)</td>\n",
       "    </tr>\n",
       "    <tr>\n",
       "      <th>1</th>\n",
       "      <td>0.477273</td>\n",
       "      <td>(Revers)</td>\n",
       "    </tr>\n",
       "    <tr>\n",
       "      <th>2</th>\n",
       "      <td>0.386364</td>\n",
       "      <td>(Revers, Coup droit)</td>\n",
       "    </tr>\n",
       "  </tbody>\n",
       "</table>\n",
       "</div>"
      ],
      "text/plain": [
       "    support              itemsets\n",
       "0  0.909091          (Coup droit)\n",
       "1  0.477273              (Revers)\n",
       "2  0.386364  (Revers, Coup droit)"
      ]
     },
     "execution_count": 34,
     "metadata": {},
     "output_type": "execute_result"
    }
   ],
   "source": [
    "te = TransactionEncoder()\n",
    "te_ary = te.fit(lstLateraliteB).transform(lstLateraliteB)\n",
    "df = pd.DataFrame(te_ary, columns=te.columns_)\n",
    "freq_item = apriori(df,0.1,use_colnames=True)\n",
    "freq_item.sort_values('support',ascending = False,inplace=True)\n",
    "freq_item"
   ]
  },
  {
   "cell_type": "markdown",
   "metadata": {},
   "source": [
    "Le joueur B gagne les points en se servant majoritairement du coup droit."
   ]
  },
  {
   "cell_type": "markdown",
   "metadata": {},
   "source": [
    "#### Règles d'association pour les latéralités du joueur B"
   ]
  },
  {
   "cell_type": "code",
   "execution_count": 35,
   "metadata": {},
   "outputs": [
    {
     "data": {
      "text/html": [
       "<div>\n",
       "<style scoped>\n",
       "    .dataframe tbody tr th:only-of-type {\n",
       "        vertical-align: middle;\n",
       "    }\n",
       "\n",
       "    .dataframe tbody tr th {\n",
       "        vertical-align: top;\n",
       "    }\n",
       "\n",
       "    .dataframe thead th {\n",
       "        text-align: right;\n",
       "    }\n",
       "</style>\n",
       "<table border=\"1\" class=\"dataframe\">\n",
       "  <thead>\n",
       "    <tr style=\"text-align: right;\">\n",
       "      <th></th>\n",
       "      <th>antecedents</th>\n",
       "      <th>consequents</th>\n",
       "      <th>antecedent support</th>\n",
       "      <th>consequent support</th>\n",
       "      <th>support</th>\n",
       "      <th>confidence</th>\n",
       "      <th>lift</th>\n",
       "      <th>leverage</th>\n",
       "      <th>conviction</th>\n",
       "    </tr>\n",
       "  </thead>\n",
       "  <tbody>\n",
       "    <tr>\n",
       "      <th>0</th>\n",
       "      <td>(Revers)</td>\n",
       "      <td>(Coup droit)</td>\n",
       "      <td>0.477273</td>\n",
       "      <td>0.909091</td>\n",
       "      <td>0.386364</td>\n",
       "      <td>0.809524</td>\n",
       "      <td>0.890476</td>\n",
       "      <td>-0.047521</td>\n",
       "      <td>0.477273</td>\n",
       "    </tr>\n",
       "    <tr>\n",
       "      <th>1</th>\n",
       "      <td>(Coup droit)</td>\n",
       "      <td>(Revers)</td>\n",
       "      <td>0.909091</td>\n",
       "      <td>0.477273</td>\n",
       "      <td>0.386364</td>\n",
       "      <td>0.425000</td>\n",
       "      <td>0.890476</td>\n",
       "      <td>-0.047521</td>\n",
       "      <td>0.909091</td>\n",
       "    </tr>\n",
       "  </tbody>\n",
       "</table>\n",
       "</div>"
      ],
      "text/plain": [
       "    antecedents   consequents  antecedent support  consequent support  \\\n",
       "0      (Revers)  (Coup droit)            0.477273            0.909091   \n",
       "1  (Coup droit)      (Revers)            0.909091            0.477273   \n",
       "\n",
       "    support  confidence      lift  leverage  conviction  \n",
       "0  0.386364    0.809524  0.890476 -0.047521    0.477273  \n",
       "1  0.386364    0.425000  0.890476 -0.047521    0.909091  "
      ]
     },
     "execution_count": 35,
     "metadata": {},
     "output_type": "execute_result"
    }
   ],
   "source": [
    "association_rules(freq_item, metric=\"confidence\", min_threshold=0.1)"
   ]
  },
  {
   "cell_type": "markdown",
   "metadata": {},
   "source": [
    "### Utilisation de mlxtend pour connaître les latéralités du joueur F avec les supports maximaux"
   ]
  },
  {
   "cell_type": "code",
   "execution_count": 36,
   "metadata": {},
   "outputs": [
    {
     "data": {
      "text/html": [
       "<div>\n",
       "<style scoped>\n",
       "    .dataframe tbody tr th:only-of-type {\n",
       "        vertical-align: middle;\n",
       "    }\n",
       "\n",
       "    .dataframe tbody tr th {\n",
       "        vertical-align: top;\n",
       "    }\n",
       "\n",
       "    .dataframe thead th {\n",
       "        text-align: right;\n",
       "    }\n",
       "</style>\n",
       "<table border=\"1\" class=\"dataframe\">\n",
       "  <thead>\n",
       "    <tr style=\"text-align: right;\">\n",
       "      <th></th>\n",
       "      <th>support</th>\n",
       "      <th>itemsets</th>\n",
       "    </tr>\n",
       "  </thead>\n",
       "  <tbody>\n",
       "    <tr>\n",
       "      <th>0</th>\n",
       "      <td>0.913793</td>\n",
       "      <td>(Coup droit)</td>\n",
       "    </tr>\n",
       "    <tr>\n",
       "      <th>1</th>\n",
       "      <td>0.396552</td>\n",
       "      <td>(Revers)</td>\n",
       "    </tr>\n",
       "    <tr>\n",
       "      <th>2</th>\n",
       "      <td>0.310345</td>\n",
       "      <td>(Revers, Coup droit)</td>\n",
       "    </tr>\n",
       "  </tbody>\n",
       "</table>\n",
       "</div>"
      ],
      "text/plain": [
       "    support              itemsets\n",
       "0  0.913793          (Coup droit)\n",
       "1  0.396552              (Revers)\n",
       "2  0.310345  (Revers, Coup droit)"
      ]
     },
     "execution_count": 36,
     "metadata": {},
     "output_type": "execute_result"
    }
   ],
   "source": [
    "te = TransactionEncoder()\n",
    "te_ary = te.fit(lstLateraliteF).transform(lstLateraliteF)\n",
    "df = pd.DataFrame(te_ary, columns=te.columns_)\n",
    "freq_item = apriori(df,0.1,use_colnames=True)\n",
    "freq_item.sort_values('support',ascending = False,inplace=True)\n",
    "freq_item"
   ]
  },
  {
   "cell_type": "markdown",
   "metadata": {},
   "source": [
    "Le joueur F gagne les points en se servant majoritairement du coup droit."
   ]
  },
  {
   "cell_type": "markdown",
   "metadata": {},
   "source": [
    "#### Règles d'association pour les latéralités du joueur F"
   ]
  },
  {
   "cell_type": "code",
   "execution_count": 37,
   "metadata": {},
   "outputs": [
    {
     "data": {
      "text/html": [
       "<div>\n",
       "<style scoped>\n",
       "    .dataframe tbody tr th:only-of-type {\n",
       "        vertical-align: middle;\n",
       "    }\n",
       "\n",
       "    .dataframe tbody tr th {\n",
       "        vertical-align: top;\n",
       "    }\n",
       "\n",
       "    .dataframe thead th {\n",
       "        text-align: right;\n",
       "    }\n",
       "</style>\n",
       "<table border=\"1\" class=\"dataframe\">\n",
       "  <thead>\n",
       "    <tr style=\"text-align: right;\">\n",
       "      <th></th>\n",
       "      <th>antecedents</th>\n",
       "      <th>consequents</th>\n",
       "      <th>antecedent support</th>\n",
       "      <th>consequent support</th>\n",
       "      <th>support</th>\n",
       "      <th>confidence</th>\n",
       "      <th>lift</th>\n",
       "      <th>leverage</th>\n",
       "      <th>conviction</th>\n",
       "    </tr>\n",
       "  </thead>\n",
       "  <tbody>\n",
       "    <tr>\n",
       "      <th>0</th>\n",
       "      <td>(Revers)</td>\n",
       "      <td>(Coup droit)</td>\n",
       "      <td>0.396552</td>\n",
       "      <td>0.913793</td>\n",
       "      <td>0.310345</td>\n",
       "      <td>0.782609</td>\n",
       "      <td>0.85644</td>\n",
       "      <td>-0.052021</td>\n",
       "      <td>0.396552</td>\n",
       "    </tr>\n",
       "    <tr>\n",
       "      <th>1</th>\n",
       "      <td>(Coup droit)</td>\n",
       "      <td>(Revers)</td>\n",
       "      <td>0.913793</td>\n",
       "      <td>0.396552</td>\n",
       "      <td>0.310345</td>\n",
       "      <td>0.339623</td>\n",
       "      <td>0.85644</td>\n",
       "      <td>-0.052021</td>\n",
       "      <td>0.913793</td>\n",
       "    </tr>\n",
       "  </tbody>\n",
       "</table>\n",
       "</div>"
      ],
      "text/plain": [
       "    antecedents   consequents  antecedent support  consequent support  \\\n",
       "0      (Revers)  (Coup droit)            0.396552            0.913793   \n",
       "1  (Coup droit)      (Revers)            0.913793            0.396552   \n",
       "\n",
       "    support  confidence     lift  leverage  conviction  \n",
       "0  0.310345    0.782609  0.85644 -0.052021    0.396552  \n",
       "1  0.310345    0.339623  0.85644 -0.052021    0.913793  "
      ]
     },
     "execution_count": 37,
     "metadata": {},
     "output_type": "execute_result"
    }
   ],
   "source": [
    "association_rules(freq_item, metric=\"confidence\", min_threshold=0.1)"
   ]
  },
  {
   "cell_type": "markdown",
   "metadata": {},
   "source": [
    "## Conclusion :\n",
    "\n",
    "A propos du service : les coups latéraux droits en M1 sont les plus efficaces en service, et généralement les services en M1 et G3 sont propices à la victoire du point. On peut dire que les stratégies des joueurs diffèrent pour marquer le point. Le joueur B aura tendance à jouer sur M3 tandis que le joueur F jouera sur M1. Le joueur B utilise plus le contrôle/résistance pour des échanges de plus de 4 coups alors que le joueur F utilise plus la poussette et gagne des échanges courts. Concernant les zones de jeu : le joueur B joue plutôt ses balles au fond de la table pour gagner (les zones 3) alors que le joueur F utilise des motifs de transition entre zones du fond et du milieu de la table (des zones 1 à 3 et 3 à 1 : correspond à l'utilisation de la poussette). Les 2 joueurs jouent des coups droits de préférence. B gagne plutôt ses points lorsqu'il en a peu, et lorsque le joueur F est arrivé à 10 points. Au contraire, le joueur F gagne quand les 2 joueurs sont entre 5 et 9 point. EMM nous apprend aussi des tendances, qui sont symétriques entre le joueur F et B, mais elles ne sont pas extrapolables en stratégies car trop précises.\n",
    "\n",
    "De façon générale, le joueur F joue aggressivement, avec des échanges courts, en changeant ses zones de jeu alternativement entre 1 et 3, et gagnant ses points en milieu de set. Le joueur B lui utilise une stratégie de contrôle, sur des échanges longs, en jouant au fond de la table (zones 3). Les services au filet et à l'extrême gauche sont les meilleurs. Les 2 joueurs favorisent les mêmes types de coups."
   ]
  }
 ],
 "metadata": {
  "kernelspec": {
   "display_name": "dcd",
   "language": "python",
   "name": "dcd"
  },
  "language_info": {
   "codemirror_mode": {
    "name": "ipython",
    "version": 3
   },
   "file_extension": ".py",
   "mimetype": "text/x-python",
   "name": "python",
   "nbconvert_exporter": "python",
   "pygments_lexer": "ipython3",
   "version": "3.8.5"
  }
 },
 "nbformat": 4,
 "nbformat_minor": 5
}
